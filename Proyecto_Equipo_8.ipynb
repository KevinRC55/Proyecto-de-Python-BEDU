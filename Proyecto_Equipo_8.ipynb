{
 "cells": [
  {
   "cell_type": "markdown",
   "metadata": {
    "colab_type": "text",
    "id": "view-in-github"
   },
   "source": [
    "<a href=\"https://colab.research.google.com/github/MinervaNunez/Proyecto-de-Python-BEDU/blob/main/bedu_proyecto_python.ipynb\" target=\"_parent\"><img src=\"https://colab.research.google.com/assets/colab-badge.svg\" alt=\"Open In Colab\"/></a>"
   ]
  },
  {
   "cell_type": "markdown",
   "metadata": {
    "id": "j4pLbdnVBPPd"
   },
   "source": [
    "# Proyecto de Python Equipo 8\n",
    "\n",
    ">   *   Nicky García Fierros (nickygarcia@ciencias.unam.mx)\n",
    "    *   Kevin Martin Rivera Castro (kevinrc.unam@gmail.com)\n",
    "    *   Jesús Manuel Jimenez Cardoza (chucho003@hotmail.com)\n",
    "    *   Minerva Estefanía Núñez Manjarrez (estefania.nun.man@gmail.com)\n",
    "    *   Luis Mateo Patricio Pineda (mateopa@gmail.com)"
   ]
  },
  {
   "cell_type": "markdown",
   "metadata": {},
   "source": [
    "## Introducción"
   ]
  },
  {
   "cell_type": "markdown",
   "metadata": {},
   "source": [
    "    Asegúrate de empezar con una introducción donde hables acerca del tema que te llamó la atención. Explica por qué quisiste abordar este tema, cuáles fueron tus preguntas iniciales, y el problema que te gustaría resolver."
   ]
  },
  {
   "cell_type": "markdown",
   "metadata": {},
   "source": [
    "En la actualidad, tener mayor facilidad en el acceso a las ciencias estadísticas e informáticas puede dar una visión diferente a la que se tiene. En México, la violencia y la delincuencia ocupan un espacio importante en la realidad del país, esta realidad nos afecta a todos los mexicanos.\n",
    "\n",
    "Siempre hemos de comprender la situación tan difícil que es perder o extraviar a un ser querido o familiar. Las desapariciones causan impactos constantes en las familias, las cuales viven con el dolor de la pérdida y la incertidumbre. Cada día es más común ver a colectivos y grupos de búsqueda exigir ayuda al estado. Algunos colectivos incluso lideran procesos forenses que han ayudado a encontrar víctimas o dar resolución a los casos (Brewer, 2022). Es por esto que **se identifica como problema de alta relevancia el aumento en los casos de personas desaparecidas o no localizadas en México**. "
   ]
  },
  {
   "cell_type": "markdown",
   "metadata": {},
   "source": [
    "## Librerías necesarias\n"
   ]
  },
  {
   "cell_type": "code",
   "execution_count": 1,
   "metadata": {
    "ExecuteTime": {
     "end_time": "2022-09-15T20:27:33.223352Z",
     "start_time": "2022-09-15T20:27:32.990177Z"
    }
   },
   "outputs": [],
   "source": [
    "import pandas as pd\n",
    "import numpy as np\n",
    "import requests"
   ]
  },
  {
   "cell_type": "markdown",
   "metadata": {},
   "source": [
    "## Colección de Datos"
   ]
  },
  {
   "cell_type": "markdown",
   "metadata": {},
   "source": [
    "### Obtención de los datos mediante API"
   ]
  },
  {
   "cell_type": "markdown",
   "metadata": {},
   "source": [
    "El gobierno de México utiliza el sistema de repositorios de datos abiertos [CKAN](https://datos.gob.mx/blog/ckan?category=api-cdn&tag=educacion) para compartir los Datos Abiertos de las dependencias de la Administración Pública Federal, así como de gobiernos locales.\n",
    "\n",
    "Utilizando la API de CKAN es posible consultar los detalles de los conjuntos de datos que se ofrecen en el portal [datos.gob.mx/busca](https://datos.gob.mx/busca/dataset).\n",
    "\n",
    "De esta forma, mediante peticiones a esta API podemos obtener la URL del conjunto de datos."
   ]
  },
  {
   "cell_type": "markdown",
   "metadata": {},
   "source": [
    "**Realizamos nuestra petición**"
   ]
  },
  {
   "cell_type": "markdown",
   "metadata": {},
   "source": [
    "El endpoint para consultar datos es:\n",
    "\n",
    "https://datos.gob.mx/busca/api/3/action/package_search?q=BUSQUEDA \n",
    "\n",
    "Por lo que pasaremos el valor **\"desaparecidos\"** al parametro *q*, para obtener los datasets relacionados."
   ]
  },
  {
   "cell_type": "code",
   "execution_count": 2,
   "metadata": {
    "ExecuteTime": {
     "end_time": "2022-09-13T20:37:01.099311Z",
     "start_time": "2022-09-13T20:37:01.096756Z"
    }
   },
   "outputs": [],
   "source": [
    "endpoint = 'https://datos.gob.mx/busca/api/3/action/package_search?'\n",
    "payload = {'q': 'desaparecidos'}"
   ]
  },
  {
   "cell_type": "code",
   "execution_count": 3,
   "metadata": {
    "ExecuteTime": {
     "end_time": "2022-09-13T20:37:01.559646Z",
     "start_time": "2022-09-13T20:37:01.103187Z"
    }
   },
   "outputs": [],
   "source": [
    "r = requests.get(endpoint, params=payload)"
   ]
  },
  {
   "cell_type": "code",
   "execution_count": 4,
   "metadata": {
    "ExecuteTime": {
     "end_time": "2022-09-13T20:37:01.577146Z",
     "start_time": "2022-09-13T20:37:01.563550Z"
    }
   },
   "outputs": [
    {
     "data": {
      "text/plain": [
       "200"
      ]
     },
     "execution_count": 4,
     "metadata": {},
     "output_type": "execute_result"
    }
   ],
   "source": [
    "r.status_code"
   ]
  },
  {
   "cell_type": "markdown",
   "metadata": {},
   "source": [
    "> La petición se ha realizado con éxito"
   ]
  },
  {
   "cell_type": "markdown",
   "metadata": {},
   "source": [
    "Guardamos el formato *json* obtenido de la petición echa a la API y visualizamos las llaves principales que contiene"
   ]
  },
  {
   "cell_type": "code",
   "execution_count": 5,
   "metadata": {
    "ExecuteTime": {
     "end_time": "2022-09-13T20:37:01.583288Z",
     "start_time": "2022-09-13T20:37:01.578843Z"
    }
   },
   "outputs": [
    {
     "data": {
      "text/plain": [
       "dict_keys(['help', 'success', 'result'])"
      ]
     },
     "execution_count": 5,
     "metadata": {},
     "output_type": "execute_result"
    }
   ],
   "source": [
    "json = r.json()\n",
    "json.keys()"
   ]
  },
  {
   "cell_type": "markdown",
   "metadata": {
    "ExecuteTime": {
     "end_time": "2022-09-12T19:44:24.768617Z",
     "start_time": "2022-09-12T19:44:24.762200Z"
    }
   },
   "source": [
    "La llave *'result'* es la que nos interesa, exploraremos su contenido para identificar el conjunto de datos que buscamos."
   ]
  },
  {
   "cell_type": "code",
   "execution_count": 6,
   "metadata": {
    "ExecuteTime": {
     "end_time": "2022-09-13T20:37:01.589126Z",
     "start_time": "2022-09-13T20:37:01.585520Z"
    }
   },
   "outputs": [
    {
     "name": "stdout",
     "output_type": "stream",
     "text": [
      "estadisticas-de-apoyo-y-proteccion-a-detenidos-y-desaparecidos\n",
      "registro-nacional-de-datos-de-personas-extraviadas-o-desaparecidas-rnped\n",
      "registro-nacional-de-datos-de-personas-extraviadas-o-desaparecidas-rnped-sitio-espejo-3\n",
      "registro-nacional-de-datos-de-personas-extraviadas-o-desaparecidas-rnped-sitio-espejo-2\n",
      "registro-nacional-de-datos-de-personas-extraviadas-o-desaparecidas-rnped-sitio-espejo-1\n",
      "registro-nacional-de-datos-de-personas-extraviadas-o-desaparecidas-rnped-sitio-espejo-4\n",
      "cantidad-de-derechohabientes-beneficiados-por-el-programa-integral-de-becas-para-hijos-de-milit\n"
     ]
    }
   ],
   "source": [
    "for key in json['result']['results']:\n",
    "    print(key['name'])"
   ]
  },
  {
   "cell_type": "markdown",
   "metadata": {},
   "source": [
    "    | El conjunto de datos que buscamos se encuentra en 'registro-nacional-de-datos-de-personas-extraviadas-o-desaparecidas-rnped' con indice 1."
   ]
  },
  {
   "cell_type": "markdown",
   "metadata": {},
   "source": [
    "Ahora buscaremos el conjunto de datos dentro de este diccionario."
   ]
  },
  {
   "cell_type": "code",
   "execution_count": 7,
   "metadata": {
    "ExecuteTime": {
     "end_time": "2022-09-13T20:37:01.593917Z",
     "start_time": "2022-09-13T20:37:01.590254Z"
    }
   },
   "outputs": [
    {
     "name": "stdout",
     "output_type": "stream",
     "text": [
      "Nombre del Dataset: Base de datos del RNPED del fuero común \n",
      "URL:                https://secretariadoejecutivo.gob.mx/transparencia/datos_abiertos/RNPEDFC.csv \n",
      "\n",
      "Nombre del Dataset: Base de datos del RNPED del fuero federal \n",
      "URL:                https://secretariadoejecutivo.gob.mx/docs/datos_abiertos/RNPEDFF__1.csv \n",
      "\n"
     ]
    }
   ],
   "source": [
    "for key in json['result']['results'][1]['resources']:\n",
    "    print(f\"Nombre del Dataset: {key['name']} \\n{('URL:'):19} {key['url']} \\n\")"
   ]
  },
  {
   "cell_type": "markdown",
   "metadata": {},
   "source": [
    "> Nuestro conjunto de datos es 'Base de datos del RNPED del fuero común' con indice 0."
   ]
  },
  {
   "cell_type": "markdown",
   "metadata": {},
   "source": [
    "Guardamos la URL de nuestro conjunto"
   ]
  },
  {
   "cell_type": "code",
   "execution_count": 8,
   "metadata": {
    "ExecuteTime": {
     "end_time": "2022-09-13T20:37:01.598812Z",
     "start_time": "2022-09-13T20:37:01.594989Z"
    }
   },
   "outputs": [],
   "source": [
    "url = json['result']['results'][1]['resources'][0]['url']"
   ]
  },
  {
   "cell_type": "markdown",
   "metadata": {},
   "source": [
    "**Leemos el archivo .csv a partir de la URL.**"
   ]
  },
  {
   "cell_type": "markdown",
   "metadata": {},
   "source": [
    "En caso de error de conexión por falla del servidor, leemos el dataset directamente de nuestro repostitorio de GitHub."
   ]
  },
  {
   "cell_type": "code",
   "execution_count": 9,
   "metadata": {
    "ExecuteTime": {
     "end_time": "2022-09-13T20:39:17.960599Z",
     "start_time": "2022-09-13T20:37:01.602055Z"
    }
   },
   "outputs": [],
   "source": [
    "try:\n",
    "    raw = pd.read_csv(url, encoding='ISO-8859-1')\n",
    "except:\n",
    "    raw = pd.read_csv('https://raw.githubusercontent.com/MinervaNunez/Proyecto-de-Python-BEDU/main/RNPEDFC.csv', encoding='ISO-8859-1')"
   ]
  },
  {
   "cell_type": "markdown",
   "metadata": {},
   "source": [
    "**Guardamos la versión RAW de los datos en fromato csv y leemos el archivo**"
   ]
  },
  {
   "cell_type": "code",
   "execution_count": 10,
   "metadata": {
    "ExecuteTime": {
     "end_time": "2022-09-13T20:39:18.111668Z",
     "start_time": "2022-09-13T20:39:17.961841Z"
    }
   },
   "outputs": [],
   "source": [
    "raw.to_csv('RNPEDFC.csv', index=False, encoding='ISO-8859-1')"
   ]
  },
  {
   "cell_type": "code",
   "execution_count": 11,
   "metadata": {
    "ExecuteTime": {
     "end_time": "2022-09-15T20:28:30.565469Z",
     "start_time": "2022-09-15T20:28:30.443652Z"
    }
   },
   "outputs": [],
   "source": [
    "df = pd.read_csv('RNPEDFC.csv', encoding='ISO-8859-1')"
   ]
  },
  {
   "cell_type": "markdown",
   "metadata": {},
   "source": [
    "**Obtenermos como resultado nuesto data frame principal.**"
   ]
  },
  {
   "cell_type": "code",
   "execution_count": 12,
   "metadata": {
    "ExecuteTime": {
     "end_time": "2022-09-15T20:28:30.583778Z",
     "start_time": "2022-09-15T20:28:30.567292Z"
    },
    "scrolled": false
   },
   "outputs": [
    {
     "data": {
      "text/html": [
       "<div>\n",
       "<style scoped>\n",
       "    .dataframe tbody tr th:only-of-type {\n",
       "        vertical-align: middle;\n",
       "    }\n",
       "\n",
       "    .dataframe tbody tr th {\n",
       "        vertical-align: top;\n",
       "    }\n",
       "\n",
       "    .dataframe thead th {\n",
       "        text-align: right;\n",
       "    }\n",
       "</style>\n",
       "<table border=\"1\" class=\"dataframe\">\n",
       "  <thead>\n",
       "    <tr style=\"text-align: right;\">\n",
       "      <th></th>\n",
       "      <th>Fecha en que se le vio por ultima vez</th>\n",
       "      <th>Hora en que se le vio por ultima vez</th>\n",
       "      <th>Pais en que se le vio por ultima vez</th>\n",
       "      <th>Entidad en que se le vio por ultima vez</th>\n",
       "      <th>Municipio en que se le vio por ultima vez</th>\n",
       "      <th>Localidad en que se le vio por ultima vez</th>\n",
       "      <th>Nacionalidad</th>\n",
       "      <th>Estatura</th>\n",
       "      <th>Complexion</th>\n",
       "      <th>Sexo</th>\n",
       "      <th>Edad</th>\n",
       "      <th>Descripcion de senas particulares</th>\n",
       "      <th>Etnia</th>\n",
       "      <th>Discapacidad</th>\n",
       "      <th>Dependencia que envio la informacion</th>\n",
       "    </tr>\n",
       "  </thead>\n",
       "  <tbody>\n",
       "    <tr>\n",
       "      <th>0</th>\n",
       "      <td>2012-03-18</td>\n",
       "      <td>05:00:00</td>\n",
       "      <td>MEXICO</td>\n",
       "      <td>SONORA</td>\n",
       "      <td>NAVOJOA</td>\n",
       "      <td>NAVOJOA</td>\n",
       "      <td>MEXICANA</td>\n",
       "      <td>1.1</td>\n",
       "      <td>DELGADA</td>\n",
       "      <td>MUJER</td>\n",
       "      <td>7</td>\n",
       "      <td>TIENE UNA CICATRIZ EN LA RODILLA IZQUIERDA POR...</td>\n",
       "      <td>NO ESPECIFICADO</td>\n",
       "      <td>NINGUNO</td>\n",
       "      <td>FGE - SONORA</td>\n",
       "    </tr>\n",
       "    <tr>\n",
       "      <th>1</th>\n",
       "      <td>2007-02-05</td>\n",
       "      <td>02:00:26</td>\n",
       "      <td>MEXICO</td>\n",
       "      <td>ESTADO DE MEXICO</td>\n",
       "      <td>VALLE DE BRAVO</td>\n",
       "      <td>VALLE DE BRAVO</td>\n",
       "      <td>MEXICANA</td>\n",
       "      <td>1.1</td>\n",
       "      <td>DELGADA</td>\n",
       "      <td>MUJER</td>\n",
       "      <td>4</td>\n",
       "      <td>NO ESPECIFICADO</td>\n",
       "      <td>NO ESPECIFICADO</td>\n",
       "      <td>NINGUNO</td>\n",
       "      <td>FGJ - ESTADO DE MEXICO</td>\n",
       "    </tr>\n",
       "    <tr>\n",
       "      <th>2</th>\n",
       "      <td>2009-03-14</td>\n",
       "      <td>08:30:54</td>\n",
       "      <td>MEXICO</td>\n",
       "      <td>ESTADO DE MEXICO</td>\n",
       "      <td>CHALCO</td>\n",
       "      <td>CHALCO</td>\n",
       "      <td>MEXICANA</td>\n",
       "      <td>1.1</td>\n",
       "      <td>DELGADA</td>\n",
       "      <td>HOMBRE</td>\n",
       "      <td>6</td>\n",
       "      <td>MANCHAS, PARTE SUPERIOR DE PIERNA DERECHA, CIC...</td>\n",
       "      <td>NO ESPECIFICADO</td>\n",
       "      <td>NINGUNO</td>\n",
       "      <td>FGJ - ESTADO DE MEXICO</td>\n",
       "    </tr>\n",
       "    <tr>\n",
       "      <th>3</th>\n",
       "      <td>2006-12-23</td>\n",
       "      <td>08:00:28</td>\n",
       "      <td>MEXICO</td>\n",
       "      <td>ESTADO DE MEXICO</td>\n",
       "      <td>TLALNEPANTLA DE BAZ</td>\n",
       "      <td>TLALNEPANTLA DE BAZ</td>\n",
       "      <td>MEXICANA</td>\n",
       "      <td>1.1</td>\n",
       "      <td>DELGADA</td>\n",
       "      <td>HOMBRE</td>\n",
       "      <td>10</td>\n",
       "      <td>LUNARES, A LA ALTURA DE LA CINTURAFORMA DE MAN...</td>\n",
       "      <td>NO ESPECIFICADO</td>\n",
       "      <td>NINGUNO</td>\n",
       "      <td>FGJ - ESTADO DE MEXICO</td>\n",
       "    </tr>\n",
       "    <tr>\n",
       "      <th>4</th>\n",
       "      <td>2008-01-11</td>\n",
       "      <td>12:00:17</td>\n",
       "      <td>MEXICO</td>\n",
       "      <td>ESTADO DE MEXICO</td>\n",
       "      <td>TOLUCA</td>\n",
       "      <td>TOLUCA</td>\n",
       "      <td>MEXICANA</td>\n",
       "      <td>1.1</td>\n",
       "      <td>DELGADA</td>\n",
       "      <td>HOMBRE</td>\n",
       "      <td>4</td>\n",
       "      <td>NO ESPECIFICADO</td>\n",
       "      <td>NO ESPECIFICADO</td>\n",
       "      <td>NINGUNO</td>\n",
       "      <td>FGJ - ESTADO DE MEXICO</td>\n",
       "    </tr>\n",
       "    <tr>\n",
       "      <th>...</th>\n",
       "      <td>...</td>\n",
       "      <td>...</td>\n",
       "      <td>...</td>\n",
       "      <td>...</td>\n",
       "      <td>...</td>\n",
       "      <td>...</td>\n",
       "      <td>...</td>\n",
       "      <td>...</td>\n",
       "      <td>...</td>\n",
       "      <td>...</td>\n",
       "      <td>...</td>\n",
       "      <td>...</td>\n",
       "      <td>...</td>\n",
       "      <td>...</td>\n",
       "      <td>...</td>\n",
       "    </tr>\n",
       "    <tr>\n",
       "      <th>36260</th>\n",
       "      <td>2018-04-26</td>\n",
       "      <td>08:00:00</td>\n",
       "      <td>MEXICO</td>\n",
       "      <td>PUEBLA</td>\n",
       "      <td>PUEBLA</td>\n",
       "      <td>PUEBLA</td>\n",
       "      <td>MEXICANA</td>\n",
       "      <td>1.6</td>\n",
       "      <td>DELGADA</td>\n",
       "      <td>HOMBRE</td>\n",
       "      <td>22</td>\n",
       "      <td>LUNAR EN LA MEJILLA Y TATUAJE EN EL CUELLO EN ...</td>\n",
       "      <td>NO ESPECIFICADO</td>\n",
       "      <td>NINGUNO</td>\n",
       "      <td>FGE - PUEBLA</td>\n",
       "    </tr>\n",
       "    <tr>\n",
       "      <th>36261</th>\n",
       "      <td>2018-01-08</td>\n",
       "      <td>11:00:00</td>\n",
       "      <td>MEXICO</td>\n",
       "      <td>COLIMA</td>\n",
       "      <td>VILLA DE ALVAREZ</td>\n",
       "      <td>VILLA DE ALVAREZ</td>\n",
       "      <td>MEXICANA</td>\n",
       "      <td>1.7</td>\n",
       "      <td>ROBUSTA</td>\n",
       "      <td>MUJER</td>\n",
       "      <td>27</td>\n",
       "      <td>EL OJO IZQUIERDO TIENE UN ENFERMEDAD COMO TIC,...</td>\n",
       "      <td>NO ESPECIFICADO</td>\n",
       "      <td>NINGUNO</td>\n",
       "      <td>PGJ - COLIMA</td>\n",
       "    </tr>\n",
       "    <tr>\n",
       "      <th>36262</th>\n",
       "      <td>2015-02-02</td>\n",
       "      <td>07:00:00</td>\n",
       "      <td>MEXICO</td>\n",
       "      <td>PUEBLA</td>\n",
       "      <td>CHILA</td>\n",
       "      <td>CHILAS DE LAS FLORES</td>\n",
       "      <td>MEXICANA</td>\n",
       "      <td>1.77</td>\n",
       "      <td>MEDIANA</td>\n",
       "      <td>MUJER</td>\n",
       "      <td>86</td>\n",
       "      <td>NO ESPECIFICADO</td>\n",
       "      <td>NO ESPECIFICADO</td>\n",
       "      <td>NINGUNO</td>\n",
       "      <td>FGE - PUEBLA</td>\n",
       "    </tr>\n",
       "    <tr>\n",
       "      <th>36263</th>\n",
       "      <td>2017-08-22</td>\n",
       "      <td>04:00:00</td>\n",
       "      <td>MEXICO</td>\n",
       "      <td>COLIMA</td>\n",
       "      <td>VILLA DE ALVAREZ</td>\n",
       "      <td>VILLA DE ALVAREZ</td>\n",
       "      <td>MEXICANA</td>\n",
       "      <td>1.76</td>\n",
       "      <td>ROBUSTA</td>\n",
       "      <td>HOMBRE</td>\n",
       "      <td>41</td>\n",
       "      <td>TATUAJE EN EL BRAZO IZQUIERDO CON LA IMAGEN DE...</td>\n",
       "      <td>NO ESPECIFICADO</td>\n",
       "      <td>NINGUNO</td>\n",
       "      <td>PGJ - COLIMA</td>\n",
       "    </tr>\n",
       "    <tr>\n",
       "      <th>36264</th>\n",
       "      <td>2018-04-11</td>\n",
       "      <td>02:00:00</td>\n",
       "      <td>MEXICO</td>\n",
       "      <td>NUEVO LEON</td>\n",
       "      <td>SAN NICOLAS DE LOS GARZA</td>\n",
       "      <td>SAN NICOLAS DE LOS GARZA</td>\n",
       "      <td>MEXICANA</td>\n",
       "      <td>1.6</td>\n",
       "      <td>DELGADA</td>\n",
       "      <td>MUJER</td>\n",
       "      <td>14</td>\n",
       "      <td>NO ESPECIFICADO</td>\n",
       "      <td>NO ESPECIFICADO</td>\n",
       "      <td>NINGUNO</td>\n",
       "      <td>PGJ - NUEVO LEON</td>\n",
       "    </tr>\n",
       "  </tbody>\n",
       "</table>\n",
       "<p>36265 rows × 15 columns</p>\n",
       "</div>"
      ],
      "text/plain": [
       "      Fecha en que se le vio por ultima vez  \\\n",
       "0                                2012-03-18   \n",
       "1                                2007-02-05   \n",
       "2                                2009-03-14   \n",
       "3                                2006-12-23   \n",
       "4                                2008-01-11   \n",
       "...                                     ...   \n",
       "36260                            2018-04-26   \n",
       "36261                            2018-01-08   \n",
       "36262                            2015-02-02   \n",
       "36263                            2017-08-22   \n",
       "36264                            2018-04-11   \n",
       "\n",
       "      Hora en que se le vio por ultima vez  \\\n",
       "0                                 05:00:00   \n",
       "1                                 02:00:26   \n",
       "2                                 08:30:54   \n",
       "3                                 08:00:28   \n",
       "4                                 12:00:17   \n",
       "...                                    ...   \n",
       "36260                             08:00:00   \n",
       "36261                             11:00:00   \n",
       "36262                             07:00:00   \n",
       "36263                             04:00:00   \n",
       "36264                             02:00:00   \n",
       "\n",
       "      Pais en que se le vio por ultima vez  \\\n",
       "0                                   MEXICO   \n",
       "1                                   MEXICO   \n",
       "2                                   MEXICO   \n",
       "3                                   MEXICO   \n",
       "4                                   MEXICO   \n",
       "...                                    ...   \n",
       "36260                               MEXICO   \n",
       "36261                               MEXICO   \n",
       "36262                               MEXICO   \n",
       "36263                               MEXICO   \n",
       "36264                               MEXICO   \n",
       "\n",
       "      Entidad en que se le vio por ultima vez  \\\n",
       "0                                      SONORA   \n",
       "1                            ESTADO DE MEXICO   \n",
       "2                            ESTADO DE MEXICO   \n",
       "3                            ESTADO DE MEXICO   \n",
       "4                            ESTADO DE MEXICO   \n",
       "...                                       ...   \n",
       "36260                                  PUEBLA   \n",
       "36261                                  COLIMA   \n",
       "36262                                  PUEBLA   \n",
       "36263                                  COLIMA   \n",
       "36264                              NUEVO LEON   \n",
       "\n",
       "      Municipio en que se le vio por ultima vez  \\\n",
       "0                                       NAVOJOA   \n",
       "1                                VALLE DE BRAVO   \n",
       "2                                        CHALCO   \n",
       "3                           TLALNEPANTLA DE BAZ   \n",
       "4                                        TOLUCA   \n",
       "...                                         ...   \n",
       "36260                                    PUEBLA   \n",
       "36261                          VILLA DE ALVAREZ   \n",
       "36262                                     CHILA   \n",
       "36263                          VILLA DE ALVAREZ   \n",
       "36264                  SAN NICOLAS DE LOS GARZA   \n",
       "\n",
       "      Localidad en que se le vio por ultima vez Nacionalidad Estatura  \\\n",
       "0                                       NAVOJOA     MEXICANA      1.1   \n",
       "1                                VALLE DE BRAVO     MEXICANA      1.1   \n",
       "2                                        CHALCO     MEXICANA      1.1   \n",
       "3                           TLALNEPANTLA DE BAZ     MEXICANA      1.1   \n",
       "4                                        TOLUCA     MEXICANA      1.1   \n",
       "...                                         ...          ...      ...   \n",
       "36260                                    PUEBLA     MEXICANA      1.6   \n",
       "36261                          VILLA DE ALVAREZ     MEXICANA      1.7   \n",
       "36262                      CHILAS DE LAS FLORES     MEXICANA     1.77   \n",
       "36263                          VILLA DE ALVAREZ     MEXICANA     1.76   \n",
       "36264                  SAN NICOLAS DE LOS GARZA     MEXICANA      1.6   \n",
       "\n",
       "      Complexion    Sexo Edad  \\\n",
       "0        DELGADA   MUJER    7   \n",
       "1        DELGADA   MUJER    4   \n",
       "2        DELGADA  HOMBRE    6   \n",
       "3        DELGADA  HOMBRE   10   \n",
       "4        DELGADA  HOMBRE    4   \n",
       "...          ...     ...  ...   \n",
       "36260    DELGADA  HOMBRE   22   \n",
       "36261    ROBUSTA   MUJER   27   \n",
       "36262    MEDIANA   MUJER   86   \n",
       "36263    ROBUSTA  HOMBRE   41   \n",
       "36264    DELGADA   MUJER   14   \n",
       "\n",
       "                       Descripcion de senas particulares            Etnia  \\\n",
       "0      TIENE UNA CICATRIZ EN LA RODILLA IZQUIERDA POR...  NO ESPECIFICADO   \n",
       "1                                        NO ESPECIFICADO  NO ESPECIFICADO   \n",
       "2      MANCHAS, PARTE SUPERIOR DE PIERNA DERECHA, CIC...  NO ESPECIFICADO   \n",
       "3      LUNARES, A LA ALTURA DE LA CINTURAFORMA DE MAN...  NO ESPECIFICADO   \n",
       "4                                        NO ESPECIFICADO  NO ESPECIFICADO   \n",
       "...                                                  ...              ...   \n",
       "36260  LUNAR EN LA MEJILLA Y TATUAJE EN EL CUELLO EN ...  NO ESPECIFICADO   \n",
       "36261  EL OJO IZQUIERDO TIENE UN ENFERMEDAD COMO TIC,...  NO ESPECIFICADO   \n",
       "36262                                    NO ESPECIFICADO  NO ESPECIFICADO   \n",
       "36263  TATUAJE EN EL BRAZO IZQUIERDO CON LA IMAGEN DE...  NO ESPECIFICADO   \n",
       "36264                                    NO ESPECIFICADO  NO ESPECIFICADO   \n",
       "\n",
       "      Discapacidad Dependencia que envio la informacion  \n",
       "0          NINGUNO                         FGE - SONORA  \n",
       "1          NINGUNO               FGJ - ESTADO DE MEXICO  \n",
       "2          NINGUNO               FGJ - ESTADO DE MEXICO  \n",
       "3          NINGUNO               FGJ - ESTADO DE MEXICO  \n",
       "4          NINGUNO               FGJ - ESTADO DE MEXICO  \n",
       "...            ...                                  ...  \n",
       "36260      NINGUNO                         FGE - PUEBLA  \n",
       "36261      NINGUNO                         PGJ - COLIMA  \n",
       "36262      NINGUNO                         FGE - PUEBLA  \n",
       "36263      NINGUNO                         PGJ - COLIMA  \n",
       "36264      NINGUNO                     PGJ - NUEVO LEON  \n",
       "\n",
       "[36265 rows x 15 columns]"
      ]
     },
     "execution_count": 12,
     "metadata": {},
     "output_type": "execute_result"
    }
   ],
   "source": [
    "df"
   ]
  },
  {
   "cell_type": "markdown",
   "metadata": {
    "id": "7f418359"
   },
   "source": [
    "## Análisis exploratorio de datos"
   ]
  },
  {
   "cell_type": "markdown",
   "metadata": {
    "id": "64a3a988"
   },
   "source": [
    "Primero, obtenemos las dimensiones de nuestro `DataFrame`."
   ]
  },
  {
   "cell_type": "code",
   "execution_count": 13,
   "metadata": {
    "ExecuteTime": {
     "end_time": "2022-09-15T20:28:30.588715Z",
     "start_time": "2022-09-15T20:28:30.585402Z"
    },
    "colab": {
     "base_uri": "https://localhost:8080/"
    },
    "id": "c375fd99",
    "outputId": "ad05e6b9-7abf-4315-e590-ea453c404e82"
   },
   "outputs": [
    {
     "data": {
      "text/plain": [
       "(36265, 15)"
      ]
     },
     "execution_count": 13,
     "metadata": {},
     "output_type": "execute_result"
    }
   ],
   "source": [
    "df.shape"
   ]
  },
  {
   "cell_type": "markdown",
   "metadata": {
    "id": "32dc3855"
   },
   "source": [
    "| Nuestro dataframe tiene 36265 renglones (observaciones), y 15 columnas (variables)."
   ]
  },
  {
   "cell_type": "markdown",
   "metadata": {},
   "source": [
    "**Veamos cuáles son nuestras variables.**"
   ]
  },
  {
   "cell_type": "markdown",
   "metadata": {},
   "source": [
    "Usando dtypes podemos listar cada una de nuestras variables junto con su tipo de dato. "
   ]
  },
  {
   "cell_type": "code",
   "execution_count": 14,
   "metadata": {
    "ExecuteTime": {
     "end_time": "2022-09-15T20:28:30.602682Z",
     "start_time": "2022-09-15T20:28:30.595138Z"
    }
   },
   "outputs": [
    {
     "data": {
      "text/plain": [
       "Fecha en que se le vio por ultima vez        object\n",
       "Hora en que se le vio por ultima vez         object\n",
       "Pais en que se le vio por ultima vez         object\n",
       "Entidad en que se le vio por ultima vez      object\n",
       "Municipio en que se le vio por ultima vez    object\n",
       "Localidad en que se le vio por ultima vez    object\n",
       "Nacionalidad                                 object\n",
       "Estatura                                     object\n",
       "Complexion                                   object\n",
       "Sexo                                         object\n",
       "Edad                                         object\n",
       "Descripcion de senas particulares            object\n",
       "Etnia                                        object\n",
       "Discapacidad                                 object\n",
       "Dependencia que envio la informacion         object\n",
       "dtype: object"
      ]
     },
     "execution_count": 14,
     "metadata": {},
     "output_type": "execute_result"
    }
   ],
   "source": [
    "df.dtypes"
   ]
  },
  {
   "cell_type": "markdown",
   "metadata": {
    "id": "6ca200fb"
   },
   "source": [
    "> De acuerdo con el resultado de la anterior celda, nuestras 15 variables y sus tipos de datos (por defecto) son:\n",
    "    \n",
    "| Nombre de variable | Tipo |\n",
    "| -----------------  | ---- |\n",
    "| Fecha en que se le vio por ultima vez        | object |\n",
    "| Hora en que se le vio por ultima vez         | object |\n",
    "| Pais en que se le vio por ultima vez         | object |\n",
    "| Entidad en que se le vio por ultima vez      | object |\n",
    "| Municipio en que se le vio por ultima vez    | object |\n",
    "| Localidad en que se le vio por ultima vez    | object |\n",
    "| Nacionalidad                                 | object |\n",
    "| Estatura                                     | object |\n",
    "| Complexion                                   | object |\n",
    "| Sexo                                         | object |\n",
    "| Edad                                         | object |\n",
    "| Descripcion de senas particulares            | object |\n",
    "| Etnia                                        | object |\n",
    "| Discapacidad                                 | object |\n",
    "| Dependencia que envio la informacion         | object |\n"
   ]
  },
  {
   "cell_type": "code",
   "execution_count": 15,
   "metadata": {
    "ExecuteTime": {
     "end_time": "2022-09-15T20:28:30.607685Z",
     "start_time": "2022-09-15T20:28:30.604715Z"
    },
    "scrolled": false
   },
   "outputs": [
    {
     "data": {
      "text/plain": [
       "RangeIndex(start=0, stop=36265, step=1)"
      ]
     },
     "execution_count": 15,
     "metadata": {},
     "output_type": "execute_result"
    }
   ],
   "source": [
    "df.index"
   ]
  },
  {
   "cell_type": "markdown",
   "metadata": {
    "id": "b7b9f7ae"
   },
   "source": [
    "> Del anterior comando, `pandas` nos dice que nuestras observaciones están indizadas por valores numéricos que empiezan desde el 0 y terminan en 36265."
   ]
  },
  {
   "cell_type": "markdown",
   "metadata": {},
   "source": [
    "Finalmente, echamos un vistazo a los datos para darnos una mejor idea de cómo está compuesto nuestro `DataFrame` a analizar."
   ]
  },
  {
   "cell_type": "code",
   "execution_count": 16,
   "metadata": {
    "ExecuteTime": {
     "end_time": "2022-09-15T20:28:30.624195Z",
     "start_time": "2022-09-15T20:28:30.609883Z"
    }
   },
   "outputs": [
    {
     "data": {
      "text/html": [
       "<div>\n",
       "<style scoped>\n",
       "    .dataframe tbody tr th:only-of-type {\n",
       "        vertical-align: middle;\n",
       "    }\n",
       "\n",
       "    .dataframe tbody tr th {\n",
       "        vertical-align: top;\n",
       "    }\n",
       "\n",
       "    .dataframe thead th {\n",
       "        text-align: right;\n",
       "    }\n",
       "</style>\n",
       "<table border=\"1\" class=\"dataframe\">\n",
       "  <thead>\n",
       "    <tr style=\"text-align: right;\">\n",
       "      <th></th>\n",
       "      <th>Fecha en que se le vio por ultima vez</th>\n",
       "      <th>Hora en que se le vio por ultima vez</th>\n",
       "      <th>Pais en que se le vio por ultima vez</th>\n",
       "      <th>Entidad en que se le vio por ultima vez</th>\n",
       "      <th>Municipio en que se le vio por ultima vez</th>\n",
       "      <th>Localidad en que se le vio por ultima vez</th>\n",
       "      <th>Nacionalidad</th>\n",
       "      <th>Estatura</th>\n",
       "      <th>Complexion</th>\n",
       "      <th>Sexo</th>\n",
       "      <th>Edad</th>\n",
       "      <th>Descripcion de senas particulares</th>\n",
       "      <th>Etnia</th>\n",
       "      <th>Discapacidad</th>\n",
       "      <th>Dependencia que envio la informacion</th>\n",
       "    </tr>\n",
       "  </thead>\n",
       "  <tbody>\n",
       "    <tr>\n",
       "      <th>0</th>\n",
       "      <td>2012-03-18</td>\n",
       "      <td>05:00:00</td>\n",
       "      <td>MEXICO</td>\n",
       "      <td>SONORA</td>\n",
       "      <td>NAVOJOA</td>\n",
       "      <td>NAVOJOA</td>\n",
       "      <td>MEXICANA</td>\n",
       "      <td>1.1</td>\n",
       "      <td>DELGADA</td>\n",
       "      <td>MUJER</td>\n",
       "      <td>7</td>\n",
       "      <td>TIENE UNA CICATRIZ EN LA RODILLA IZQUIERDA POR...</td>\n",
       "      <td>NO ESPECIFICADO</td>\n",
       "      <td>NINGUNO</td>\n",
       "      <td>FGE - SONORA</td>\n",
       "    </tr>\n",
       "    <tr>\n",
       "      <th>1</th>\n",
       "      <td>2007-02-05</td>\n",
       "      <td>02:00:26</td>\n",
       "      <td>MEXICO</td>\n",
       "      <td>ESTADO DE MEXICO</td>\n",
       "      <td>VALLE DE BRAVO</td>\n",
       "      <td>VALLE DE BRAVO</td>\n",
       "      <td>MEXICANA</td>\n",
       "      <td>1.1</td>\n",
       "      <td>DELGADA</td>\n",
       "      <td>MUJER</td>\n",
       "      <td>4</td>\n",
       "      <td>NO ESPECIFICADO</td>\n",
       "      <td>NO ESPECIFICADO</td>\n",
       "      <td>NINGUNO</td>\n",
       "      <td>FGJ - ESTADO DE MEXICO</td>\n",
       "    </tr>\n",
       "    <tr>\n",
       "      <th>2</th>\n",
       "      <td>2009-03-14</td>\n",
       "      <td>08:30:54</td>\n",
       "      <td>MEXICO</td>\n",
       "      <td>ESTADO DE MEXICO</td>\n",
       "      <td>CHALCO</td>\n",
       "      <td>CHALCO</td>\n",
       "      <td>MEXICANA</td>\n",
       "      <td>1.1</td>\n",
       "      <td>DELGADA</td>\n",
       "      <td>HOMBRE</td>\n",
       "      <td>6</td>\n",
       "      <td>MANCHAS, PARTE SUPERIOR DE PIERNA DERECHA, CIC...</td>\n",
       "      <td>NO ESPECIFICADO</td>\n",
       "      <td>NINGUNO</td>\n",
       "      <td>FGJ - ESTADO DE MEXICO</td>\n",
       "    </tr>\n",
       "    <tr>\n",
       "      <th>3</th>\n",
       "      <td>2006-12-23</td>\n",
       "      <td>08:00:28</td>\n",
       "      <td>MEXICO</td>\n",
       "      <td>ESTADO DE MEXICO</td>\n",
       "      <td>TLALNEPANTLA DE BAZ</td>\n",
       "      <td>TLALNEPANTLA DE BAZ</td>\n",
       "      <td>MEXICANA</td>\n",
       "      <td>1.1</td>\n",
       "      <td>DELGADA</td>\n",
       "      <td>HOMBRE</td>\n",
       "      <td>10</td>\n",
       "      <td>LUNARES, A LA ALTURA DE LA CINTURAFORMA DE MAN...</td>\n",
       "      <td>NO ESPECIFICADO</td>\n",
       "      <td>NINGUNO</td>\n",
       "      <td>FGJ - ESTADO DE MEXICO</td>\n",
       "    </tr>\n",
       "    <tr>\n",
       "      <th>4</th>\n",
       "      <td>2008-01-11</td>\n",
       "      <td>12:00:17</td>\n",
       "      <td>MEXICO</td>\n",
       "      <td>ESTADO DE MEXICO</td>\n",
       "      <td>TOLUCA</td>\n",
       "      <td>TOLUCA</td>\n",
       "      <td>MEXICANA</td>\n",
       "      <td>1.1</td>\n",
       "      <td>DELGADA</td>\n",
       "      <td>HOMBRE</td>\n",
       "      <td>4</td>\n",
       "      <td>NO ESPECIFICADO</td>\n",
       "      <td>NO ESPECIFICADO</td>\n",
       "      <td>NINGUNO</td>\n",
       "      <td>FGJ - ESTADO DE MEXICO</td>\n",
       "    </tr>\n",
       "  </tbody>\n",
       "</table>\n",
       "</div>"
      ],
      "text/plain": [
       "  Fecha en que se le vio por ultima vez Hora en que se le vio por ultima vez  \\\n",
       "0                            2012-03-18                             05:00:00   \n",
       "1                            2007-02-05                             02:00:26   \n",
       "2                            2009-03-14                             08:30:54   \n",
       "3                            2006-12-23                             08:00:28   \n",
       "4                            2008-01-11                             12:00:17   \n",
       "\n",
       "  Pais en que se le vio por ultima vez  \\\n",
       "0                               MEXICO   \n",
       "1                               MEXICO   \n",
       "2                               MEXICO   \n",
       "3                               MEXICO   \n",
       "4                               MEXICO   \n",
       "\n",
       "  Entidad en que se le vio por ultima vez  \\\n",
       "0                                  SONORA   \n",
       "1                        ESTADO DE MEXICO   \n",
       "2                        ESTADO DE MEXICO   \n",
       "3                        ESTADO DE MEXICO   \n",
       "4                        ESTADO DE MEXICO   \n",
       "\n",
       "  Municipio en que se le vio por ultima vez  \\\n",
       "0                                   NAVOJOA   \n",
       "1                            VALLE DE BRAVO   \n",
       "2                                    CHALCO   \n",
       "3                       TLALNEPANTLA DE BAZ   \n",
       "4                                    TOLUCA   \n",
       "\n",
       "  Localidad en que se le vio por ultima vez Nacionalidad Estatura Complexion  \\\n",
       "0                                   NAVOJOA     MEXICANA      1.1    DELGADA   \n",
       "1                            VALLE DE BRAVO     MEXICANA      1.1    DELGADA   \n",
       "2                                    CHALCO     MEXICANA      1.1    DELGADA   \n",
       "3                       TLALNEPANTLA DE BAZ     MEXICANA      1.1    DELGADA   \n",
       "4                                    TOLUCA     MEXICANA      1.1    DELGADA   \n",
       "\n",
       "     Sexo Edad                  Descripcion de senas particulares  \\\n",
       "0   MUJER    7  TIENE UNA CICATRIZ EN LA RODILLA IZQUIERDA POR...   \n",
       "1   MUJER    4                                    NO ESPECIFICADO   \n",
       "2  HOMBRE    6  MANCHAS, PARTE SUPERIOR DE PIERNA DERECHA, CIC...   \n",
       "3  HOMBRE   10  LUNARES, A LA ALTURA DE LA CINTURAFORMA DE MAN...   \n",
       "4  HOMBRE    4                                    NO ESPECIFICADO   \n",
       "\n",
       "             Etnia Discapacidad Dependencia que envio la informacion  \n",
       "0  NO ESPECIFICADO      NINGUNO                         FGE - SONORA  \n",
       "1  NO ESPECIFICADO      NINGUNO               FGJ - ESTADO DE MEXICO  \n",
       "2  NO ESPECIFICADO      NINGUNO               FGJ - ESTADO DE MEXICO  \n",
       "3  NO ESPECIFICADO      NINGUNO               FGJ - ESTADO DE MEXICO  \n",
       "4  NO ESPECIFICADO      NINGUNO               FGJ - ESTADO DE MEXICO  "
      ]
     },
     "execution_count": 16,
     "metadata": {},
     "output_type": "execute_result"
    }
   ],
   "source": [
    "df.head(5)"
   ]
  },
  {
   "cell_type": "code",
   "execution_count": 17,
   "metadata": {
    "ExecuteTime": {
     "end_time": "2022-09-15T20:28:30.636885Z",
     "start_time": "2022-09-15T20:28:30.625707Z"
    },
    "scrolled": false
   },
   "outputs": [
    {
     "data": {
      "text/html": [
       "<div>\n",
       "<style scoped>\n",
       "    .dataframe tbody tr th:only-of-type {\n",
       "        vertical-align: middle;\n",
       "    }\n",
       "\n",
       "    .dataframe tbody tr th {\n",
       "        vertical-align: top;\n",
       "    }\n",
       "\n",
       "    .dataframe thead th {\n",
       "        text-align: right;\n",
       "    }\n",
       "</style>\n",
       "<table border=\"1\" class=\"dataframe\">\n",
       "  <thead>\n",
       "    <tr style=\"text-align: right;\">\n",
       "      <th></th>\n",
       "      <th>Fecha en que se le vio por ultima vez</th>\n",
       "      <th>Hora en que se le vio por ultima vez</th>\n",
       "      <th>Pais en que se le vio por ultima vez</th>\n",
       "      <th>Entidad en que se le vio por ultima vez</th>\n",
       "      <th>Municipio en que se le vio por ultima vez</th>\n",
       "      <th>Localidad en que se le vio por ultima vez</th>\n",
       "      <th>Nacionalidad</th>\n",
       "      <th>Estatura</th>\n",
       "      <th>Complexion</th>\n",
       "      <th>Sexo</th>\n",
       "      <th>Edad</th>\n",
       "      <th>Descripcion de senas particulares</th>\n",
       "      <th>Etnia</th>\n",
       "      <th>Discapacidad</th>\n",
       "      <th>Dependencia que envio la informacion</th>\n",
       "    </tr>\n",
       "  </thead>\n",
       "  <tbody>\n",
       "    <tr>\n",
       "      <th>36255</th>\n",
       "      <td>2018-04-25</td>\n",
       "      <td>06:30:00</td>\n",
       "      <td>MEXICO</td>\n",
       "      <td>PUEBLA</td>\n",
       "      <td>SAN MARTIN TEXMELUCAN</td>\n",
       "      <td>SAN MARTIN TEXMELUCAN</td>\n",
       "      <td>MEXICANA</td>\n",
       "      <td>1.7</td>\n",
       "      <td>DELGADA</td>\n",
       "      <td>HOMBRE</td>\n",
       "      <td>26</td>\n",
       "      <td>PECAS EN EL ROSTRO, PERFORACION EN LA ORJA IZQ...</td>\n",
       "      <td>NO ESPECIFICADO</td>\n",
       "      <td>NINGUNO</td>\n",
       "      <td>FGE - PUEBLA</td>\n",
       "    </tr>\n",
       "    <tr>\n",
       "      <th>36256</th>\n",
       "      <td>2018-04-22</td>\n",
       "      <td>11:30:00</td>\n",
       "      <td>MEXICO</td>\n",
       "      <td>PUEBLA</td>\n",
       "      <td>PUEBLA</td>\n",
       "      <td>PUEBLA</td>\n",
       "      <td>MEXICANA</td>\n",
       "      <td>1.52</td>\n",
       "      <td>DELGADA</td>\n",
       "      <td>MUJER</td>\n",
       "      <td>18</td>\n",
       "      <td>PERFORACION EN LA LENGUA Y MANCHA BLANCA EN ME...</td>\n",
       "      <td>NO ESPECIFICADO</td>\n",
       "      <td>NINGUNO</td>\n",
       "      <td>FGE - PUEBLA</td>\n",
       "    </tr>\n",
       "    <tr>\n",
       "      <th>36257</th>\n",
       "      <td>2017-07-02</td>\n",
       "      <td>11:14:59</td>\n",
       "      <td>MEXICO</td>\n",
       "      <td>SONORA</td>\n",
       "      <td>CANANEA</td>\n",
       "      <td>CANANEA</td>\n",
       "      <td>MEXICANA</td>\n",
       "      <td>NO ESPECIFICADO</td>\n",
       "      <td>NO ESPECIFICADO</td>\n",
       "      <td>HOMBRE</td>\n",
       "      <td>NO ESPECIFICADO</td>\n",
       "      <td>NO ESPECIFICADO</td>\n",
       "      <td>NO ESPECIFICADO</td>\n",
       "      <td>NINGUNO</td>\n",
       "      <td>FGE - SONORA</td>\n",
       "    </tr>\n",
       "    <tr>\n",
       "      <th>36258</th>\n",
       "      <td>2017-04-06</td>\n",
       "      <td>02:00:00</td>\n",
       "      <td>MEXICO</td>\n",
       "      <td>COLIMA</td>\n",
       "      <td>MANZANILLO</td>\n",
       "      <td>SANTIAGO</td>\n",
       "      <td>MEXICANA</td>\n",
       "      <td>1.71</td>\n",
       "      <td>ROBUSTA</td>\n",
       "      <td>HOMBRE</td>\n",
       "      <td>22</td>\n",
       "      <td>NO ESPECIFICADO</td>\n",
       "      <td>NO ESPECIFICADO</td>\n",
       "      <td>NINGUNO</td>\n",
       "      <td>PGJ - COLIMA</td>\n",
       "    </tr>\n",
       "    <tr>\n",
       "      <th>36259</th>\n",
       "      <td>2018-04-15</td>\n",
       "      <td>06:30:00</td>\n",
       "      <td>MEXICO</td>\n",
       "      <td>COLIMA</td>\n",
       "      <td>COLIMA</td>\n",
       "      <td>COLIMA</td>\n",
       "      <td>MEXICANA</td>\n",
       "      <td>1.59</td>\n",
       "      <td>ROBUSTA</td>\n",
       "      <td>HOMBRE</td>\n",
       "      <td>57</td>\n",
       "      <td>TIENE UNA CICATRIZ EN LA PARTE BAJA DE SU ABDO...</td>\n",
       "      <td>NO ESPECIFICADO</td>\n",
       "      <td>NINGUNO</td>\n",
       "      <td>PGJ - COLIMA</td>\n",
       "    </tr>\n",
       "    <tr>\n",
       "      <th>36260</th>\n",
       "      <td>2018-04-26</td>\n",
       "      <td>08:00:00</td>\n",
       "      <td>MEXICO</td>\n",
       "      <td>PUEBLA</td>\n",
       "      <td>PUEBLA</td>\n",
       "      <td>PUEBLA</td>\n",
       "      <td>MEXICANA</td>\n",
       "      <td>1.6</td>\n",
       "      <td>DELGADA</td>\n",
       "      <td>HOMBRE</td>\n",
       "      <td>22</td>\n",
       "      <td>LUNAR EN LA MEJILLA Y TATUAJE EN EL CUELLO EN ...</td>\n",
       "      <td>NO ESPECIFICADO</td>\n",
       "      <td>NINGUNO</td>\n",
       "      <td>FGE - PUEBLA</td>\n",
       "    </tr>\n",
       "    <tr>\n",
       "      <th>36261</th>\n",
       "      <td>2018-01-08</td>\n",
       "      <td>11:00:00</td>\n",
       "      <td>MEXICO</td>\n",
       "      <td>COLIMA</td>\n",
       "      <td>VILLA DE ALVAREZ</td>\n",
       "      <td>VILLA DE ALVAREZ</td>\n",
       "      <td>MEXICANA</td>\n",
       "      <td>1.7</td>\n",
       "      <td>ROBUSTA</td>\n",
       "      <td>MUJER</td>\n",
       "      <td>27</td>\n",
       "      <td>EL OJO IZQUIERDO TIENE UN ENFERMEDAD COMO TIC,...</td>\n",
       "      <td>NO ESPECIFICADO</td>\n",
       "      <td>NINGUNO</td>\n",
       "      <td>PGJ - COLIMA</td>\n",
       "    </tr>\n",
       "    <tr>\n",
       "      <th>36262</th>\n",
       "      <td>2015-02-02</td>\n",
       "      <td>07:00:00</td>\n",
       "      <td>MEXICO</td>\n",
       "      <td>PUEBLA</td>\n",
       "      <td>CHILA</td>\n",
       "      <td>CHILAS DE LAS FLORES</td>\n",
       "      <td>MEXICANA</td>\n",
       "      <td>1.77</td>\n",
       "      <td>MEDIANA</td>\n",
       "      <td>MUJER</td>\n",
       "      <td>86</td>\n",
       "      <td>NO ESPECIFICADO</td>\n",
       "      <td>NO ESPECIFICADO</td>\n",
       "      <td>NINGUNO</td>\n",
       "      <td>FGE - PUEBLA</td>\n",
       "    </tr>\n",
       "    <tr>\n",
       "      <th>36263</th>\n",
       "      <td>2017-08-22</td>\n",
       "      <td>04:00:00</td>\n",
       "      <td>MEXICO</td>\n",
       "      <td>COLIMA</td>\n",
       "      <td>VILLA DE ALVAREZ</td>\n",
       "      <td>VILLA DE ALVAREZ</td>\n",
       "      <td>MEXICANA</td>\n",
       "      <td>1.76</td>\n",
       "      <td>ROBUSTA</td>\n",
       "      <td>HOMBRE</td>\n",
       "      <td>41</td>\n",
       "      <td>TATUAJE EN EL BRAZO IZQUIERDO CON LA IMAGEN DE...</td>\n",
       "      <td>NO ESPECIFICADO</td>\n",
       "      <td>NINGUNO</td>\n",
       "      <td>PGJ - COLIMA</td>\n",
       "    </tr>\n",
       "    <tr>\n",
       "      <th>36264</th>\n",
       "      <td>2018-04-11</td>\n",
       "      <td>02:00:00</td>\n",
       "      <td>MEXICO</td>\n",
       "      <td>NUEVO LEON</td>\n",
       "      <td>SAN NICOLAS DE LOS GARZA</td>\n",
       "      <td>SAN NICOLAS DE LOS GARZA</td>\n",
       "      <td>MEXICANA</td>\n",
       "      <td>1.6</td>\n",
       "      <td>DELGADA</td>\n",
       "      <td>MUJER</td>\n",
       "      <td>14</td>\n",
       "      <td>NO ESPECIFICADO</td>\n",
       "      <td>NO ESPECIFICADO</td>\n",
       "      <td>NINGUNO</td>\n",
       "      <td>PGJ - NUEVO LEON</td>\n",
       "    </tr>\n",
       "  </tbody>\n",
       "</table>\n",
       "</div>"
      ],
      "text/plain": [
       "      Fecha en que se le vio por ultima vez  \\\n",
       "36255                            2018-04-25   \n",
       "36256                            2018-04-22   \n",
       "36257                            2017-07-02   \n",
       "36258                            2017-04-06   \n",
       "36259                            2018-04-15   \n",
       "36260                            2018-04-26   \n",
       "36261                            2018-01-08   \n",
       "36262                            2015-02-02   \n",
       "36263                            2017-08-22   \n",
       "36264                            2018-04-11   \n",
       "\n",
       "      Hora en que se le vio por ultima vez  \\\n",
       "36255                             06:30:00   \n",
       "36256                             11:30:00   \n",
       "36257                             11:14:59   \n",
       "36258                             02:00:00   \n",
       "36259                             06:30:00   \n",
       "36260                             08:00:00   \n",
       "36261                             11:00:00   \n",
       "36262                             07:00:00   \n",
       "36263                             04:00:00   \n",
       "36264                             02:00:00   \n",
       "\n",
       "      Pais en que se le vio por ultima vez  \\\n",
       "36255                               MEXICO   \n",
       "36256                               MEXICO   \n",
       "36257                               MEXICO   \n",
       "36258                               MEXICO   \n",
       "36259                               MEXICO   \n",
       "36260                               MEXICO   \n",
       "36261                               MEXICO   \n",
       "36262                               MEXICO   \n",
       "36263                               MEXICO   \n",
       "36264                               MEXICO   \n",
       "\n",
       "      Entidad en que se le vio por ultima vez  \\\n",
       "36255                                  PUEBLA   \n",
       "36256                                  PUEBLA   \n",
       "36257                                  SONORA   \n",
       "36258                                  COLIMA   \n",
       "36259                                  COLIMA   \n",
       "36260                                  PUEBLA   \n",
       "36261                                  COLIMA   \n",
       "36262                                  PUEBLA   \n",
       "36263                                  COLIMA   \n",
       "36264                              NUEVO LEON   \n",
       "\n",
       "      Municipio en que se le vio por ultima vez  \\\n",
       "36255                     SAN MARTIN TEXMELUCAN   \n",
       "36256                                    PUEBLA   \n",
       "36257                                   CANANEA   \n",
       "36258                                MANZANILLO   \n",
       "36259                                    COLIMA   \n",
       "36260                                    PUEBLA   \n",
       "36261                          VILLA DE ALVAREZ   \n",
       "36262                                     CHILA   \n",
       "36263                          VILLA DE ALVAREZ   \n",
       "36264                  SAN NICOLAS DE LOS GARZA   \n",
       "\n",
       "      Localidad en que se le vio por ultima vez Nacionalidad         Estatura  \\\n",
       "36255                     SAN MARTIN TEXMELUCAN     MEXICANA              1.7   \n",
       "36256                                    PUEBLA     MEXICANA             1.52   \n",
       "36257                                   CANANEA     MEXICANA  NO ESPECIFICADO   \n",
       "36258                                  SANTIAGO     MEXICANA             1.71   \n",
       "36259                                    COLIMA     MEXICANA             1.59   \n",
       "36260                                    PUEBLA     MEXICANA              1.6   \n",
       "36261                          VILLA DE ALVAREZ     MEXICANA              1.7   \n",
       "36262                      CHILAS DE LAS FLORES     MEXICANA             1.77   \n",
       "36263                          VILLA DE ALVAREZ     MEXICANA             1.76   \n",
       "36264                  SAN NICOLAS DE LOS GARZA     MEXICANA              1.6   \n",
       "\n",
       "            Complexion    Sexo             Edad  \\\n",
       "36255          DELGADA  HOMBRE               26   \n",
       "36256          DELGADA   MUJER               18   \n",
       "36257  NO ESPECIFICADO  HOMBRE  NO ESPECIFICADO   \n",
       "36258          ROBUSTA  HOMBRE               22   \n",
       "36259          ROBUSTA  HOMBRE               57   \n",
       "36260          DELGADA  HOMBRE               22   \n",
       "36261          ROBUSTA   MUJER               27   \n",
       "36262          MEDIANA   MUJER               86   \n",
       "36263          ROBUSTA  HOMBRE               41   \n",
       "36264          DELGADA   MUJER               14   \n",
       "\n",
       "                       Descripcion de senas particulares            Etnia  \\\n",
       "36255  PECAS EN EL ROSTRO, PERFORACION EN LA ORJA IZQ...  NO ESPECIFICADO   \n",
       "36256  PERFORACION EN LA LENGUA Y MANCHA BLANCA EN ME...  NO ESPECIFICADO   \n",
       "36257                                    NO ESPECIFICADO  NO ESPECIFICADO   \n",
       "36258                                    NO ESPECIFICADO  NO ESPECIFICADO   \n",
       "36259  TIENE UNA CICATRIZ EN LA PARTE BAJA DE SU ABDO...  NO ESPECIFICADO   \n",
       "36260  LUNAR EN LA MEJILLA Y TATUAJE EN EL CUELLO EN ...  NO ESPECIFICADO   \n",
       "36261  EL OJO IZQUIERDO TIENE UN ENFERMEDAD COMO TIC,...  NO ESPECIFICADO   \n",
       "36262                                    NO ESPECIFICADO  NO ESPECIFICADO   \n",
       "36263  TATUAJE EN EL BRAZO IZQUIERDO CON LA IMAGEN DE...  NO ESPECIFICADO   \n",
       "36264                                    NO ESPECIFICADO  NO ESPECIFICADO   \n",
       "\n",
       "      Discapacidad Dependencia que envio la informacion  \n",
       "36255      NINGUNO                         FGE - PUEBLA  \n",
       "36256      NINGUNO                         FGE - PUEBLA  \n",
       "36257      NINGUNO                         FGE - SONORA  \n",
       "36258      NINGUNO                         PGJ - COLIMA  \n",
       "36259      NINGUNO                         PGJ - COLIMA  \n",
       "36260      NINGUNO                         FGE - PUEBLA  \n",
       "36261      NINGUNO                         PGJ - COLIMA  \n",
       "36262      NINGUNO                         FGE - PUEBLA  \n",
       "36263      NINGUNO                         PGJ - COLIMA  \n",
       "36264      NINGUNO                     PGJ - NUEVO LEON  "
      ]
     },
     "execution_count": 17,
     "metadata": {},
     "output_type": "execute_result"
    }
   ],
   "source": [
    "df.tail(10)"
   ]
  },
  {
   "cell_type": "markdown",
   "metadata": {},
   "source": [
    "> Del vistazo a los últimos 10 valores de nuestro dataset podemos observar que nuestro dataset contiene algunos datos faltantes etiquetados por el valor `NO ESPECIFICADO`. Esto es importante tenerlo en cuenta para nuestra limpieza de datos."
   ]
  },
  {
   "cell_type": "markdown",
   "metadata": {},
   "source": [
    "### Explorando columnas"
   ]
  },
  {
   "cell_type": "markdown",
   "metadata": {},
   "source": [
    "Para la exploración de nuetras columnas crearemos una función a la que le podamos pasar como parámetros el nombre de nuestro dataset y la columna de la cual queramos conocer los diferentes valores posibles que toma."
   ]
  },
  {
   "cell_type": "code",
   "execution_count": 18,
   "metadata": {
    "ExecuteTime": {
     "end_time": "2022-09-15T20:28:30.642215Z",
     "start_time": "2022-09-15T20:28:30.639380Z"
    }
   },
   "outputs": [],
   "source": [
    "def val_unicos_col(df, col_name):\n",
    "    return set(df[col_name])"
   ]
  },
  {
   "cell_type": "markdown",
   "metadata": {},
   "source": [
    "**Fecha en que se le vio por última vez**"
   ]
  },
  {
   "cell_type": "code",
   "execution_count": 19,
   "metadata": {
    "ExecuteTime": {
     "end_time": "2022-09-15T20:28:30.650241Z",
     "start_time": "2022-09-15T20:28:30.644253Z"
    }
   },
   "outputs": [
    {
     "data": {
      "text/plain": [
       "0        2012-03-18\n",
       "1        2007-02-05\n",
       "2        2009-03-14\n",
       "3        2006-12-23\n",
       "4        2008-01-11\n",
       "            ...    \n",
       "36260    2018-04-26\n",
       "36261    2018-01-08\n",
       "36262    2015-02-02\n",
       "36263    2017-08-22\n",
       "36264    2018-04-11\n",
       "Name: Fecha en que se le vio por ultima vez, Length: 36265, dtype: object"
      ]
     },
     "execution_count": 19,
     "metadata": {},
     "output_type": "execute_result"
    }
   ],
   "source": [
    "df['Fecha en que se le vio por ultima vez']"
   ]
  },
  {
   "cell_type": "markdown",
   "metadata": {},
   "source": [
    "En esta columna podemos observar entre que años se encuentran los registros de desapariciones de nuestro dataset."
   ]
  },
  {
   "cell_type": "code",
   "execution_count": 20,
   "metadata": {
    "ExecuteTime": {
     "end_time": "2022-09-15T20:28:30.681137Z",
     "start_time": "2022-09-15T20:28:30.655028Z"
    }
   },
   "outputs": [
    {
     "name": "stdout",
     "output_type": "stream",
     "text": [
      "Fecha más antigua: 1968\n",
      "Fecha más reciente: 2018\n"
     ]
    }
   ],
   "source": [
    "years = pd.to_numeric(df['Fecha en que se le vio por ultima vez'].str[:4], errors='coerce')\n",
    "\n",
    "print(f\"Fecha más antigua: {round(years.min())}\")\n",
    "print(f\"Fecha más reciente: {round(years.max())}\")"
   ]
  },
  {
   "cell_type": "markdown",
   "metadata": {},
   "source": [
    "> Nuestros registros van de 1968 a 2018, esto nos dice que hay registros de personas desaparecidas desde 1968 que hasta la fecha no han podido ser localizadas."
   ]
  },
  {
   "cell_type": "markdown",
   "metadata": {},
   "source": [
    "**País en que se le vio por última vez**"
   ]
  },
  {
   "cell_type": "markdown",
   "metadata": {},
   "source": [
    "¿Será que existe alguna observación para la cual el pais donde se le vió por última vez sea distinto de México?\n",
    "Para contestar esta incógnita podemos ver si la cantidad de registros que satisfacen que `df['Pais en que se le vio por ultima vez'] != 'MEXICO']` es mayor a 0"
   ]
  },
  {
   "cell_type": "code",
   "execution_count": 21,
   "metadata": {
    "ExecuteTime": {
     "end_time": "2022-09-15T20:28:30.688484Z",
     "start_time": "2022-09-15T20:28:30.682662Z"
    }
   },
   "outputs": [
    {
     "data": {
      "text/plain": [
       "False"
      ]
     },
     "execution_count": 21,
     "metadata": {},
     "output_type": "execute_result"
    }
   ],
   "source": [
    "len(df.loc[df['Pais en que se le vio por ultima vez'] != 'MEXICO']) > 0"
   ]
  },
  {
   "cell_type": "markdown",
   "metadata": {},
   "source": [
    "> Como la instrucción anterior retornó `False`, entonces el País en el que se le vio por última vez siempre es México."
   ]
  },
  {
   "cell_type": "markdown",
   "metadata": {},
   "source": [
    "**Entidad en que se le vio por última vez**"
   ]
  },
  {
   "cell_type": "markdown",
   "metadata": {},
   "source": [
    "¿Cuáles son todos los posibles valores que puede tomar la variable `Entidad en que se le vio por ultima vez`?"
   ]
  },
  {
   "cell_type": "code",
   "execution_count": 22,
   "metadata": {
    "ExecuteTime": {
     "end_time": "2022-09-15T20:28:30.696477Z",
     "start_time": "2022-09-15T20:28:30.690209Z"
    },
    "scrolled": false
   },
   "outputs": [
    {
     "data": {
      "text/plain": [
       "{'AGUASCALIENTES',\n",
       " 'BAJA CALIFORNIA',\n",
       " 'BAJA CALIFORNIA SUR',\n",
       " 'CAMPECHE',\n",
       " 'CHIAPAS',\n",
       " 'CHIHUAHUA',\n",
       " 'CIUDAD DE MEXICO',\n",
       " 'COAHUILA DE ZARAGOZA',\n",
       " 'COLIMA',\n",
       " 'DURANGO',\n",
       " 'ESTADO DE MEXICO',\n",
       " 'GUANAJUATO',\n",
       " 'GUERRERO',\n",
       " 'HIDALGO',\n",
       " 'JALISCO',\n",
       " 'MICHOACAN',\n",
       " 'MORELOS',\n",
       " 'NAYARIT',\n",
       " 'NO ESPECIFICADO',\n",
       " 'NUEVO LEON',\n",
       " 'OAXACA',\n",
       " 'PUEBLA',\n",
       " 'QUERETARO',\n",
       " 'QUINTANA ROO',\n",
       " 'SAN LUIS POTOSI',\n",
       " 'SINALOA',\n",
       " 'SONORA',\n",
       " 'TABASCO',\n",
       " 'TAMAULIPAS',\n",
       " 'TLAXCALA',\n",
       " 'VERACRUZ',\n",
       " 'YUCATAN',\n",
       " 'ZACATECAS'}"
      ]
     },
     "execution_count": 22,
     "metadata": {},
     "output_type": "execute_result"
    }
   ],
   "source": [
    "columna = 'Entidad en que se le vio por ultima vez'\n",
    "\n",
    "val_unicos_col(df, columna)"
   ]
  },
  {
   "cell_type": "markdown",
   "metadata": {},
   "source": [
    "> Podemos observar que nuestros dataset contiene registros de los 32 estados de la república mexicana"
   ]
  },
  {
   "cell_type": "markdown",
   "metadata": {},
   "source": [
    "**Municipio en que se le vio por última vez**"
   ]
  },
  {
   "cell_type": "markdown",
   "metadata": {},
   "source": [
    "¿Cuáles son todos los posibles valores que puede tomar esta variable?"
   ]
  },
  {
   "cell_type": "code",
   "execution_count": 23,
   "metadata": {
    "ExecuteTime": {
     "end_time": "2022-09-15T20:28:30.704900Z",
     "start_time": "2022-09-15T20:28:30.698128Z"
    }
   },
   "outputs": [
    {
     "data": {
      "text/plain": [
       "1068"
      ]
     },
     "execution_count": 23,
     "metadata": {},
     "output_type": "execute_result"
    }
   ],
   "source": [
    "columna = 'Municipio en que se le vio por ultima vez'\n",
    "\n",
    "len(val_unicos_col(df, columna))"
   ]
  },
  {
   "cell_type": "markdown",
   "metadata": {},
   "source": [
    "> Vemos que son muchos los municipios, por lo que mejor preguntamos por la cantidad de municipios únicos. La respuesta a esta pregunta es 1068 municipios únicos."
   ]
  },
  {
   "cell_type": "markdown",
   "metadata": {},
   "source": [
    "**Localidad en que se le vio por última vez**"
   ]
  },
  {
   "cell_type": "markdown",
   "metadata": {},
   "source": [
    "¿Cuáles son todos los posibles valores que puede tomar esta variable?"
   ]
  },
  {
   "cell_type": "code",
   "execution_count": 24,
   "metadata": {
    "ExecuteTime": {
     "end_time": "2022-09-15T20:28:30.714678Z",
     "start_time": "2022-09-15T20:28:30.706343Z"
    },
    "scrolled": false
   },
   "outputs": [
    {
     "data": {
      "text/plain": [
       "2676"
      ]
     },
     "execution_count": 24,
     "metadata": {},
     "output_type": "execute_result"
    }
   ],
   "source": [
    "col_name = 'Localidad en que se le vio por ultima vez'\n",
    "\n",
    "len(val_unicos_col(df, col_name))"
   ]
  },
  {
   "cell_type": "markdown",
   "metadata": {},
   "source": [
    "> De nuevo, vemos que son muchas las localidades, por lo que mejor preguntamos por la cantidad de valores únicos que toma la variable. La respuesta a esta pregunta es 2676 localidades únicas."
   ]
  },
  {
   "cell_type": "markdown",
   "metadata": {},
   "source": [
    "**Nacionalidad**"
   ]
  },
  {
   "cell_type": "markdown",
   "metadata": {},
   "source": [
    "Vale la pena preguntarse si la variable Nacionalidad toma valores distintos de MEXICANA."
   ]
  },
  {
   "cell_type": "code",
   "execution_count": 25,
   "metadata": {
    "ExecuteTime": {
     "end_time": "2022-09-15T20:28:30.723256Z",
     "start_time": "2022-09-15T20:28:30.717572Z"
    }
   },
   "outputs": [
    {
     "data": {
      "text/plain": [
       "{'ALEMANA',\n",
       " 'ARGENTINA',\n",
       " 'BRASILEÑA',\n",
       " 'CANADIENSE',\n",
       " 'CHINA',\n",
       " 'COLOMBIANA',\n",
       " 'COSTARICENSE',\n",
       " 'CUBANA',\n",
       " 'DOMINICANA',\n",
       " 'ERITREA',\n",
       " 'ESPAÑOLA',\n",
       " 'ESTADOUNIDENSE',\n",
       " 'FRANCESA',\n",
       " 'GUATEMALTECO',\n",
       " 'HAITIANA',\n",
       " 'HOLANDESA',\n",
       " 'HONDUREÑA',\n",
       " 'ITALIANA',\n",
       " 'MEXICANA',\n",
       " 'NICARAGUENSE',\n",
       " 'NO ESPECIFICADO',\n",
       " 'PANAMEÑA',\n",
       " 'PARAGUAYA',\n",
       " 'PERUANA',\n",
       " 'SALVADOREÑA',\n",
       " 'VENEZOLANA'}"
      ]
     },
     "execution_count": 25,
     "metadata": {},
     "output_type": "execute_result"
    }
   ],
   "source": [
    "columna = 'Nacionalidad'\n",
    "\n",
    "val_unicos_col(df, columna)"
   ]
  },
  {
   "cell_type": "markdown",
   "metadata": {},
   "source": [
    "> Listando los valores unicos de esta columna podemos afirmar que en efecto la variable Nacionalidad toma valores distintos de MEXICANA."
   ]
  },
  {
   "cell_type": "markdown",
   "metadata": {},
   "source": [
    "**Estatura**"
   ]
  },
  {
   "cell_type": "markdown",
   "metadata": {},
   "source": [
    "Investiguemos cuál es el rango de alturas."
   ]
  },
  {
   "cell_type": "code",
   "execution_count": 26,
   "metadata": {
    "ExecuteTime": {
     "end_time": "2022-09-15T20:28:30.735448Z",
     "start_time": "2022-09-15T20:28:30.725742Z"
    },
    "scrolled": true
   },
   "outputs": [
    {
     "data": {
      "text/plain": [
       "{'0.3',\n",
       " '0.35',\n",
       " '0.4',\n",
       " '0.42',\n",
       " '0.45',\n",
       " '0.47',\n",
       " '0.49',\n",
       " '0.5',\n",
       " '0.51',\n",
       " '0.52',\n",
       " '0.53',\n",
       " '0.54',\n",
       " '0.55',\n",
       " '0.56',\n",
       " '0.57',\n",
       " '0.58',\n",
       " '0.6',\n",
       " '0.61',\n",
       " '0.62',\n",
       " '0.63',\n",
       " '0.64',\n",
       " '0.65',\n",
       " '0.66',\n",
       " '0.68',\n",
       " '0.7',\n",
       " '0.73',\n",
       " '0.75',\n",
       " '0.76',\n",
       " '0.77',\n",
       " '0.78',\n",
       " '0.8',\n",
       " '0.81',\n",
       " '0.82',\n",
       " '0.83',\n",
       " '0.84',\n",
       " '0.85',\n",
       " '0.86',\n",
       " '0.87',\n",
       " '0.89',\n",
       " '0.9',\n",
       " '0.91',\n",
       " '0.92',\n",
       " '0.93',\n",
       " '0.94',\n",
       " '0.95',\n",
       " '0.96',\n",
       " '0.97',\n",
       " '0.98',\n",
       " '0.99',\n",
       " '1',\n",
       " '1.01',\n",
       " '1.02',\n",
       " '1.03',\n",
       " '1.04',\n",
       " '1.05',\n",
       " '1.06',\n",
       " '1.07',\n",
       " '1.1',\n",
       " '1.11',\n",
       " '1.13',\n",
       " '1.14',\n",
       " '1.15',\n",
       " '1.16',\n",
       " '1.17',\n",
       " '1.2',\n",
       " '1.21',\n",
       " '1.22',\n",
       " '1.23',\n",
       " '1.25',\n",
       " '1.27',\n",
       " '1.28',\n",
       " '1.29',\n",
       " '1.3',\n",
       " '1.31',\n",
       " '1.32',\n",
       " '1.33',\n",
       " '1.34',\n",
       " '1.35',\n",
       " '1.36',\n",
       " '1.37',\n",
       " '1.38',\n",
       " '1.39',\n",
       " '1.4',\n",
       " '1.41',\n",
       " '1.42',\n",
       " '1.43',\n",
       " '1.44',\n",
       " '1.45',\n",
       " '1.46',\n",
       " '1.47',\n",
       " '1.48',\n",
       " '1.49',\n",
       " '1.5',\n",
       " '1.51',\n",
       " '1.52',\n",
       " '1.53',\n",
       " '1.54',\n",
       " '1.55',\n",
       " '1.56',\n",
       " '1.57',\n",
       " '1.58',\n",
       " '1.59',\n",
       " '1.6',\n",
       " '1.61',\n",
       " '1.62',\n",
       " '1.63',\n",
       " '1.64',\n",
       " '1.65',\n",
       " '1.66',\n",
       " '1.67',\n",
       " '1.68',\n",
       " '1.69',\n",
       " '1.7',\n",
       " '1.71',\n",
       " '1.72',\n",
       " '1.73',\n",
       " '1.74',\n",
       " '1.75',\n",
       " '1.76',\n",
       " '1.77',\n",
       " '1.78',\n",
       " '1.79',\n",
       " '1.8',\n",
       " '1.81',\n",
       " '1.82',\n",
       " '1.83',\n",
       " '1.84',\n",
       " '1.85',\n",
       " '1.86',\n",
       " '1.87',\n",
       " '1.88',\n",
       " '1.89',\n",
       " '1.9',\n",
       " '1.91',\n",
       " '1.92',\n",
       " '1.93',\n",
       " '1.94',\n",
       " '1.95',\n",
       " '1.96',\n",
       " '1.97',\n",
       " '1.98',\n",
       " '130',\n",
       " '155',\n",
       " '170',\n",
       " '2',\n",
       " '2.04',\n",
       " '50',\n",
       " '56',\n",
       " '70',\n",
       " '72',\n",
       " '80',\n",
       " '90',\n",
       " 'NO ESPECIFICADO',\n",
       " 'no ESPECIFICADO'}"
      ]
     },
     "execution_count": 26,
     "metadata": {},
     "output_type": "execute_result"
    }
   ],
   "source": [
    "val_unicos_col(df, 'Estatura')"
   ]
  },
  {
   "cell_type": "markdown",
   "metadata": {},
   "source": [
    "> Aquí nos encontramos un problema en la forma que se encuentran registradas algunas alturas, hay alturas registradas en centímetros y alturas registradas en metros. Además, identificamos otra forma en la que se registran valores nulos, esta vez como \"no ESPECIFICADO\".\n",
    "Entonces esperaremos a responder esta pregunta después de realizar nuestra limpieza y transformación de datos."
   ]
  },
  {
   "cell_type": "markdown",
   "metadata": {},
   "source": [
    "**Complexión**"
   ]
  },
  {
   "cell_type": "markdown",
   "metadata": {},
   "source": [
    "Veamos qué valores únicos puede tomar esta variable."
   ]
  },
  {
   "cell_type": "code",
   "execution_count": 27,
   "metadata": {
    "ExecuteTime": {
     "end_time": "2022-09-15T20:28:30.746221Z",
     "start_time": "2022-09-15T20:28:30.738862Z"
    },
    "scrolled": true
   },
   "outputs": [
    {
     "data": {
      "text/plain": [
       "{'DELGADA',\n",
       " 'MEDIANA',\n",
       " 'NO ESPECIFICADO',\n",
       " 'No Especificado',\n",
       " 'OBESA',\n",
       " 'ROBUSTA'}"
      ]
     },
     "execution_count": 27,
     "metadata": {},
     "output_type": "execute_result"
    }
   ],
   "source": [
    "columna = 'Complexion'\n",
    "\n",
    "val_unicos_col(df, columna)"
   ]
  },
  {
   "cell_type": "markdown",
   "metadata": {},
   "source": [
    "> Podemos observar cuatro categorías diferentes registradas en nuestro dataset. Además, identificamos otra forma en la que se registran valores nulos, esta vez como \"No Especificado\"."
   ]
  },
  {
   "cell_type": "markdown",
   "metadata": {},
   "source": [
    "**Sexo**"
   ]
  },
  {
   "cell_type": "markdown",
   "metadata": {},
   "source": [
    "Podemos preguntarnos si el campo Sexo permite el registro de gente no binaria o alguna otra forma de identificación."
   ]
  },
  {
   "cell_type": "code",
   "execution_count": 28,
   "metadata": {
    "ExecuteTime": {
     "end_time": "2022-09-15T20:28:30.753192Z",
     "start_time": "2022-09-15T20:28:30.747696Z"
    }
   },
   "outputs": [
    {
     "data": {
      "text/plain": [
       "{'HOMBRE', 'MUJER'}"
      ]
     },
     "execution_count": 28,
     "metadata": {},
     "output_type": "execute_result"
    }
   ],
   "source": [
    "columna = 'Sexo'\n",
    "val_unicos_col(df, columna)"
   ]
  },
  {
   "cell_type": "markdown",
   "metadata": {},
   "source": [
    "> Observamos que la variable Sexo sólo admite dos valores: HOMBRE y MUJER."
   ]
  },
  {
   "cell_type": "markdown",
   "metadata": {},
   "source": [
    "**Edad**"
   ]
  },
  {
   "cell_type": "markdown",
   "metadata": {},
   "source": [
    "Veamos cuál es el rango de edad."
   ]
  },
  {
   "cell_type": "code",
   "execution_count": 29,
   "metadata": {
    "ExecuteTime": {
     "end_time": "2022-09-15T20:28:30.772310Z",
     "start_time": "2022-09-15T20:28:30.754644Z"
    }
   },
   "outputs": [
    {
     "name": "stdout",
     "output_type": "stream",
     "text": [
      "Edad menor: 1\n",
      "Edad mayor: 103\n"
     ]
    }
   ],
   "source": [
    "edad = pd.to_numeric(df['Edad'], errors='coerce')\n",
    "\n",
    "print(f\"Edad menor: {round(edad.min())}\")\n",
    "print(f\"Edad mayor: {round(edad.max())}\")"
   ]
  },
  {
   "cell_type": "markdown",
   "metadata": {},
   "source": [
    "> Entonces, el rango de edad va desde 1 año hasta 103 años."
   ]
  },
  {
   "cell_type": "markdown",
   "metadata": {
    "ExecuteTime": {
     "end_time": "2022-09-13T01:28:04.612552Z",
     "start_time": "2022-09-13T01:28:04.606479Z"
    }
   },
   "source": [
    "**Descripción de señas particulares**"
   ]
  },
  {
   "cell_type": "code",
   "execution_count": 30,
   "metadata": {
    "ExecuteTime": {
     "end_time": "2022-09-15T20:28:30.782826Z",
     "start_time": "2022-09-15T20:28:30.774586Z"
    },
    "scrolled": true
   },
   "outputs": [
    {
     "data": {
      "text/plain": [
       "0        TIENE UNA CICATRIZ EN LA RODILLA IZQUIERDA POR...\n",
       "1                                          NO ESPECIFICADO\n",
       "2        MANCHAS, PARTE SUPERIOR DE PIERNA DERECHA, CIC...\n",
       "3        LUNARES, A LA ALTURA DE LA CINTURAFORMA DE MAN...\n",
       "4                                          NO ESPECIFICADO\n",
       "                               ...                        \n",
       "36260    LUNAR EN LA MEJILLA Y TATUAJE EN EL CUELLO EN ...\n",
       "36261    EL OJO IZQUIERDO TIENE UN ENFERMEDAD COMO TIC,...\n",
       "36262                                      NO ESPECIFICADO\n",
       "36263    TATUAJE EN EL BRAZO IZQUIERDO CON LA IMAGEN DE...\n",
       "36264                                      NO ESPECIFICADO\n",
       "Name: Descripcion de senas particulares, Length: 36265, dtype: object"
      ]
     },
     "execution_count": 30,
     "metadata": {},
     "output_type": "execute_result"
    }
   ],
   "source": [
    "df['Descripcion de senas particulares']"
   ]
  },
  {
   "cell_type": "markdown",
   "metadata": {
    "ExecuteTime": {
     "end_time": "2022-09-13T01:29:17.603497Z",
     "start_time": "2022-09-13T01:29:17.597358Z"
    }
   },
   "source": [
    "> Observamos que esta variable contiene campos de texto de distintas longitudes."
   ]
  },
  {
   "cell_type": "markdown",
   "metadata": {},
   "source": [
    "**Entnia**"
   ]
  },
  {
   "cell_type": "markdown",
   "metadata": {},
   "source": [
    "Los valores que toma la variable Etnia son:"
   ]
  },
  {
   "cell_type": "code",
   "execution_count": 31,
   "metadata": {
    "ExecuteTime": {
     "end_time": "2022-09-15T20:28:30.803973Z",
     "start_time": "2022-09-15T20:28:30.785027Z"
    }
   },
   "outputs": [
    {
     "data": {
      "text/plain": [
       "{'AMUZGOS OAXACA',\n",
       " 'CHATINOS',\n",
       " 'CHICHIMECAS',\n",
       " 'CHINANTECOS',\n",
       " 'CHOLES',\n",
       " 'HUASTECOS',\n",
       " 'HUICHOLES',\n",
       " 'MAMES',\n",
       " 'MAYAS',\n",
       " 'MEXICANEROS',\n",
       " 'MIXTECOS',\n",
       " 'NAHUAS',\n",
       " 'NO ESPECIFICADO',\n",
       " 'OTOMIES',\n",
       " 'PAMES',\n",
       " 'SERIS',\n",
       " 'TARAHUMARAS - RARAMURI',\n",
       " 'TLALPANECOS',\n",
       " 'TOTONACAS',\n",
       " 'YAQUIS'}"
      ]
     },
     "execution_count": 31,
     "metadata": {},
     "output_type": "execute_result"
    }
   ],
   "source": [
    "columna = 'Etnia'\n",
    "\n",
    "val_unicos_col(df, columna)"
   ]
  },
  {
   "cell_type": "markdown",
   "metadata": {},
   "source": [
    "**Discapacidad**"
   ]
  },
  {
   "cell_type": "markdown",
   "metadata": {},
   "source": [
    "Los valores que toma la variable 'Discapacidad' son:"
   ]
  },
  {
   "cell_type": "code",
   "execution_count": 32,
   "metadata": {
    "ExecuteTime": {
     "end_time": "2022-09-15T20:28:30.813526Z",
     "start_time": "2022-09-15T20:28:30.806063Z"
    }
   },
   "outputs": [
    {
     "data": {
      "text/plain": [
       "{'AUTISMO', 'NINGUNO', 'NO ESPECIFICADO', 'SINDROME DE DOWN'}"
      ]
     },
     "execution_count": 32,
     "metadata": {},
     "output_type": "execute_result"
    }
   ],
   "source": [
    "columna = 'Discapacidad'\n",
    "\n",
    "val_unicos_col(df, columna)"
   ]
  },
  {
   "cell_type": "markdown",
   "metadata": {},
   "source": [
    "**Dependencia que envió la información**"
   ]
  },
  {
   "cell_type": "markdown",
   "metadata": {},
   "source": [
    "Finalmente, listemos los valores de nuestra ultima columna."
   ]
  },
  {
   "cell_type": "code",
   "execution_count": 33,
   "metadata": {
    "ExecuteTime": {
     "end_time": "2022-09-15T20:28:30.822146Z",
     "start_time": "2022-09-15T20:28:30.815600Z"
    }
   },
   "outputs": [
    {
     "data": {
      "text/plain": [
       "{'FGE - AGUASCALIENTES',\n",
       " 'FGE - CAMPECHE',\n",
       " 'FGE - CHIAPAS',\n",
       " 'FGE - CHIHUAHUA',\n",
       " 'FGE - COAHUILA',\n",
       " 'FGE - DURANGO',\n",
       " 'FGE - GUERRERO',\n",
       " 'FGE - JALISCO',\n",
       " 'FGE - MORELOS',\n",
       " 'FGE - NAYARIT',\n",
       " 'FGE - OAXACA',\n",
       " 'FGE - PUEBLA',\n",
       " 'FGE - QUERETARO',\n",
       " 'FGE - QUINTANA ROO',\n",
       " 'FGE - SAN LUIS POTOSI',\n",
       " 'FGE - SINALOA',\n",
       " 'FGE - SONORA',\n",
       " 'FGE - TABASCO',\n",
       " 'FGE - VERACRUZ',\n",
       " 'FGE - YUCATAN',\n",
       " 'FGE - ZACATECAS',\n",
       " 'FGJ - ESTADO DE MEXICO',\n",
       " 'PGJ - BAJA CALIFORNIA',\n",
       " 'PGJ - BAJA CALIFORNIA SUR',\n",
       " 'PGJ - CIUDAD DE MEXICO',\n",
       " 'PGJ - COLIMA',\n",
       " 'PGJ - GUANAJUATO',\n",
       " 'PGJ - HIDALGO',\n",
       " 'PGJ - MICHOACAN',\n",
       " 'PGJ - NUEVO LEON',\n",
       " 'PGJ - TAMAULIPAS',\n",
       " 'PGJ - TLAXCALA'}"
      ]
     },
     "execution_count": 33,
     "metadata": {},
     "output_type": "execute_result"
    }
   ],
   "source": [
    "columna = 'Dependencia que envio la informacion'\n",
    "\n",
    "val_unicos_col(df, columna)"
   ]
  },
  {
   "cell_type": "markdown",
   "metadata": {},
   "source": [
    "> Se muestran las diferentes fiscalías y procuradurías que se encargaron de reportar los registros de desaparición."
   ]
  },
  {
   "cell_type": "markdown",
   "metadata": {},
   "source": [
    "### Conclusiones del primer análisis exploratorio de datos"
   ]
  },
  {
   "cell_type": "markdown",
   "metadata": {},
   "source": [
    "> Nuestro dataset está constituido de 36265 observaciones de 15 variables indizadas del 0 al 36264. Nuestras variables son\n",
    "\n",
    "| Variable |\n",
    "| -------  |\n",
    "| Fecha en que se le vio por ultima vez        |\n",
    "| Hora en que se le vio por ultima vez         |\n",
    "| Pais en que se le vio por ultima vez         |\n",
    "| Entidad en que se le vio por ultima vez      |\n",
    "| Municipio en que se le vio por ultima vez    |\n",
    "| Localidad en que se le vio por ultima vez    |\n",
    "| Nacionalidad                                 |\n",
    "| Estatura                                     |\n",
    "| Complexion                                   |\n",
    "| Sexo                                         |\n",
    "| Edad                                         |\n",
    "| Descripcion de senas particulares            |\n",
    "| Etnia                                        |\n",
    "| Discapacidad                                 |\n",
    "| Dependencia que envio la informacion         |\n",
    "\n",
    "> De una observación preliminar de los primeros y últimos 10 datos podemos observar que el tipo de dato inferido por pandas es erróneo (el tipo de dato inferido para todas las columnas fue `object`).\n",
    "\n",
    "> La propuesta es la siguiente:\n",
    "\n",
    "| Variable | Tipo |\n",
    "| -------  | ---- |\n",
    "| Fecha en que se le vio por ultima vez        | Fecha con formato 'yyyy-mm-dd' |\n",
    "| Hora en que se le vio por ultima vez         | Hora con formato 'hh:mm:ss' |\n",
    "| Pais en que se le vio por ultima vez         | Categórico (`MEXICO`) |\n",
    "| Entidad en que se le vio por ultima vez      | Categórico (valores de `val_col_entidad`) |\n",
    "| Municipio en que se le vio por ultima vez    | Categórica (valores de `val_col_municipio`) |\n",
    "| Localidad en que se le vio por ultima vez    | Categórica (valores de `val_col_localidad`) |\n",
    "| Nacionalidad                                 | Categórica (valores de `val_col_nacionalidad`) |\n",
    "| Estatura                                     | Numérico float64 (valores en metros) |\n",
    "| Complexion                                   | Categórica (`DELGADA`, `MEDIANA`, `NO ESPECIFICADA`, `OBESA`, `ROBUSTA`) |\n",
    "| Sexo                                         | Categórica (`HOMBRE`, `MUJER`) |\n",
    "| Edad                                         | Numérico int64 (`1` a `103`) |\n",
    "| Descripcion de senas particulares            | Object (string) |\n",
    "| Etnia                                        | Categórica (valores de  `val_col_etnia`)|\n",
    "| Discapacidad                                 | Categórica (`AUTISMO`, `NINGUNO`, `NO ESPECIFICADO`, `SINDROME DE DOWN`) |\n",
    "| Dependencia que envio la informacion         | Categórica (valores de `val_col_dependencia`) |\n",
    "\n",
    "> Nuestro dataframe no cuenta con valores NaN estrictamente, sin embargo, tenemos registros con el valor de 'NO ESPECIFICADO' (en algunas columnas encontramos variaciones de este) por lo que tendremos que tomar esto en cuenta en la siguiente etapa de limpieza."
   ]
  },
  {
   "cell_type": "markdown",
   "metadata": {},
   "source": [
    "## Limpieza de datos y agregaciones"
   ]
  },
  {
   "cell_type": "markdown",
   "metadata": {},
   "source": [
    "    - Explora tu dataset con el fin de encontrar los NaNs que contiene. Piensa en la distribución de NaNs por columna y por fila.\n",
    "    \n",
    "    - Piensa cuáles son los procedimientos que puedes aplicar a tus NaNs. ¿Tenemos que eliminar las filas/columnas que tienen esos NaNs? ¿O podríamos rellenar esos NaNs con algún valor de manera que podamos retener esas filas/columnas?\n",
    "    \n",
    "    - Limpia tu dataset de manera que no quede ningún NaN.\n",
    "    \n",
    "    - Reindexa tu dataset si lo consideras necesario.\n",
    "    \n",
    "    - Renombra tus columnas si lo consideras necesario.\n",
    "    \n",
    "    - Prueba aplicar agregaciones a tu DataFrame para ver si puedes empezar a responder algunas de las preguntas que te planteaste anteriormente. \n",
    "    \n"
   ]
  },
  {
   "cell_type": "markdown",
   "metadata": {},
   "source": [
    "### Busqueda de NaNs"
   ]
  },
  {
   "cell_type": "code",
   "execution_count": 34,
   "metadata": {
    "ExecuteTime": {
     "end_time": "2022-09-15T20:28:30.933517Z",
     "start_time": "2022-09-15T20:28:30.826151Z"
    }
   },
   "outputs": [
    {
     "data": {
      "text/plain": [
       "Fecha en que se le vio por ultima vez        0\n",
       "Hora en que se le vio por ultima vez         0\n",
       "Pais en que se le vio por ultima vez         0\n",
       "Entidad en que se le vio por ultima vez      0\n",
       "Municipio en que se le vio por ultima vez    0\n",
       "Localidad en que se le vio por ultima vez    0\n",
       "Nacionalidad                                 0\n",
       "Estatura                                     0\n",
       "Complexion                                   0\n",
       "Sexo                                         0\n",
       "Edad                                         0\n",
       "Descripcion de senas particulares            0\n",
       "Etnia                                        0\n",
       "Discapacidad                                 0\n",
       "Dependencia que envio la informacion         0\n",
       "dtype: int64"
      ]
     },
     "execution_count": 34,
     "metadata": {},
     "output_type": "execute_result"
    }
   ],
   "source": [
    "df.isna().sum()"
   ]
  },
  {
   "cell_type": "markdown",
   "metadata": {},
   "source": [
    "> Como nos percatamos en el análisis exploratorio, no contamos con valores faltantes indicados como NaN, sin embargo, identificamos que en nuestro dataset la categoría 'NO ESPECIFICADO' y sus variaciones en cuanto a su escritura ('No Especificado',  'no ESPECIFICADO') fungen como registros de valores faltantes."
   ]
  },
  {
   "cell_type": "markdown",
   "metadata": {},
   "source": [
    "Vamos a realizar el conteo por columna de las ocurrencias del valor 'NO ESPECIFICADO' (y sus variaciones) indicando el porcentaje que representa el número de faltantes respecto al total de registros en nuestro dataframe. "
   ]
  },
  {
   "cell_type": "code",
   "execution_count": 35,
   "metadata": {
    "ExecuteTime": {
     "end_time": "2022-09-15T20:28:31.075824Z",
     "start_time": "2022-09-15T20:28:30.935631Z"
    },
    "scrolled": false
   },
   "outputs": [
    {
     "name": "stdout",
     "output_type": "stream",
     "text": [
      "Columna                                    =NO ESPECIFICADO=  Porcentaje\n",
      "\n",
      "Fecha en que se le vio por ultima vez      |              338      0.93%\n",
      "Hora en que se le vio por ultima vez       |               16      0.04%\n",
      "Pais en que se le vio por ultima vez       |                0       0.0%\n",
      "Entidad en que se le vio por ultima vez    |               29      0.08%\n",
      "Municipio en que se le vio por ultima vez  |              668      1.84%\n",
      "Localidad en que se le vio por ultima vez  |             3413      9.41%\n",
      "Nacionalidad                               |             2040      5.63%\n",
      "Estatura                                   |            11008     30.35%\n",
      "Complexion                                 |            11295     31.15%\n",
      "Sexo                                       |                0       0.0%\n",
      "Edad                                       |             3156       8.7%\n",
      "Descripcion de senas particulares          |            18914     52.15%\n",
      "Etnia                                      |            36133     99.64%\n",
      "Discapacidad                               |             1047      2.89%\n",
      "Dependencia que envio la informacion       |                0       0.0%\n"
     ]
    }
   ],
   "source": [
    "print(f'{(\"Columna\"):42} =NO ESPECIFICADO=  Porcentaje\\n')\n",
    "for col in df.columns:\n",
    "    total = (df[col] == \"NO ESPECIFICADO\").sum()+(df[col] == \"No Especificado\").sum()+(df[col] == \"no ESPECIFICADO\").sum()\n",
    "    print(f'{(col):42} | {(total):16} {(round((total*100)/df.shape[0], 2)):9}%')"
   ]
  },
  {
   "cell_type": "markdown",
   "metadata": {},
   "source": [
    "> Tenemos columnas con nula presencia de faltantes, poca presencia y algunas columnas en donde la cantidad de faltantes es considerable. Pasemos a tomar decisiones sobre como trabajaremos con los valores faltantes en cada columna."
   ]
  },
  {
   "cell_type": "markdown",
   "metadata": {},
   "source": [
    "Primero crearemos una copia de nuestro dataframe original para conservarlo."
   ]
  },
  {
   "cell_type": "code",
   "execution_count": 36,
   "metadata": {
    "ExecuteTime": {
     "end_time": "2022-09-15T20:28:31.085634Z",
     "start_time": "2022-09-15T20:28:31.078043Z"
    }
   },
   "outputs": [],
   "source": [
    "df_original = df.copy()"
   ]
  },
  {
   "cell_type": "markdown",
   "metadata": {},
   "source": [
    "Ahora transformemos todos nuestros valores de 'NO ESPECIFICADO' (y sus variaciones) a NaN"
   ]
  },
  {
   "cell_type": "code",
   "execution_count": 37,
   "metadata": {
    "ExecuteTime": {
     "end_time": "2022-09-15T20:28:31.144979Z",
     "start_time": "2022-09-15T20:28:31.087581Z"
    }
   },
   "outputs": [],
   "source": [
    "df = df.replace('NO ESPECIFICADO',np.NaN)\n",
    "df = df.replace('No Especificado',np.NaN)\n",
    "df = df.replace('no ESPECIFICADO',np.NaN)"
   ]
  },
  {
   "cell_type": "code",
   "execution_count": 38,
   "metadata": {
    "ExecuteTime": {
     "end_time": "2022-09-15T20:28:31.202524Z",
     "start_time": "2022-09-15T20:28:31.146766Z"
    },
    "scrolled": true
   },
   "outputs": [
    {
     "data": {
      "text/plain": [
       "Fecha en que se le vio por ultima vez          338\n",
       "Hora en que se le vio por ultima vez            16\n",
       "Pais en que se le vio por ultima vez             0\n",
       "Entidad en que se le vio por ultima vez         29\n",
       "Municipio en que se le vio por ultima vez      668\n",
       "Localidad en que se le vio por ultima vez     3413\n",
       "Nacionalidad                                  2040\n",
       "Estatura                                     11008\n",
       "Complexion                                   11295\n",
       "Sexo                                             0\n",
       "Edad                                          3156\n",
       "Descripcion de senas particulares            18914\n",
       "Etnia                                        36133\n",
       "Discapacidad                                  1047\n",
       "Dependencia que envio la informacion             0\n",
       "dtype: int64"
      ]
     },
     "execution_count": 38,
     "metadata": {},
     "output_type": "execute_result"
    }
   ],
   "source": [
    "df.isna().sum()"
   ]
  },
  {
   "cell_type": "markdown",
   "metadata": {},
   "source": [
    "> Podemos ver que el conteo de faltantes coincide con el que realizamos previamente."
   ]
  },
  {
   "cell_type": "markdown",
   "metadata": {},
   "source": [
    "### Limpiando NaNs"
   ]
  },
  {
   "cell_type": "markdown",
   "metadata": {},
   "source": [
    "**Fecha en que se le vio por ultima vez**"
   ]
  },
  {
   "cell_type": "markdown",
   "metadata": {},
   "source": [
    "La variable que registra la fecha en la que se vio por última vez a una persona es una variable muy importante en nuestro conjunto de datos y en el contexto del problema. Rellenar esta variable con algún tipo de dato puede hacer que el valor asignado pierda sentido o generar información errónea acerca del problema. Por esto eliminaremos los registros que contengan valores faltantes en esta columna."
   ]
  },
  {
   "cell_type": "code",
   "execution_count": 39,
   "metadata": {
    "ExecuteTime": {
     "end_time": "2022-09-15T20:28:31.229768Z",
     "start_time": "2022-09-15T20:28:31.205366Z"
    }
   },
   "outputs": [],
   "source": [
    "df = df.dropna(subset=['Fecha en que se le vio por ultima vez'])"
   ]
  },
  {
   "cell_type": "code",
   "execution_count": 40,
   "metadata": {
    "ExecuteTime": {
     "end_time": "2022-09-15T20:28:31.299072Z",
     "start_time": "2022-09-15T20:28:31.233009Z"
    }
   },
   "outputs": [
    {
     "data": {
      "text/plain": [
       "Fecha en que se le vio por ultima vez            0\n",
       "Hora en que se le vio por ultima vez             0\n",
       "Pais en que se le vio por ultima vez             0\n",
       "Entidad en que se le vio por ultima vez         26\n",
       "Municipio en que se le vio por ultima vez      635\n",
       "Localidad en que se le vio por ultima vez     3345\n",
       "Nacionalidad                                  2028\n",
       "Estatura                                     10784\n",
       "Complexion                                   11157\n",
       "Sexo                                             0\n",
       "Edad                                          3088\n",
       "Descripcion de senas particulares            18704\n",
       "Etnia                                        35795\n",
       "Discapacidad                                  1043\n",
       "Dependencia que envio la informacion             0\n",
       "dtype: int64"
      ]
     },
     "execution_count": 40,
     "metadata": {},
     "output_type": "execute_result"
    }
   ],
   "source": [
    "df.isna().sum()"
   ]
  },
  {
   "cell_type": "markdown",
   "metadata": {},
   "source": [
    "> Observamos que con las filas eliminadas a partir de los faltantes en las fechas, también eliminamos los registros faltantes en 'Hora en que se le vio por última vez', esto no representa una gran repercusión, pues al igual que la columna de fechas, los registros de horas eran datos importantes que no nos convenía rellenar y manipular."
   ]
  },
  {
   "cell_type": "markdown",
   "metadata": {
    "ExecuteTime": {
     "end_time": "2022-09-13T02:43:57.427139Z",
     "start_time": "2022-09-13T02:43:57.423209Z"
    }
   },
   "source": [
    "**Entidad en que se le vio por ultima vez**"
   ]
  },
  {
   "cell_type": "markdown",
   "metadata": {},
   "source": [
    "Esta columna contiene el estado de la república en el que se vio por última vez a la persona desaparecida, la cantidad de faltantes es pequeña y no representa un gran porcentaje respecto al total de registros. Además, es muy probable que en las filas en donde existan faltantes respecto a esta columna, también encontraremos faltantes en las columnas de 'Municipio en que se le vio por última vez' y 'Localidad en que se le vio por última vez'. Entonces eliminemos las filas con faltantes en esta columna."
   ]
  },
  {
   "cell_type": "code",
   "execution_count": 41,
   "metadata": {
    "ExecuteTime": {
     "end_time": "2022-09-15T20:28:31.317764Z",
     "start_time": "2022-09-15T20:28:31.301039Z"
    }
   },
   "outputs": [],
   "source": [
    "df = df.dropna(subset=['Entidad en que se le vio por ultima vez'])"
   ]
  },
  {
   "cell_type": "code",
   "execution_count": 42,
   "metadata": {
    "ExecuteTime": {
     "end_time": "2022-09-15T20:28:31.374317Z",
     "start_time": "2022-09-15T20:28:31.319214Z"
    }
   },
   "outputs": [
    {
     "data": {
      "text/plain": [
       "Fecha en que se le vio por ultima vez            0\n",
       "Hora en que se le vio por ultima vez             0\n",
       "Pais en que se le vio por ultima vez             0\n",
       "Entidad en que se le vio por ultima vez          0\n",
       "Municipio en que se le vio por ultima vez      609\n",
       "Localidad en que se le vio por ultima vez     3319\n",
       "Nacionalidad                                  2027\n",
       "Estatura                                     10778\n",
       "Complexion                                   11150\n",
       "Sexo                                             0\n",
       "Edad                                          3084\n",
       "Descripcion de senas particulares            18690\n",
       "Etnia                                        35770\n",
       "Discapacidad                                  1043\n",
       "Dependencia que envio la informacion             0\n",
       "dtype: int64"
      ]
     },
     "execution_count": 42,
     "metadata": {},
     "output_type": "execute_result"
    }
   ],
   "source": [
    "df.isna().sum()"
   ]
  },
  {
   "cell_type": "markdown",
   "metadata": {},
   "source": [
    "> Como se sospechó, al eliminar los faltantes respecto a la columna de entidad, eliminamos NaNs presentes en las dos columnas relacionadas."
   ]
  },
  {
   "cell_type": "markdown",
   "metadata": {},
   "source": [
    "Pasemos a la eliminación de las columnas que no serán necesarias para responder las preguntas que nos realizamos, o bien que no aportan demasiada información."
   ]
  },
  {
   "cell_type": "markdown",
   "metadata": {},
   "source": [
    "**Pais en que se le vio por ultima vez**"
   ]
  },
  {
   "cell_type": "markdown",
   "metadata": {},
   "source": [
    "Esta columna tiene el mismo valor (México) para todos los registros de la lista, por el contexto del problema podemos inferir el porqué de este valor. Podemos eliminar esta columna, pues no representa información relevante."
   ]
  },
  {
   "cell_type": "code",
   "execution_count": 43,
   "metadata": {
    "ExecuteTime": {
     "end_time": "2022-09-15T20:28:31.388930Z",
     "start_time": "2022-09-15T20:28:31.377512Z"
    }
   },
   "outputs": [],
   "source": [
    "df = df.drop(columns=['Pais en que se le vio por ultima vez'])"
   ]
  },
  {
   "cell_type": "markdown",
   "metadata": {},
   "source": [
    "**Etnia**"
   ]
  },
  {
   "cell_type": "markdown",
   "metadata": {},
   "source": [
    "La columna `Etnia` tiene 36133 registros con el valor “no especificado”, es una cantidad muy grande y posiblemente no nos aporte mucho para un análisis. "
   ]
  },
  {
   "cell_type": "code",
   "execution_count": 44,
   "metadata": {
    "ExecuteTime": {
     "end_time": "2022-09-15T20:28:31.399668Z",
     "start_time": "2022-09-15T20:28:31.390956Z"
    }
   },
   "outputs": [],
   "source": [
    "df = df.drop(columns=['Etnia'])"
   ]
  },
  {
   "cell_type": "code",
   "execution_count": 45,
   "metadata": {
    "ExecuteTime": {
     "end_time": "2022-09-15T20:28:31.405398Z",
     "start_time": "2022-09-15T20:28:31.401693Z"
    }
   },
   "outputs": [
    {
     "data": {
      "text/plain": [
       "Index(['Fecha en que se le vio por ultima vez',\n",
       "       'Hora en que se le vio por ultima vez',\n",
       "       'Entidad en que se le vio por ultima vez',\n",
       "       'Municipio en que se le vio por ultima vez',\n",
       "       'Localidad en que se le vio por ultima vez', 'Nacionalidad', 'Estatura',\n",
       "       'Complexion', 'Sexo', 'Edad', 'Descripcion de senas particulares',\n",
       "       'Discapacidad', 'Dependencia que envio la informacion'],\n",
       "      dtype='object')"
      ]
     },
     "execution_count": 45,
     "metadata": {},
     "output_type": "execute_result"
    }
   ],
   "source": [
    "df.columns"
   ]
  },
  {
   "cell_type": "markdown",
   "metadata": {},
   "source": [
    "> Las columnas han sido eliminadas correctamente de nuestro dataframe."
   ]
  },
  {
   "cell_type": "markdown",
   "metadata": {},
   "source": [
    "Remplazamos los valores faltantes por la media en el caso de columnas numéricas que son relevantes para nuestro análisis. No se eliminan porque reducirían bastante el data frame, y no se remplazan por cero porque sería un valor con un significado incoherente (altura cero es algo que no existe)."
   ]
  },
  {
   "cell_type": "markdown",
   "metadata": {},
   "source": [
    "**Estatura**"
   ]
  },
  {
   "cell_type": "markdown",
   "metadata": {},
   "source": [
    "Realizaremos una imputación simple usando la media."
   ]
  },
  {
   "cell_type": "markdown",
   "metadata": {},
   "source": [
    "Adelantaremos el proceso de transformación en esta columna para facilitar la imputación. Exploremos nuevamente los valores que toma esta variable."
   ]
  },
  {
   "cell_type": "code",
   "execution_count": 46,
   "metadata": {
    "ExecuteTime": {
     "end_time": "2022-09-15T20:28:31.418633Z",
     "start_time": "2022-09-15T20:28:31.407551Z"
    }
   },
   "outputs": [
    {
     "data": {
      "text/plain": [
       "{'0.3',\n",
       " '0.35',\n",
       " '0.4',\n",
       " '0.42',\n",
       " '0.45',\n",
       " '0.47',\n",
       " '0.49',\n",
       " '0.5',\n",
       " '0.51',\n",
       " '0.52',\n",
       " '0.53',\n",
       " '0.54',\n",
       " '0.55',\n",
       " '0.56',\n",
       " '0.57',\n",
       " '0.58',\n",
       " '0.6',\n",
       " '0.61',\n",
       " '0.62',\n",
       " '0.63',\n",
       " '0.64',\n",
       " '0.65',\n",
       " '0.66',\n",
       " '0.68',\n",
       " '0.7',\n",
       " '0.73',\n",
       " '0.75',\n",
       " '0.76',\n",
       " '0.77',\n",
       " '0.78',\n",
       " '0.8',\n",
       " '0.81',\n",
       " '0.82',\n",
       " '0.83',\n",
       " '0.84',\n",
       " '0.85',\n",
       " '0.86',\n",
       " '0.87',\n",
       " '0.89',\n",
       " '0.9',\n",
       " '0.91',\n",
       " '0.92',\n",
       " '0.93',\n",
       " '0.94',\n",
       " '0.95',\n",
       " '0.96',\n",
       " '0.97',\n",
       " '0.98',\n",
       " '0.99',\n",
       " '1',\n",
       " '1.01',\n",
       " '1.02',\n",
       " '1.03',\n",
       " '1.04',\n",
       " '1.05',\n",
       " '1.06',\n",
       " '1.07',\n",
       " '1.1',\n",
       " '1.11',\n",
       " '1.13',\n",
       " '1.14',\n",
       " '1.15',\n",
       " '1.16',\n",
       " '1.17',\n",
       " '1.2',\n",
       " '1.21',\n",
       " '1.22',\n",
       " '1.23',\n",
       " '1.25',\n",
       " '1.27',\n",
       " '1.28',\n",
       " '1.29',\n",
       " '1.3',\n",
       " '1.31',\n",
       " '1.32',\n",
       " '1.33',\n",
       " '1.34',\n",
       " '1.35',\n",
       " '1.36',\n",
       " '1.37',\n",
       " '1.38',\n",
       " '1.39',\n",
       " '1.4',\n",
       " '1.41',\n",
       " '1.42',\n",
       " '1.43',\n",
       " '1.44',\n",
       " '1.45',\n",
       " '1.46',\n",
       " '1.47',\n",
       " '1.48',\n",
       " '1.49',\n",
       " '1.5',\n",
       " '1.51',\n",
       " '1.52',\n",
       " '1.53',\n",
       " '1.54',\n",
       " '1.55',\n",
       " '1.56',\n",
       " '1.57',\n",
       " '1.58',\n",
       " '1.59',\n",
       " '1.6',\n",
       " '1.61',\n",
       " '1.62',\n",
       " '1.63',\n",
       " '1.64',\n",
       " '1.65',\n",
       " '1.66',\n",
       " '1.67',\n",
       " '1.68',\n",
       " '1.69',\n",
       " '1.7',\n",
       " '1.71',\n",
       " '1.72',\n",
       " '1.73',\n",
       " '1.74',\n",
       " '1.75',\n",
       " '1.76',\n",
       " '1.77',\n",
       " '1.78',\n",
       " '1.79',\n",
       " '1.8',\n",
       " '1.81',\n",
       " '1.82',\n",
       " '1.83',\n",
       " '1.84',\n",
       " '1.85',\n",
       " '1.86',\n",
       " '1.87',\n",
       " '1.88',\n",
       " '1.89',\n",
       " '1.9',\n",
       " '1.91',\n",
       " '1.92',\n",
       " '1.93',\n",
       " '1.94',\n",
       " '1.95',\n",
       " '1.96',\n",
       " '1.97',\n",
       " '1.98',\n",
       " '130',\n",
       " '155',\n",
       " '170',\n",
       " '2',\n",
       " '2.04',\n",
       " '50',\n",
       " '56',\n",
       " '70',\n",
       " '72',\n",
       " '80',\n",
       " '90',\n",
       " nan}"
      ]
     },
     "execution_count": 46,
     "metadata": {},
     "output_type": "execute_result"
    }
   ],
   "source": [
    "val_unicos_col(df, 'Estatura')"
   ]
  },
  {
   "cell_type": "markdown",
   "metadata": {},
   "source": [
    "> La mayoría de los valores se encuentran en un rango de 0 a 2.04, esto nos dice que se maneja la medición en metros. Sin embargo, encontramos valores superiores a 50, es muy probable que estos estén registrados en centímetros. "
   ]
  },
  {
   "cell_type": "markdown",
   "metadata": {},
   "source": [
    "Vamos a convertir nuestros valores a tipo flotante y manejarlos en metros, haciendo la conversión respectiva."
   ]
  },
  {
   "cell_type": "code",
   "execution_count": 47,
   "metadata": {
    "ExecuteTime": {
     "end_time": "2022-09-15T20:28:31.447623Z",
     "start_time": "2022-09-15T20:28:31.420953Z"
    }
   },
   "outputs": [],
   "source": [
    "df['Estatura'] = df['Estatura'].astype(float)\n",
    "df['Estatura'] = df['Estatura'].apply(lambda x: x/100 if (x >= 3) else x)"
   ]
  },
  {
   "cell_type": "markdown",
   "metadata": {},
   "source": [
    "> Ahora todas nuestras estaturas están representadas en metros."
   ]
  },
  {
   "cell_type": "markdown",
   "metadata": {},
   "source": [
    "Pasemos a la imputación usando la media."
   ]
  },
  {
   "cell_type": "code",
   "execution_count": 48,
   "metadata": {
    "ExecuteTime": {
     "end_time": "2022-09-15T20:28:31.454545Z",
     "start_time": "2022-09-15T20:28:31.449451Z"
    }
   },
   "outputs": [
    {
     "data": {
      "text/plain": [
       "1.64"
      ]
     },
     "execution_count": 48,
     "metadata": {},
     "output_type": "execute_result"
    }
   ],
   "source": [
    "estatura_promedio = round(df['Estatura'].mean(), 2)\n",
    "estatura_promedio"
   ]
  },
  {
   "cell_type": "code",
   "execution_count": 49,
   "metadata": {
    "ExecuteTime": {
     "end_time": "2022-09-15T20:28:31.462567Z",
     "start_time": "2022-09-15T20:28:31.456256Z"
    }
   },
   "outputs": [],
   "source": [
    "df['Estatura'] = df['Estatura'].fillna(estatura_promedio)"
   ]
  },
  {
   "cell_type": "code",
   "execution_count": 50,
   "metadata": {
    "ExecuteTime": {
     "end_time": "2022-09-15T20:28:31.474387Z",
     "start_time": "2022-09-15T20:28:31.470660Z"
    }
   },
   "outputs": [
    {
     "data": {
      "text/plain": [
       "1.64"
      ]
     },
     "execution_count": 50,
     "metadata": {},
     "output_type": "execute_result"
    }
   ],
   "source": [
    "round(df['Estatura'].mean(), 2)"
   ]
  },
  {
   "cell_type": "code",
   "execution_count": 51,
   "metadata": {
    "ExecuteTime": {
     "end_time": "2022-09-15T20:28:31.559798Z",
     "start_time": "2022-09-15T20:28:31.476768Z"
    }
   },
   "outputs": [
    {
     "data": {
      "text/plain": [
       "Fecha en que se le vio por ultima vez            0\n",
       "Hora en que se le vio por ultima vez             0\n",
       "Entidad en que se le vio por ultima vez          0\n",
       "Municipio en que se le vio por ultima vez      609\n",
       "Localidad en que se le vio por ultima vez     3319\n",
       "Nacionalidad                                  2027\n",
       "Estatura                                         0\n",
       "Complexion                                   11150\n",
       "Sexo                                             0\n",
       "Edad                                          3084\n",
       "Descripcion de senas particulares            18690\n",
       "Discapacidad                                  1043\n",
       "Dependencia que envio la informacion             0\n",
       "dtype: int64"
      ]
     },
     "execution_count": 51,
     "metadata": {},
     "output_type": "execute_result"
    }
   ],
   "source": [
    "df.isna().sum()"
   ]
  },
  {
   "cell_type": "markdown",
   "metadata": {},
   "source": [
    "> Nuestros valores faltantes en 'Estatura' han sido remplazados por la media, y la media con los valores remplazados sigue siendo igual a 1.64."
   ]
  },
  {
   "cell_type": "markdown",
   "metadata": {},
   "source": [
    "**Edad**"
   ]
  },
  {
   "cell_type": "markdown",
   "metadata": {},
   "source": [
    "Aplicaremos una transformación similar en nuestra columna de edades, convirtiendo nuestros valores a enteros. "
   ]
  },
  {
   "cell_type": "markdown",
   "metadata": {},
   "source": [
    "Pasemos a la imputación usando la mediana."
   ]
  },
  {
   "cell_type": "code",
   "execution_count": 52,
   "metadata": {
    "ExecuteTime": {
     "end_time": "2022-09-15T20:28:31.576838Z",
     "start_time": "2022-09-15T20:28:31.562006Z"
    }
   },
   "outputs": [
    {
     "data": {
      "text/plain": [
       "28.0"
      ]
     },
     "execution_count": 52,
     "metadata": {},
     "output_type": "execute_result"
    }
   ],
   "source": [
    "edad_mediana = df['Edad'].median()\n",
    "edad_mediana"
   ]
  },
  {
   "cell_type": "code",
   "execution_count": 53,
   "metadata": {
    "ExecuteTime": {
     "end_time": "2022-09-15T20:28:31.586082Z",
     "start_time": "2022-09-15T20:28:31.578582Z"
    }
   },
   "outputs": [],
   "source": [
    "df['Edad'] = df['Edad'].fillna(edad_mediana)"
   ]
  },
  {
   "cell_type": "code",
   "execution_count": 54,
   "metadata": {
    "ExecuteTime": {
     "end_time": "2022-09-15T20:28:31.601727Z",
     "start_time": "2022-09-15T20:28:31.587997Z"
    }
   },
   "outputs": [
    {
     "data": {
      "text/plain": [
       "28"
      ]
     },
     "execution_count": 54,
     "metadata": {},
     "output_type": "execute_result"
    }
   ],
   "source": [
    "df['Edad'].median().astype(int)"
   ]
  },
  {
   "cell_type": "code",
   "execution_count": 55,
   "metadata": {
    "ExecuteTime": {
     "end_time": "2022-09-15T20:28:31.610458Z",
     "start_time": "2022-09-15T20:28:31.604919Z"
    }
   },
   "outputs": [],
   "source": [
    "df[\"Edad\"]= df[\"Edad\"].astype(int)"
   ]
  },
  {
   "cell_type": "markdown",
   "metadata": {
    "ExecuteTime": {
     "end_time": "2022-09-13T19:25:09.785598Z",
     "start_time": "2022-09-13T19:25:09.780889Z"
    }
   },
   "source": [
    "> Ahora todas nuestras edades están representadas en enteros."
   ]
  },
  {
   "cell_type": "code",
   "execution_count": 56,
   "metadata": {
    "ExecuteTime": {
     "end_time": "2022-09-15T20:28:31.652810Z",
     "start_time": "2022-09-15T20:28:31.612289Z"
    }
   },
   "outputs": [
    {
     "data": {
      "text/plain": [
       "Fecha en que se le vio por ultima vez            0\n",
       "Hora en que se le vio por ultima vez             0\n",
       "Entidad en que se le vio por ultima vez          0\n",
       "Municipio en que se le vio por ultima vez      609\n",
       "Localidad en que se le vio por ultima vez     3319\n",
       "Nacionalidad                                  2027\n",
       "Estatura                                         0\n",
       "Complexion                                   11150\n",
       "Sexo                                             0\n",
       "Edad                                             0\n",
       "Descripcion de senas particulares            18690\n",
       "Discapacidad                                  1043\n",
       "Dependencia que envio la informacion             0\n",
       "dtype: int64"
      ]
     },
     "execution_count": 56,
     "metadata": {},
     "output_type": "execute_result"
    }
   ],
   "source": [
    "df.isna().sum()"
   ]
  },
  {
   "cell_type": "markdown",
   "metadata": {},
   "source": [
    "> Nuestros valores faltantes en 'Edad' han sido remplazados por la mediana, y la mediana con los valores remplazados sigue siendo igual a 28."
   ]
  },
  {
   "cell_type": "markdown",
   "metadata": {},
   "source": [
    "En las columnas donde los valores faltantes siguen presentes, vele la pena conservar el valor categórico de 'NO ESPECIFICADO'. Regresaremos los valores NaN al valor 'NO ESPECIFICADO' (esta vez sin ninguna variación) en las columnas restantes, esas columnas son:\n",
    "\n",
    "*   Municipio en que se le vio por ultima vez\n",
    "*   Localidad en que se le vio por ultima vez\n",
    "*   Nacionalidad\n",
    "*   Complexion\n",
    "*   Descripcion de senas particulares\n",
    "*   Discapacidad"
   ]
  },
  {
   "cell_type": "code",
   "execution_count": 57,
   "metadata": {
    "ExecuteTime": {
     "end_time": "2022-09-15T20:28:31.700606Z",
     "start_time": "2022-09-15T20:28:31.654739Z"
    }
   },
   "outputs": [],
   "source": [
    "df = df.fillna('NO ESPECIFICADO')"
   ]
  },
  {
   "cell_type": "code",
   "execution_count": 58,
   "metadata": {
    "ExecuteTime": {
     "end_time": "2022-09-15T20:28:31.746321Z",
     "start_time": "2022-09-15T20:28:31.702625Z"
    }
   },
   "outputs": [
    {
     "data": {
      "text/plain": [
       "Fecha en que se le vio por ultima vez        0\n",
       "Hora en que se le vio por ultima vez         0\n",
       "Entidad en que se le vio por ultima vez      0\n",
       "Municipio en que se le vio por ultima vez    0\n",
       "Localidad en que se le vio por ultima vez    0\n",
       "Nacionalidad                                 0\n",
       "Estatura                                     0\n",
       "Complexion                                   0\n",
       "Sexo                                         0\n",
       "Edad                                         0\n",
       "Descripcion de senas particulares            0\n",
       "Discapacidad                                 0\n",
       "Dependencia que envio la informacion         0\n",
       "dtype: int64"
      ]
     },
     "execution_count": 58,
     "metadata": {},
     "output_type": "execute_result"
    }
   ],
   "source": [
    "df.isna().sum()"
   ]
  },
  {
   "cell_type": "markdown",
   "metadata": {},
   "source": [
    "> Hemos limpiado nuestro dataframe de datos faltantes."
   ]
  },
  {
   "cell_type": "markdown",
   "metadata": {},
   "source": [
    "Vamos a comprar las dimensiones de nuestro dataframe sin datos faltantes y nuestro dataframe original. "
   ]
  },
  {
   "cell_type": "code",
   "execution_count": 59,
   "metadata": {
    "ExecuteTime": {
     "end_time": "2022-09-15T20:28:31.752639Z",
     "start_time": "2022-09-15T20:28:31.748200Z"
    }
   },
   "outputs": [
    {
     "name": "stdout",
     "output_type": "stream",
     "text": [
      "Original: 36265 \n",
      "Sin NaNs: 35901\n",
      "Registros eliminados: 364\n",
      "Porcentaje eliminado: 1.004%\n"
     ]
    }
   ],
   "source": [
    "print(f\"Original: {df_original.shape[0]} \\nSin NaNs: {df.shape[0]}\")\n",
    "print(f\"Registros eliminados: {df_original.shape[0]-df.shape[0]}\")\n",
    "print(f\"Porcentaje eliminado: {round(((df_original.shape[0]-df.shape[0])*100)/df_original.shape[0], 3)}%\")"
   ]
  },
  {
   "cell_type": "markdown",
   "metadata": {},
   "source": [
    "> Observamos que eliminamos 364 registros, lo que representa un 1.004% del total original."
   ]
  },
  {
   "cell_type": "markdown",
   "metadata": {},
   "source": [
    "### Reindexando"
   ]
  },
  {
   "cell_type": "code",
   "execution_count": 60,
   "metadata": {
    "ExecuteTime": {
     "end_time": "2022-09-15T20:28:31.768941Z",
     "start_time": "2022-09-15T20:28:31.755087Z"
    }
   },
   "outputs": [
    {
     "data": {
      "text/html": [
       "<div>\n",
       "<style scoped>\n",
       "    .dataframe tbody tr th:only-of-type {\n",
       "        vertical-align: middle;\n",
       "    }\n",
       "\n",
       "    .dataframe tbody tr th {\n",
       "        vertical-align: top;\n",
       "    }\n",
       "\n",
       "    .dataframe thead th {\n",
       "        text-align: right;\n",
       "    }\n",
       "</style>\n",
       "<table border=\"1\" class=\"dataframe\">\n",
       "  <thead>\n",
       "    <tr style=\"text-align: right;\">\n",
       "      <th></th>\n",
       "      <th>Fecha en que se le vio por ultima vez</th>\n",
       "      <th>Hora en que se le vio por ultima vez</th>\n",
       "      <th>Entidad en que se le vio por ultima vez</th>\n",
       "      <th>Municipio en que se le vio por ultima vez</th>\n",
       "      <th>Localidad en que se le vio por ultima vez</th>\n",
       "      <th>Nacionalidad</th>\n",
       "      <th>Estatura</th>\n",
       "      <th>Complexion</th>\n",
       "      <th>Sexo</th>\n",
       "      <th>Edad</th>\n",
       "      <th>Descripcion de senas particulares</th>\n",
       "      <th>Discapacidad</th>\n",
       "      <th>Dependencia que envio la informacion</th>\n",
       "    </tr>\n",
       "  </thead>\n",
       "  <tbody>\n",
       "    <tr>\n",
       "      <th>36263</th>\n",
       "      <td>2017-08-22</td>\n",
       "      <td>04:00:00</td>\n",
       "      <td>COLIMA</td>\n",
       "      <td>VILLA DE ALVAREZ</td>\n",
       "      <td>VILLA DE ALVAREZ</td>\n",
       "      <td>MEXICANA</td>\n",
       "      <td>1.76</td>\n",
       "      <td>ROBUSTA</td>\n",
       "      <td>HOMBRE</td>\n",
       "      <td>41</td>\n",
       "      <td>TATUAJE EN EL BRAZO IZQUIERDO CON LA IMAGEN DE...</td>\n",
       "      <td>NINGUNO</td>\n",
       "      <td>PGJ - COLIMA</td>\n",
       "    </tr>\n",
       "    <tr>\n",
       "      <th>36264</th>\n",
       "      <td>2018-04-11</td>\n",
       "      <td>02:00:00</td>\n",
       "      <td>NUEVO LEON</td>\n",
       "      <td>SAN NICOLAS DE LOS GARZA</td>\n",
       "      <td>SAN NICOLAS DE LOS GARZA</td>\n",
       "      <td>MEXICANA</td>\n",
       "      <td>1.60</td>\n",
       "      <td>DELGADA</td>\n",
       "      <td>MUJER</td>\n",
       "      <td>14</td>\n",
       "      <td>NO ESPECIFICADO</td>\n",
       "      <td>NINGUNO</td>\n",
       "      <td>PGJ - NUEVO LEON</td>\n",
       "    </tr>\n",
       "  </tbody>\n",
       "</table>\n",
       "</div>"
      ],
      "text/plain": [
       "      Fecha en que se le vio por ultima vez  \\\n",
       "36263                            2017-08-22   \n",
       "36264                            2018-04-11   \n",
       "\n",
       "      Hora en que se le vio por ultima vez  \\\n",
       "36263                             04:00:00   \n",
       "36264                             02:00:00   \n",
       "\n",
       "      Entidad en que se le vio por ultima vez  \\\n",
       "36263                                  COLIMA   \n",
       "36264                              NUEVO LEON   \n",
       "\n",
       "      Municipio en que se le vio por ultima vez  \\\n",
       "36263                          VILLA DE ALVAREZ   \n",
       "36264                  SAN NICOLAS DE LOS GARZA   \n",
       "\n",
       "      Localidad en que se le vio por ultima vez Nacionalidad  Estatura  \\\n",
       "36263                          VILLA DE ALVAREZ     MEXICANA      1.76   \n",
       "36264                  SAN NICOLAS DE LOS GARZA     MEXICANA      1.60   \n",
       "\n",
       "      Complexion    Sexo  Edad  \\\n",
       "36263    ROBUSTA  HOMBRE    41   \n",
       "36264    DELGADA   MUJER    14   \n",
       "\n",
       "                       Descripcion de senas particulares Discapacidad  \\\n",
       "36263  TATUAJE EN EL BRAZO IZQUIERDO CON LA IMAGEN DE...      NINGUNO   \n",
       "36264                                    NO ESPECIFICADO      NINGUNO   \n",
       "\n",
       "      Dependencia que envio la informacion  \n",
       "36263                         PGJ - COLIMA  \n",
       "36264                     PGJ - NUEVO LEON  "
      ]
     },
     "execution_count": 60,
     "metadata": {},
     "output_type": "execute_result"
    }
   ],
   "source": [
    "df.tail(2)"
   ]
  },
  {
   "cell_type": "markdown",
   "metadata": {},
   "source": [
    "> Podemos ver que el número de filas ya no coincide con el índice del último registro. "
   ]
  },
  {
   "cell_type": "markdown",
   "metadata": {},
   "source": [
    "Vamos a reindexar y después establecer nuestros índices empezando desde 1."
   ]
  },
  {
   "cell_type": "code",
   "execution_count": 61,
   "metadata": {
    "ExecuteTime": {
     "end_time": "2022-09-15T20:28:31.788149Z",
     "start_time": "2022-09-15T20:28:31.771920Z"
    }
   },
   "outputs": [],
   "source": [
    "df = df.reset_index(drop=True)\n",
    "\n",
    "df.index = df.index + 1"
   ]
  },
  {
   "cell_type": "code",
   "execution_count": 62,
   "metadata": {
    "ExecuteTime": {
     "end_time": "2022-09-15T20:28:31.810748Z",
     "start_time": "2022-09-15T20:28:31.790702Z"
    }
   },
   "outputs": [
    {
     "data": {
      "text/html": [
       "<div>\n",
       "<style scoped>\n",
       "    .dataframe tbody tr th:only-of-type {\n",
       "        vertical-align: middle;\n",
       "    }\n",
       "\n",
       "    .dataframe tbody tr th {\n",
       "        vertical-align: top;\n",
       "    }\n",
       "\n",
       "    .dataframe thead th {\n",
       "        text-align: right;\n",
       "    }\n",
       "</style>\n",
       "<table border=\"1\" class=\"dataframe\">\n",
       "  <thead>\n",
       "    <tr style=\"text-align: right;\">\n",
       "      <th></th>\n",
       "      <th>Fecha en que se le vio por ultima vez</th>\n",
       "      <th>Hora en que se le vio por ultima vez</th>\n",
       "      <th>Entidad en que se le vio por ultima vez</th>\n",
       "      <th>Municipio en que se le vio por ultima vez</th>\n",
       "      <th>Localidad en que se le vio por ultima vez</th>\n",
       "      <th>Nacionalidad</th>\n",
       "      <th>Estatura</th>\n",
       "      <th>Complexion</th>\n",
       "      <th>Sexo</th>\n",
       "      <th>Edad</th>\n",
       "      <th>Descripcion de senas particulares</th>\n",
       "      <th>Discapacidad</th>\n",
       "      <th>Dependencia que envio la informacion</th>\n",
       "    </tr>\n",
       "  </thead>\n",
       "  <tbody>\n",
       "    <tr>\n",
       "      <th>1</th>\n",
       "      <td>2012-03-18</td>\n",
       "      <td>05:00:00</td>\n",
       "      <td>SONORA</td>\n",
       "      <td>NAVOJOA</td>\n",
       "      <td>NAVOJOA</td>\n",
       "      <td>MEXICANA</td>\n",
       "      <td>1.10</td>\n",
       "      <td>DELGADA</td>\n",
       "      <td>MUJER</td>\n",
       "      <td>7</td>\n",
       "      <td>TIENE UNA CICATRIZ EN LA RODILLA IZQUIERDA POR...</td>\n",
       "      <td>NINGUNO</td>\n",
       "      <td>FGE - SONORA</td>\n",
       "    </tr>\n",
       "    <tr>\n",
       "      <th>2</th>\n",
       "      <td>2007-02-05</td>\n",
       "      <td>02:00:26</td>\n",
       "      <td>ESTADO DE MEXICO</td>\n",
       "      <td>VALLE DE BRAVO</td>\n",
       "      <td>VALLE DE BRAVO</td>\n",
       "      <td>MEXICANA</td>\n",
       "      <td>1.10</td>\n",
       "      <td>DELGADA</td>\n",
       "      <td>MUJER</td>\n",
       "      <td>4</td>\n",
       "      <td>NO ESPECIFICADO</td>\n",
       "      <td>NINGUNO</td>\n",
       "      <td>FGJ - ESTADO DE MEXICO</td>\n",
       "    </tr>\n",
       "    <tr>\n",
       "      <th>3</th>\n",
       "      <td>2009-03-14</td>\n",
       "      <td>08:30:54</td>\n",
       "      <td>ESTADO DE MEXICO</td>\n",
       "      <td>CHALCO</td>\n",
       "      <td>CHALCO</td>\n",
       "      <td>MEXICANA</td>\n",
       "      <td>1.10</td>\n",
       "      <td>DELGADA</td>\n",
       "      <td>HOMBRE</td>\n",
       "      <td>6</td>\n",
       "      <td>MANCHAS, PARTE SUPERIOR DE PIERNA DERECHA, CIC...</td>\n",
       "      <td>NINGUNO</td>\n",
       "      <td>FGJ - ESTADO DE MEXICO</td>\n",
       "    </tr>\n",
       "    <tr>\n",
       "      <th>4</th>\n",
       "      <td>2006-12-23</td>\n",
       "      <td>08:00:28</td>\n",
       "      <td>ESTADO DE MEXICO</td>\n",
       "      <td>TLALNEPANTLA DE BAZ</td>\n",
       "      <td>TLALNEPANTLA DE BAZ</td>\n",
       "      <td>MEXICANA</td>\n",
       "      <td>1.10</td>\n",
       "      <td>DELGADA</td>\n",
       "      <td>HOMBRE</td>\n",
       "      <td>10</td>\n",
       "      <td>LUNARES, A LA ALTURA DE LA CINTURAFORMA DE MAN...</td>\n",
       "      <td>NINGUNO</td>\n",
       "      <td>FGJ - ESTADO DE MEXICO</td>\n",
       "    </tr>\n",
       "    <tr>\n",
       "      <th>5</th>\n",
       "      <td>2008-01-11</td>\n",
       "      <td>12:00:17</td>\n",
       "      <td>ESTADO DE MEXICO</td>\n",
       "      <td>TOLUCA</td>\n",
       "      <td>TOLUCA</td>\n",
       "      <td>MEXICANA</td>\n",
       "      <td>1.10</td>\n",
       "      <td>DELGADA</td>\n",
       "      <td>HOMBRE</td>\n",
       "      <td>4</td>\n",
       "      <td>NO ESPECIFICADO</td>\n",
       "      <td>NINGUNO</td>\n",
       "      <td>FGJ - ESTADO DE MEXICO</td>\n",
       "    </tr>\n",
       "    <tr>\n",
       "      <th>...</th>\n",
       "      <td>...</td>\n",
       "      <td>...</td>\n",
       "      <td>...</td>\n",
       "      <td>...</td>\n",
       "      <td>...</td>\n",
       "      <td>...</td>\n",
       "      <td>...</td>\n",
       "      <td>...</td>\n",
       "      <td>...</td>\n",
       "      <td>...</td>\n",
       "      <td>...</td>\n",
       "      <td>...</td>\n",
       "      <td>...</td>\n",
       "    </tr>\n",
       "    <tr>\n",
       "      <th>35897</th>\n",
       "      <td>2018-04-26</td>\n",
       "      <td>08:00:00</td>\n",
       "      <td>PUEBLA</td>\n",
       "      <td>PUEBLA</td>\n",
       "      <td>PUEBLA</td>\n",
       "      <td>MEXICANA</td>\n",
       "      <td>1.60</td>\n",
       "      <td>DELGADA</td>\n",
       "      <td>HOMBRE</td>\n",
       "      <td>22</td>\n",
       "      <td>LUNAR EN LA MEJILLA Y TATUAJE EN EL CUELLO EN ...</td>\n",
       "      <td>NINGUNO</td>\n",
       "      <td>FGE - PUEBLA</td>\n",
       "    </tr>\n",
       "    <tr>\n",
       "      <th>35898</th>\n",
       "      <td>2018-01-08</td>\n",
       "      <td>11:00:00</td>\n",
       "      <td>COLIMA</td>\n",
       "      <td>VILLA DE ALVAREZ</td>\n",
       "      <td>VILLA DE ALVAREZ</td>\n",
       "      <td>MEXICANA</td>\n",
       "      <td>1.70</td>\n",
       "      <td>ROBUSTA</td>\n",
       "      <td>MUJER</td>\n",
       "      <td>27</td>\n",
       "      <td>EL OJO IZQUIERDO TIENE UN ENFERMEDAD COMO TIC,...</td>\n",
       "      <td>NINGUNO</td>\n",
       "      <td>PGJ - COLIMA</td>\n",
       "    </tr>\n",
       "    <tr>\n",
       "      <th>35899</th>\n",
       "      <td>2015-02-02</td>\n",
       "      <td>07:00:00</td>\n",
       "      <td>PUEBLA</td>\n",
       "      <td>CHILA</td>\n",
       "      <td>CHILAS DE LAS FLORES</td>\n",
       "      <td>MEXICANA</td>\n",
       "      <td>1.77</td>\n",
       "      <td>MEDIANA</td>\n",
       "      <td>MUJER</td>\n",
       "      <td>86</td>\n",
       "      <td>NO ESPECIFICADO</td>\n",
       "      <td>NINGUNO</td>\n",
       "      <td>FGE - PUEBLA</td>\n",
       "    </tr>\n",
       "    <tr>\n",
       "      <th>35900</th>\n",
       "      <td>2017-08-22</td>\n",
       "      <td>04:00:00</td>\n",
       "      <td>COLIMA</td>\n",
       "      <td>VILLA DE ALVAREZ</td>\n",
       "      <td>VILLA DE ALVAREZ</td>\n",
       "      <td>MEXICANA</td>\n",
       "      <td>1.76</td>\n",
       "      <td>ROBUSTA</td>\n",
       "      <td>HOMBRE</td>\n",
       "      <td>41</td>\n",
       "      <td>TATUAJE EN EL BRAZO IZQUIERDO CON LA IMAGEN DE...</td>\n",
       "      <td>NINGUNO</td>\n",
       "      <td>PGJ - COLIMA</td>\n",
       "    </tr>\n",
       "    <tr>\n",
       "      <th>35901</th>\n",
       "      <td>2018-04-11</td>\n",
       "      <td>02:00:00</td>\n",
       "      <td>NUEVO LEON</td>\n",
       "      <td>SAN NICOLAS DE LOS GARZA</td>\n",
       "      <td>SAN NICOLAS DE LOS GARZA</td>\n",
       "      <td>MEXICANA</td>\n",
       "      <td>1.60</td>\n",
       "      <td>DELGADA</td>\n",
       "      <td>MUJER</td>\n",
       "      <td>14</td>\n",
       "      <td>NO ESPECIFICADO</td>\n",
       "      <td>NINGUNO</td>\n",
       "      <td>PGJ - NUEVO LEON</td>\n",
       "    </tr>\n",
       "  </tbody>\n",
       "</table>\n",
       "<p>35901 rows × 13 columns</p>\n",
       "</div>"
      ],
      "text/plain": [
       "      Fecha en que se le vio por ultima vez  \\\n",
       "1                                2012-03-18   \n",
       "2                                2007-02-05   \n",
       "3                                2009-03-14   \n",
       "4                                2006-12-23   \n",
       "5                                2008-01-11   \n",
       "...                                     ...   \n",
       "35897                            2018-04-26   \n",
       "35898                            2018-01-08   \n",
       "35899                            2015-02-02   \n",
       "35900                            2017-08-22   \n",
       "35901                            2018-04-11   \n",
       "\n",
       "      Hora en que se le vio por ultima vez  \\\n",
       "1                                 05:00:00   \n",
       "2                                 02:00:26   \n",
       "3                                 08:30:54   \n",
       "4                                 08:00:28   \n",
       "5                                 12:00:17   \n",
       "...                                    ...   \n",
       "35897                             08:00:00   \n",
       "35898                             11:00:00   \n",
       "35899                             07:00:00   \n",
       "35900                             04:00:00   \n",
       "35901                             02:00:00   \n",
       "\n",
       "      Entidad en que se le vio por ultima vez  \\\n",
       "1                                      SONORA   \n",
       "2                            ESTADO DE MEXICO   \n",
       "3                            ESTADO DE MEXICO   \n",
       "4                            ESTADO DE MEXICO   \n",
       "5                            ESTADO DE MEXICO   \n",
       "...                                       ...   \n",
       "35897                                  PUEBLA   \n",
       "35898                                  COLIMA   \n",
       "35899                                  PUEBLA   \n",
       "35900                                  COLIMA   \n",
       "35901                              NUEVO LEON   \n",
       "\n",
       "      Municipio en que se le vio por ultima vez  \\\n",
       "1                                       NAVOJOA   \n",
       "2                                VALLE DE BRAVO   \n",
       "3                                        CHALCO   \n",
       "4                           TLALNEPANTLA DE BAZ   \n",
       "5                                        TOLUCA   \n",
       "...                                         ...   \n",
       "35897                                    PUEBLA   \n",
       "35898                          VILLA DE ALVAREZ   \n",
       "35899                                     CHILA   \n",
       "35900                          VILLA DE ALVAREZ   \n",
       "35901                  SAN NICOLAS DE LOS GARZA   \n",
       "\n",
       "      Localidad en que se le vio por ultima vez Nacionalidad  Estatura  \\\n",
       "1                                       NAVOJOA     MEXICANA      1.10   \n",
       "2                                VALLE DE BRAVO     MEXICANA      1.10   \n",
       "3                                        CHALCO     MEXICANA      1.10   \n",
       "4                           TLALNEPANTLA DE BAZ     MEXICANA      1.10   \n",
       "5                                        TOLUCA     MEXICANA      1.10   \n",
       "...                                         ...          ...       ...   \n",
       "35897                                    PUEBLA     MEXICANA      1.60   \n",
       "35898                          VILLA DE ALVAREZ     MEXICANA      1.70   \n",
       "35899                      CHILAS DE LAS FLORES     MEXICANA      1.77   \n",
       "35900                          VILLA DE ALVAREZ     MEXICANA      1.76   \n",
       "35901                  SAN NICOLAS DE LOS GARZA     MEXICANA      1.60   \n",
       "\n",
       "      Complexion    Sexo  Edad  \\\n",
       "1        DELGADA   MUJER     7   \n",
       "2        DELGADA   MUJER     4   \n",
       "3        DELGADA  HOMBRE     6   \n",
       "4        DELGADA  HOMBRE    10   \n",
       "5        DELGADA  HOMBRE     4   \n",
       "...          ...     ...   ...   \n",
       "35897    DELGADA  HOMBRE    22   \n",
       "35898    ROBUSTA   MUJER    27   \n",
       "35899    MEDIANA   MUJER    86   \n",
       "35900    ROBUSTA  HOMBRE    41   \n",
       "35901    DELGADA   MUJER    14   \n",
       "\n",
       "                       Descripcion de senas particulares Discapacidad  \\\n",
       "1      TIENE UNA CICATRIZ EN LA RODILLA IZQUIERDA POR...      NINGUNO   \n",
       "2                                        NO ESPECIFICADO      NINGUNO   \n",
       "3      MANCHAS, PARTE SUPERIOR DE PIERNA DERECHA, CIC...      NINGUNO   \n",
       "4      LUNARES, A LA ALTURA DE LA CINTURAFORMA DE MAN...      NINGUNO   \n",
       "5                                        NO ESPECIFICADO      NINGUNO   \n",
       "...                                                  ...          ...   \n",
       "35897  LUNAR EN LA MEJILLA Y TATUAJE EN EL CUELLO EN ...      NINGUNO   \n",
       "35898  EL OJO IZQUIERDO TIENE UN ENFERMEDAD COMO TIC,...      NINGUNO   \n",
       "35899                                    NO ESPECIFICADO      NINGUNO   \n",
       "35900  TATUAJE EN EL BRAZO IZQUIERDO CON LA IMAGEN DE...      NINGUNO   \n",
       "35901                                    NO ESPECIFICADO      NINGUNO   \n",
       "\n",
       "      Dependencia que envio la informacion  \n",
       "1                             FGE - SONORA  \n",
       "2                   FGJ - ESTADO DE MEXICO  \n",
       "3                   FGJ - ESTADO DE MEXICO  \n",
       "4                   FGJ - ESTADO DE MEXICO  \n",
       "5                   FGJ - ESTADO DE MEXICO  \n",
       "...                                    ...  \n",
       "35897                         FGE - PUEBLA  \n",
       "35898                         PGJ - COLIMA  \n",
       "35899                         FGE - PUEBLA  \n",
       "35900                         PGJ - COLIMA  \n",
       "35901                     PGJ - NUEVO LEON  \n",
       "\n",
       "[35901 rows x 13 columns]"
      ]
     },
     "execution_count": 62,
     "metadata": {},
     "output_type": "execute_result"
    }
   ],
   "source": [
    "df"
   ]
  },
  {
   "cell_type": "markdown",
   "metadata": {},
   "source": [
    "> Ahora el número de filas ya no coincide con el índice del último registro y la indexación comienza desde 1. "
   ]
  },
  {
   "cell_type": "markdown",
   "metadata": {},
   "source": [
    "### Renombrando columnas"
   ]
  },
  {
   "cell_type": "code",
   "execution_count": 63,
   "metadata": {
    "ExecuteTime": {
     "end_time": "2022-09-15T20:28:31.818470Z",
     "start_time": "2022-09-15T20:28:31.813408Z"
    }
   },
   "outputs": [
    {
     "data": {
      "text/plain": [
       "Index(['Fecha en que se le vio por ultima vez',\n",
       "       'Hora en que se le vio por ultima vez',\n",
       "       'Entidad en que se le vio por ultima vez',\n",
       "       'Municipio en que se le vio por ultima vez',\n",
       "       'Localidad en que se le vio por ultima vez', 'Nacionalidad', 'Estatura',\n",
       "       'Complexion', 'Sexo', 'Edad', 'Descripcion de senas particulares',\n",
       "       'Discapacidad', 'Dependencia que envio la informacion'],\n",
       "      dtype='object')"
      ]
     },
     "execution_count": 63,
     "metadata": {},
     "output_type": "execute_result"
    }
   ],
   "source": [
    "df.columns"
   ]
  },
  {
   "cell_type": "markdown",
   "metadata": {},
   "source": [
    "> Observamos el nombre de las columnas, podemos estandarizar los nombres para cumplir la convención snake case."
   ]
  },
  {
   "cell_type": "markdown",
   "metadata": {},
   "source": [
    "Construimos un diccionario con el mapeo de los nombres de las columnas esperados."
   ]
  },
  {
   "cell_type": "code",
   "execution_count": 64,
   "metadata": {
    "ExecuteTime": {
     "end_time": "2022-09-15T20:28:31.838111Z",
     "start_time": "2022-09-15T20:28:31.820937Z"
    }
   },
   "outputs": [
    {
     "data": {
      "text/html": [
       "<div>\n",
       "<style scoped>\n",
       "    .dataframe tbody tr th:only-of-type {\n",
       "        vertical-align: middle;\n",
       "    }\n",
       "\n",
       "    .dataframe tbody tr th {\n",
       "        vertical-align: top;\n",
       "    }\n",
       "\n",
       "    .dataframe thead th {\n",
       "        text-align: right;\n",
       "    }\n",
       "</style>\n",
       "<table border=\"1\" class=\"dataframe\">\n",
       "  <thead>\n",
       "    <tr style=\"text-align: right;\">\n",
       "      <th></th>\n",
       "      <th>fecha</th>\n",
       "      <th>hora</th>\n",
       "      <th>entidad</th>\n",
       "      <th>municipio</th>\n",
       "      <th>localidad</th>\n",
       "      <th>nacionalidad</th>\n",
       "      <th>estatura</th>\n",
       "      <th>complexion</th>\n",
       "      <th>sexo</th>\n",
       "      <th>edad</th>\n",
       "      <th>senas_particulares</th>\n",
       "      <th>discapacidad</th>\n",
       "      <th>dependecia_origen</th>\n",
       "    </tr>\n",
       "  </thead>\n",
       "  <tbody>\n",
       "    <tr>\n",
       "      <th>1</th>\n",
       "      <td>2012-03-18</td>\n",
       "      <td>05:00:00</td>\n",
       "      <td>SONORA</td>\n",
       "      <td>NAVOJOA</td>\n",
       "      <td>NAVOJOA</td>\n",
       "      <td>MEXICANA</td>\n",
       "      <td>1.10</td>\n",
       "      <td>DELGADA</td>\n",
       "      <td>MUJER</td>\n",
       "      <td>7</td>\n",
       "      <td>TIENE UNA CICATRIZ EN LA RODILLA IZQUIERDA POR...</td>\n",
       "      <td>NINGUNO</td>\n",
       "      <td>FGE - SONORA</td>\n",
       "    </tr>\n",
       "    <tr>\n",
       "      <th>2</th>\n",
       "      <td>2007-02-05</td>\n",
       "      <td>02:00:26</td>\n",
       "      <td>ESTADO DE MEXICO</td>\n",
       "      <td>VALLE DE BRAVO</td>\n",
       "      <td>VALLE DE BRAVO</td>\n",
       "      <td>MEXICANA</td>\n",
       "      <td>1.10</td>\n",
       "      <td>DELGADA</td>\n",
       "      <td>MUJER</td>\n",
       "      <td>4</td>\n",
       "      <td>NO ESPECIFICADO</td>\n",
       "      <td>NINGUNO</td>\n",
       "      <td>FGJ - ESTADO DE MEXICO</td>\n",
       "    </tr>\n",
       "    <tr>\n",
       "      <th>3</th>\n",
       "      <td>2009-03-14</td>\n",
       "      <td>08:30:54</td>\n",
       "      <td>ESTADO DE MEXICO</td>\n",
       "      <td>CHALCO</td>\n",
       "      <td>CHALCO</td>\n",
       "      <td>MEXICANA</td>\n",
       "      <td>1.10</td>\n",
       "      <td>DELGADA</td>\n",
       "      <td>HOMBRE</td>\n",
       "      <td>6</td>\n",
       "      <td>MANCHAS, PARTE SUPERIOR DE PIERNA DERECHA, CIC...</td>\n",
       "      <td>NINGUNO</td>\n",
       "      <td>FGJ - ESTADO DE MEXICO</td>\n",
       "    </tr>\n",
       "    <tr>\n",
       "      <th>4</th>\n",
       "      <td>2006-12-23</td>\n",
       "      <td>08:00:28</td>\n",
       "      <td>ESTADO DE MEXICO</td>\n",
       "      <td>TLALNEPANTLA DE BAZ</td>\n",
       "      <td>TLALNEPANTLA DE BAZ</td>\n",
       "      <td>MEXICANA</td>\n",
       "      <td>1.10</td>\n",
       "      <td>DELGADA</td>\n",
       "      <td>HOMBRE</td>\n",
       "      <td>10</td>\n",
       "      <td>LUNARES, A LA ALTURA DE LA CINTURAFORMA DE MAN...</td>\n",
       "      <td>NINGUNO</td>\n",
       "      <td>FGJ - ESTADO DE MEXICO</td>\n",
       "    </tr>\n",
       "    <tr>\n",
       "      <th>5</th>\n",
       "      <td>2008-01-11</td>\n",
       "      <td>12:00:17</td>\n",
       "      <td>ESTADO DE MEXICO</td>\n",
       "      <td>TOLUCA</td>\n",
       "      <td>TOLUCA</td>\n",
       "      <td>MEXICANA</td>\n",
       "      <td>1.10</td>\n",
       "      <td>DELGADA</td>\n",
       "      <td>HOMBRE</td>\n",
       "      <td>4</td>\n",
       "      <td>NO ESPECIFICADO</td>\n",
       "      <td>NINGUNO</td>\n",
       "      <td>FGJ - ESTADO DE MEXICO</td>\n",
       "    </tr>\n",
       "    <tr>\n",
       "      <th>...</th>\n",
       "      <td>...</td>\n",
       "      <td>...</td>\n",
       "      <td>...</td>\n",
       "      <td>...</td>\n",
       "      <td>...</td>\n",
       "      <td>...</td>\n",
       "      <td>...</td>\n",
       "      <td>...</td>\n",
       "      <td>...</td>\n",
       "      <td>...</td>\n",
       "      <td>...</td>\n",
       "      <td>...</td>\n",
       "      <td>...</td>\n",
       "    </tr>\n",
       "    <tr>\n",
       "      <th>35897</th>\n",
       "      <td>2018-04-26</td>\n",
       "      <td>08:00:00</td>\n",
       "      <td>PUEBLA</td>\n",
       "      <td>PUEBLA</td>\n",
       "      <td>PUEBLA</td>\n",
       "      <td>MEXICANA</td>\n",
       "      <td>1.60</td>\n",
       "      <td>DELGADA</td>\n",
       "      <td>HOMBRE</td>\n",
       "      <td>22</td>\n",
       "      <td>LUNAR EN LA MEJILLA Y TATUAJE EN EL CUELLO EN ...</td>\n",
       "      <td>NINGUNO</td>\n",
       "      <td>FGE - PUEBLA</td>\n",
       "    </tr>\n",
       "    <tr>\n",
       "      <th>35898</th>\n",
       "      <td>2018-01-08</td>\n",
       "      <td>11:00:00</td>\n",
       "      <td>COLIMA</td>\n",
       "      <td>VILLA DE ALVAREZ</td>\n",
       "      <td>VILLA DE ALVAREZ</td>\n",
       "      <td>MEXICANA</td>\n",
       "      <td>1.70</td>\n",
       "      <td>ROBUSTA</td>\n",
       "      <td>MUJER</td>\n",
       "      <td>27</td>\n",
       "      <td>EL OJO IZQUIERDO TIENE UN ENFERMEDAD COMO TIC,...</td>\n",
       "      <td>NINGUNO</td>\n",
       "      <td>PGJ - COLIMA</td>\n",
       "    </tr>\n",
       "    <tr>\n",
       "      <th>35899</th>\n",
       "      <td>2015-02-02</td>\n",
       "      <td>07:00:00</td>\n",
       "      <td>PUEBLA</td>\n",
       "      <td>CHILA</td>\n",
       "      <td>CHILAS DE LAS FLORES</td>\n",
       "      <td>MEXICANA</td>\n",
       "      <td>1.77</td>\n",
       "      <td>MEDIANA</td>\n",
       "      <td>MUJER</td>\n",
       "      <td>86</td>\n",
       "      <td>NO ESPECIFICADO</td>\n",
       "      <td>NINGUNO</td>\n",
       "      <td>FGE - PUEBLA</td>\n",
       "    </tr>\n",
       "    <tr>\n",
       "      <th>35900</th>\n",
       "      <td>2017-08-22</td>\n",
       "      <td>04:00:00</td>\n",
       "      <td>COLIMA</td>\n",
       "      <td>VILLA DE ALVAREZ</td>\n",
       "      <td>VILLA DE ALVAREZ</td>\n",
       "      <td>MEXICANA</td>\n",
       "      <td>1.76</td>\n",
       "      <td>ROBUSTA</td>\n",
       "      <td>HOMBRE</td>\n",
       "      <td>41</td>\n",
       "      <td>TATUAJE EN EL BRAZO IZQUIERDO CON LA IMAGEN DE...</td>\n",
       "      <td>NINGUNO</td>\n",
       "      <td>PGJ - COLIMA</td>\n",
       "    </tr>\n",
       "    <tr>\n",
       "      <th>35901</th>\n",
       "      <td>2018-04-11</td>\n",
       "      <td>02:00:00</td>\n",
       "      <td>NUEVO LEON</td>\n",
       "      <td>SAN NICOLAS DE LOS GARZA</td>\n",
       "      <td>SAN NICOLAS DE LOS GARZA</td>\n",
       "      <td>MEXICANA</td>\n",
       "      <td>1.60</td>\n",
       "      <td>DELGADA</td>\n",
       "      <td>MUJER</td>\n",
       "      <td>14</td>\n",
       "      <td>NO ESPECIFICADO</td>\n",
       "      <td>NINGUNO</td>\n",
       "      <td>PGJ - NUEVO LEON</td>\n",
       "    </tr>\n",
       "  </tbody>\n",
       "</table>\n",
       "<p>35901 rows × 13 columns</p>\n",
       "</div>"
      ],
      "text/plain": [
       "            fecha      hora           entidad                 municipio  \\\n",
       "1      2012-03-18  05:00:00            SONORA                   NAVOJOA   \n",
       "2      2007-02-05  02:00:26  ESTADO DE MEXICO            VALLE DE BRAVO   \n",
       "3      2009-03-14  08:30:54  ESTADO DE MEXICO                    CHALCO   \n",
       "4      2006-12-23  08:00:28  ESTADO DE MEXICO       TLALNEPANTLA DE BAZ   \n",
       "5      2008-01-11  12:00:17  ESTADO DE MEXICO                    TOLUCA   \n",
       "...           ...       ...               ...                       ...   \n",
       "35897  2018-04-26  08:00:00            PUEBLA                    PUEBLA   \n",
       "35898  2018-01-08  11:00:00            COLIMA          VILLA DE ALVAREZ   \n",
       "35899  2015-02-02  07:00:00            PUEBLA                     CHILA   \n",
       "35900  2017-08-22  04:00:00            COLIMA          VILLA DE ALVAREZ   \n",
       "35901  2018-04-11  02:00:00        NUEVO LEON  SAN NICOLAS DE LOS GARZA   \n",
       "\n",
       "                      localidad nacionalidad  estatura complexion    sexo  \\\n",
       "1                       NAVOJOA     MEXICANA      1.10    DELGADA   MUJER   \n",
       "2                VALLE DE BRAVO     MEXICANA      1.10    DELGADA   MUJER   \n",
       "3                        CHALCO     MEXICANA      1.10    DELGADA  HOMBRE   \n",
       "4           TLALNEPANTLA DE BAZ     MEXICANA      1.10    DELGADA  HOMBRE   \n",
       "5                        TOLUCA     MEXICANA      1.10    DELGADA  HOMBRE   \n",
       "...                         ...          ...       ...        ...     ...   \n",
       "35897                    PUEBLA     MEXICANA      1.60    DELGADA  HOMBRE   \n",
       "35898          VILLA DE ALVAREZ     MEXICANA      1.70    ROBUSTA   MUJER   \n",
       "35899      CHILAS DE LAS FLORES     MEXICANA      1.77    MEDIANA   MUJER   \n",
       "35900          VILLA DE ALVAREZ     MEXICANA      1.76    ROBUSTA  HOMBRE   \n",
       "35901  SAN NICOLAS DE LOS GARZA     MEXICANA      1.60    DELGADA   MUJER   \n",
       "\n",
       "       edad                                 senas_particulares discapacidad  \\\n",
       "1         7  TIENE UNA CICATRIZ EN LA RODILLA IZQUIERDA POR...      NINGUNO   \n",
       "2         4                                    NO ESPECIFICADO      NINGUNO   \n",
       "3         6  MANCHAS, PARTE SUPERIOR DE PIERNA DERECHA, CIC...      NINGUNO   \n",
       "4        10  LUNARES, A LA ALTURA DE LA CINTURAFORMA DE MAN...      NINGUNO   \n",
       "5         4                                    NO ESPECIFICADO      NINGUNO   \n",
       "...     ...                                                ...          ...   \n",
       "35897    22  LUNAR EN LA MEJILLA Y TATUAJE EN EL CUELLO EN ...      NINGUNO   \n",
       "35898    27  EL OJO IZQUIERDO TIENE UN ENFERMEDAD COMO TIC,...      NINGUNO   \n",
       "35899    86                                    NO ESPECIFICADO      NINGUNO   \n",
       "35900    41  TATUAJE EN EL BRAZO IZQUIERDO CON LA IMAGEN DE...      NINGUNO   \n",
       "35901    14                                    NO ESPECIFICADO      NINGUNO   \n",
       "\n",
       "            dependecia_origen  \n",
       "1                FGE - SONORA  \n",
       "2      FGJ - ESTADO DE MEXICO  \n",
       "3      FGJ - ESTADO DE MEXICO  \n",
       "4      FGJ - ESTADO DE MEXICO  \n",
       "5      FGJ - ESTADO DE MEXICO  \n",
       "...                       ...  \n",
       "35897            FGE - PUEBLA  \n",
       "35898            PGJ - COLIMA  \n",
       "35899            FGE - PUEBLA  \n",
       "35900            PGJ - COLIMA  \n",
       "35901        PGJ - NUEVO LEON  \n",
       "\n",
       "[35901 rows x 13 columns]"
      ]
     },
     "execution_count": 64,
     "metadata": {},
     "output_type": "execute_result"
    }
   ],
   "source": [
    "column_name_mapping = {\n",
    "    'Fecha en que se le vio por ultima vez': 'fecha',\n",
    "    'Hora en que se le vio por ultima vez': 'hora',\n",
    "    'Entidad en que se le vio por ultima vez': 'entidad',\n",
    "    'Municipio en que se le vio por ultima vez': 'municipio',\n",
    "    'Localidad en que se le vio por ultima vez': 'localidad',\n",
    "    'Nacionalidad': 'nacionalidad',\n",
    "    'Estatura': 'estatura',\n",
    "    'Complexion': 'complexion',\n",
    "    'Sexo': 'sexo',\n",
    "    'Edad': 'edad',\n",
    "    'Descripcion de senas particulares': 'senas_particulares',\n",
    "    'Discapacidad': 'discapacidad',\n",
    "    'Dependencia que envio la informacion': 'dependecia_origen'\n",
    "    \n",
    "}\n",
    "\n",
    "df = df.rename(columns=column_name_mapping)\n",
    "df"
   ]
  },
  {
   "cell_type": "markdown",
   "metadata": {},
   "source": [
    "> Nuestros nombres se encuentran estandarizados y cumplen la convención snake case."
   ]
  },
  {
   "cell_type": "markdown",
   "metadata": {},
   "source": [
    "### Agregaciones"
   ]
  },
  {
   "cell_type": "markdown",
   "metadata": {},
   "source": [
    "Ahora que nuestras columnas numéricas tiene el formato correcto, podemos usar agregaciones para describir los datos que contienen estas columnas."
   ]
  },
  {
   "cell_type": "markdown",
   "metadata": {
    "ExecuteTime": {
     "end_time": "2022-09-15T19:52:21.299965Z",
     "start_time": "2022-09-15T19:52:21.295570Z"
    }
   },
   "source": [
    "**estatura**"
   ]
  },
  {
   "cell_type": "code",
   "execution_count": 65,
   "metadata": {
    "ExecuteTime": {
     "end_time": "2022-09-15T20:28:31.847535Z",
     "start_time": "2022-09-15T20:28:31.841878Z"
    }
   },
   "outputs": [],
   "source": [
    "estatura = {\n",
    "    'Estatura máxima': round(df['estatura'].max(), 2),\n",
    "    'Estatura mínima': round(df['estatura'].min(), 2),\n",
    "    'Estatura promedio': round(df['estatura'].mean(), 2)\n",
    "}"
   ]
  },
  {
   "cell_type": "code",
   "execution_count": 66,
   "metadata": {
    "ExecuteTime": {
     "end_time": "2022-09-15T20:28:31.857550Z",
     "start_time": "2022-09-15T20:28:31.851017Z"
    }
   },
   "outputs": [
    {
     "data": {
      "text/html": [
       "<div>\n",
       "<style scoped>\n",
       "    .dataframe tbody tr th:only-of-type {\n",
       "        vertical-align: middle;\n",
       "    }\n",
       "\n",
       "    .dataframe tbody tr th {\n",
       "        vertical-align: top;\n",
       "    }\n",
       "\n",
       "    .dataframe thead th {\n",
       "        text-align: right;\n",
       "    }\n",
       "</style>\n",
       "<table border=\"1\" class=\"dataframe\">\n",
       "  <thead>\n",
       "    <tr style=\"text-align: right;\">\n",
       "      <th></th>\n",
       "      <th>1</th>\n",
       "    </tr>\n",
       "  </thead>\n",
       "  <tbody>\n",
       "    <tr>\n",
       "      <th>Estatura máxima</th>\n",
       "      <td>2.04</td>\n",
       "    </tr>\n",
       "    <tr>\n",
       "      <th>Estatura mínima</th>\n",
       "      <td>0.30</td>\n",
       "    </tr>\n",
       "    <tr>\n",
       "      <th>Estatura promedio</th>\n",
       "      <td>1.64</td>\n",
       "    </tr>\n",
       "  </tbody>\n",
       "</table>\n",
       "</div>"
      ],
      "text/plain": [
       "                      1\n",
       "Estatura máxima    2.04\n",
       "Estatura mínima    0.30\n",
       "Estatura promedio  1.64"
      ]
     },
     "execution_count": 66,
     "metadata": {},
     "output_type": "execute_result"
    }
   ],
   "source": [
    "pd.DataFrame(estatura, index=[1]).T"
   ]
  },
  {
   "cell_type": "markdown",
   "metadata": {
    "ExecuteTime": {
     "end_time": "2022-09-15T19:56:56.008091Z",
     "start_time": "2022-09-15T19:56:56.002260Z"
    }
   },
   "source": [
    "**edad**"
   ]
  },
  {
   "cell_type": "code",
   "execution_count": 67,
   "metadata": {
    "ExecuteTime": {
     "end_time": "2022-09-15T20:28:31.864345Z",
     "start_time": "2022-09-15T20:28:31.860109Z"
    }
   },
   "outputs": [],
   "source": [
    "edad = {\n",
    "    'Edad máxima': df['edad'].max().astype(int),\n",
    "    'Edad mínima': df['edad'].min().astype(int),\n",
    "    'Edad promedio': df['edad'].mean().astype(int),\n",
    "}"
   ]
  },
  {
   "cell_type": "code",
   "execution_count": 68,
   "metadata": {
    "ExecuteTime": {
     "end_time": "2022-09-15T20:28:31.873628Z",
     "start_time": "2022-09-15T20:28:31.866370Z"
    },
    "scrolled": true
   },
   "outputs": [
    {
     "data": {
      "text/html": [
       "<div>\n",
       "<style scoped>\n",
       "    .dataframe tbody tr th:only-of-type {\n",
       "        vertical-align: middle;\n",
       "    }\n",
       "\n",
       "    .dataframe tbody tr th {\n",
       "        vertical-align: top;\n",
       "    }\n",
       "\n",
       "    .dataframe thead th {\n",
       "        text-align: right;\n",
       "    }\n",
       "</style>\n",
       "<table border=\"1\" class=\"dataframe\">\n",
       "  <thead>\n",
       "    <tr style=\"text-align: right;\">\n",
       "      <th></th>\n",
       "      <th>1</th>\n",
       "    </tr>\n",
       "  </thead>\n",
       "  <tbody>\n",
       "    <tr>\n",
       "      <th>Edad máxima</th>\n",
       "      <td>103</td>\n",
       "    </tr>\n",
       "    <tr>\n",
       "      <th>Edad mínima</th>\n",
       "      <td>1</td>\n",
       "    </tr>\n",
       "    <tr>\n",
       "      <th>Edad promedio</th>\n",
       "      <td>30</td>\n",
       "    </tr>\n",
       "  </tbody>\n",
       "</table>\n",
       "</div>"
      ],
      "text/plain": [
       "                 1\n",
       "Edad máxima    103\n",
       "Edad mínima      1\n",
       "Edad promedio   30"
      ]
     },
     "execution_count": 68,
     "metadata": {},
     "output_type": "execute_result"
    }
   ],
   "source": [
    "pd.DataFrame(edad, index=[1]).T"
   ]
  },
  {
   "cell_type": "markdown",
   "metadata": {},
   "source": [
    "Podemos obtener estos estadísticos descriptivos de forma directa con la función de agregación `describe()`."
   ]
  },
  {
   "cell_type": "code",
   "execution_count": 69,
   "metadata": {
    "ExecuteTime": {
     "end_time": "2022-09-15T20:28:31.897603Z",
     "start_time": "2022-09-15T20:28:31.882594Z"
    }
   },
   "outputs": [
    {
     "data": {
      "text/html": [
       "<div>\n",
       "<style scoped>\n",
       "    .dataframe tbody tr th:only-of-type {\n",
       "        vertical-align: middle;\n",
       "    }\n",
       "\n",
       "    .dataframe tbody tr th {\n",
       "        vertical-align: top;\n",
       "    }\n",
       "\n",
       "    .dataframe thead th {\n",
       "        text-align: right;\n",
       "    }\n",
       "</style>\n",
       "<table border=\"1\" class=\"dataframe\">\n",
       "  <thead>\n",
       "    <tr style=\"text-align: right;\">\n",
       "      <th></th>\n",
       "      <th>count</th>\n",
       "      <th>mean</th>\n",
       "      <th>std</th>\n",
       "      <th>min</th>\n",
       "      <th>25%</th>\n",
       "      <th>50%</th>\n",
       "      <th>75%</th>\n",
       "      <th>max</th>\n",
       "    </tr>\n",
       "  </thead>\n",
       "  <tbody>\n",
       "    <tr>\n",
       "      <th>estatura</th>\n",
       "      <td>35901.0</td>\n",
       "      <td>1.639094</td>\n",
       "      <td>0.136044</td>\n",
       "      <td>0.3</td>\n",
       "      <td>1.62</td>\n",
       "      <td>1.64</td>\n",
       "      <td>1.7</td>\n",
       "      <td>2.04</td>\n",
       "    </tr>\n",
       "    <tr>\n",
       "      <th>edad</th>\n",
       "      <td>35901.0</td>\n",
       "      <td>30.549929</td>\n",
       "      <td>14.370017</td>\n",
       "      <td>1.0</td>\n",
       "      <td>21.00</td>\n",
       "      <td>28.00</td>\n",
       "      <td>38.0</td>\n",
       "      <td>103.00</td>\n",
       "    </tr>\n",
       "  </tbody>\n",
       "</table>\n",
       "</div>"
      ],
      "text/plain": [
       "            count       mean        std  min    25%    50%   75%     max\n",
       "estatura  35901.0   1.639094   0.136044  0.3   1.62   1.64   1.7    2.04\n",
       "edad      35901.0  30.549929  14.370017  1.0  21.00  28.00  38.0  103.00"
      ]
     },
     "execution_count": 69,
     "metadata": {},
     "output_type": "execute_result"
    }
   ],
   "source": [
    "df.describe().T"
   ]
  },
  {
   "cell_type": "markdown",
   "metadata": {},
   "source": [
    "## Automatización y APIs"
   ]
  },
  {
   "cell_type": "markdown",
   "metadata": {},
   "source": [
    "Vamos a utilizar una API de geolocalización que a partir de una dirección nos regrese las coordenadas en valores de latitud y longitud. El registro de la dirección en donde se vio por última vez a una persona desaparecida es uno de los datos más importantes en nuestro conjunto, es por eso que contar con las coordenadas como columna en nuestro data frame es de gran importancia para un futuro análisis.\n",
    "\n",
    "La API que usaremos es proporcionada por [Positionstack](https://positionstack.com/), es una API con un plan gratuito que nos permite realizar hasta 25 mil consultas por mes. Lo único que necesitamos es registrarnos en la página para obtener una API access key y poder empezar a realizar peticiones a la API."
   ]
  },
  {
   "cell_type": "markdown",
   "metadata": {},
   "source": [
    "Tenemos 25,000 peticiones por mes por lo que necesitamos 2 tokens para cubrir nuestro conjunto de datos."
   ]
  },
  {
   "cell_type": "code",
   "execution_count": 57,
   "metadata": {
    "ExecuteTime": {
     "end_time": "2022-09-14T23:39:09.429961Z",
     "start_time": "2022-09-14T23:39:09.424741Z"
    }
   },
   "outputs": [],
   "source": [
    "df_respaldo = df.copy()"
   ]
  },
  {
   "cell_type": "code",
   "execution_count": 66,
   "metadata": {
    "ExecuteTime": {
     "end_time": "2022-09-14T20:40:51.140427Z",
     "start_time": "2022-09-14T20:40:51.138504Z"
    }
   },
   "outputs": [],
   "source": [
    "df = df_respaldo"
   ]
  },
  {
   "cell_type": "markdown",
   "metadata": {},
   "source": [
    "### Nueva columna 'dirección'"
   ]
  },
  {
   "cell_type": "markdown",
   "metadata": {},
   "source": [
    "Crearemos una nueva columna temporal con el nombre de dirección, esta columna contendrá el valor del nombre del municipio más el nombre del país (México en todos los casos) seguido de una coma. Este formato de dirección es con el que la petición a la API arroja con mayor precisión las coordenadas. \n",
    "\n",
    "Recordando que en la columna de 'municipio' mantuvimos la categoría `NO ESPECIFICADO` tenemos que buscar una alternativa para formar nuestro valor de dirección en estos casos, se tomó la decisión de usar el valor de la columna 'entidad' para completar el valor de la dirección y para que la API nos pueda regresar un resultado.\n"
   ]
  },
  {
   "cell_type": "code",
   "execution_count": 66,
   "metadata": {
    "ExecuteTime": {
     "end_time": "2022-09-15T00:12:55.409791Z",
     "start_time": "2022-09-15T00:12:55.398792Z"
    }
   },
   "outputs": [],
   "source": [
    "df['direccion'] = np.where(df['municipio']!= 'NO ESPECIFICADO', df['municipio'] + ', MÉXICO', df['entidad'] + ', MÉXICO')"
   ]
  },
  {
   "cell_type": "code",
   "execution_count": 67,
   "metadata": {
    "ExecuteTime": {
     "end_time": "2022-09-15T00:12:57.754805Z",
     "start_time": "2022-09-15T00:12:57.750210Z"
    }
   },
   "outputs": [
    {
     "data": {
      "text/plain": [
       "1                         NAVOJOA, MÉXICO\n",
       "2                  VALLE DE BRAVO, MÉXICO\n",
       "3                          CHALCO, MÉXICO\n",
       "4             TLALNEPANTLA DE BAZ, MÉXICO\n",
       "5                          TOLUCA, MÉXICO\n",
       "                       ...               \n",
       "35897                      PUEBLA, MÉXICO\n",
       "35898            VILLA DE ALVAREZ, MÉXICO\n",
       "35899                       CHILA, MÉXICO\n",
       "35900            VILLA DE ALVAREZ, MÉXICO\n",
       "35901    SAN NICOLAS DE LOS GARZA, MÉXICO\n",
       "Name: direccion, Length: 35901, dtype: object"
      ]
     },
     "execution_count": 67,
     "metadata": {},
     "output_type": "execute_result"
    }
   ],
   "source": [
    "df['direccion']"
   ]
  },
  {
   "cell_type": "markdown",
   "metadata": {},
   "source": [
    "### Automatización de proceso de peticiones"
   ]
  },
  {
   "cell_type": "markdown",
   "metadata": {},
   "source": [
    "La  [documentación oficial](https://positionstack.com/documentation)  de la API nos muestra la siguiente estructura de **request** para obtener valores de coordenadas: \n",
    "\n",
    "```console\n",
    "// Forward Geocoding API Endpoint\n",
    "\n",
    "http://api.positionstack.com/v1/forward\n",
    "    ? access_key = YOUR_ACCESS_KEY\n",
    "    & query = 1600 Pennsylvania Ave NW, Washington DC\n",
    "```\n",
    "\n",
    "A partir de esta información podemos definir los valores de nuestro endpoint y nuestro diccionario de parámetros. El valor de `query` debe ser nuestra llave de acceso proporcionada por la API, dejaremos vacío el valor de `query`, pues, este cambiará tomando el valor de cada dirección en nuestro proceso de automatización"
   ]
  },
  {
   "cell_type": "code",
   "execution_count": 68,
   "metadata": {
    "ExecuteTime": {
     "end_time": "2022-09-15T00:13:01.298340Z",
     "start_time": "2022-09-15T00:13:01.295697Z"
    }
   },
   "outputs": [],
   "source": [
    "endpoint = 'http://api.positionstack.com/v1/forward?'\n",
    "payload = {'access_key': '', 'query': ''}"
   ]
  },
  {
   "cell_type": "markdown",
   "metadata": {},
   "source": [
    "Creamos una lista vacía en donde se almacenaran los valores de longitud y latitud para cada valor de dirección."
   ]
  },
  {
   "cell_type": "code",
   "execution_count": 69,
   "metadata": {
    "ExecuteTime": {
     "end_time": "2022-09-15T00:13:03.558953Z",
     "start_time": "2022-09-15T00:13:03.556589Z"
    }
   },
   "outputs": [],
   "source": [
    "coordenadas = []"
   ]
  },
  {
   "cell_type": "markdown",
   "metadata": {
    "ExecuteTime": {
     "end_time": "2022-09-14T20:59:23.998143Z",
     "start_time": "2022-09-14T20:59:23.994192Z"
    }
   },
   "source": [
    "**Dividir conjunto de datos**"
   ]
  },
  {
   "cell_type": "markdown",
   "metadata": {},
   "source": [
    "Vamos a dividir nuestro conjunto en dos partes, pues como mencionamos, al necesitar dos llaves de acceso tenemos que realizar el proceso para cada llave."
   ]
  },
  {
   "cell_type": "code",
   "execution_count": 70,
   "metadata": {
    "ExecuteTime": {
     "end_time": "2022-09-15T00:13:30.309051Z",
     "start_time": "2022-09-15T00:13:30.305618Z"
    }
   },
   "outputs": [],
   "source": [
    "df_parte_1 = df.loc[:20000]\n",
    "df_parte_2 = df.loc[20001:]"
   ]
  },
  {
   "cell_type": "code",
   "execution_count": 71,
   "metadata": {
    "ExecuteTime": {
     "end_time": "2022-09-15T00:13:32.482843Z",
     "start_time": "2022-09-15T00:13:32.472125Z"
    },
    "scrolled": false
   },
   "outputs": [
    {
     "data": {
      "text/html": [
       "<div>\n",
       "<style scoped>\n",
       "    .dataframe tbody tr th:only-of-type {\n",
       "        vertical-align: middle;\n",
       "    }\n",
       "\n",
       "    .dataframe tbody tr th {\n",
       "        vertical-align: top;\n",
       "    }\n",
       "\n",
       "    .dataframe thead th {\n",
       "        text-align: right;\n",
       "    }\n",
       "</style>\n",
       "<table border=\"1\" class=\"dataframe\">\n",
       "  <thead>\n",
       "    <tr style=\"text-align: right;\">\n",
       "      <th></th>\n",
       "      <th>fecha</th>\n",
       "      <th>hora</th>\n",
       "      <th>entidad</th>\n",
       "      <th>municipio</th>\n",
       "      <th>localidad</th>\n",
       "      <th>nacionalidad</th>\n",
       "      <th>estatura</th>\n",
       "      <th>complexion</th>\n",
       "      <th>sexo</th>\n",
       "      <th>edad</th>\n",
       "      <th>senas_particulares</th>\n",
       "      <th>discapacidad</th>\n",
       "      <th>dependecia_origen</th>\n",
       "      <th>direccion</th>\n",
       "    </tr>\n",
       "  </thead>\n",
       "  <tbody>\n",
       "    <tr>\n",
       "      <th>1</th>\n",
       "      <td>2012-03-18</td>\n",
       "      <td>05:00:00</td>\n",
       "      <td>SONORA</td>\n",
       "      <td>NAVOJOA</td>\n",
       "      <td>NAVOJOA</td>\n",
       "      <td>MEXICANA</td>\n",
       "      <td>1.10</td>\n",
       "      <td>DELGADA</td>\n",
       "      <td>MUJER</td>\n",
       "      <td>7</td>\n",
       "      <td>TIENE UNA CICATRIZ EN LA RODILLA IZQUIERDA POR...</td>\n",
       "      <td>NINGUNO</td>\n",
       "      <td>FGE - SONORA</td>\n",
       "      <td>NAVOJOA, MÉXICO</td>\n",
       "    </tr>\n",
       "    <tr>\n",
       "      <th>2</th>\n",
       "      <td>2007-02-05</td>\n",
       "      <td>02:00:26</td>\n",
       "      <td>ESTADO DE MEXICO</td>\n",
       "      <td>VALLE DE BRAVO</td>\n",
       "      <td>VALLE DE BRAVO</td>\n",
       "      <td>MEXICANA</td>\n",
       "      <td>1.10</td>\n",
       "      <td>DELGADA</td>\n",
       "      <td>MUJER</td>\n",
       "      <td>4</td>\n",
       "      <td>NO ESPECIFICADO</td>\n",
       "      <td>NINGUNO</td>\n",
       "      <td>FGJ - ESTADO DE MEXICO</td>\n",
       "      <td>VALLE DE BRAVO, MÉXICO</td>\n",
       "    </tr>\n",
       "    <tr>\n",
       "      <th>3</th>\n",
       "      <td>2009-03-14</td>\n",
       "      <td>08:30:54</td>\n",
       "      <td>ESTADO DE MEXICO</td>\n",
       "      <td>CHALCO</td>\n",
       "      <td>CHALCO</td>\n",
       "      <td>MEXICANA</td>\n",
       "      <td>1.10</td>\n",
       "      <td>DELGADA</td>\n",
       "      <td>HOMBRE</td>\n",
       "      <td>6</td>\n",
       "      <td>MANCHAS, PARTE SUPERIOR DE PIERNA DERECHA, CIC...</td>\n",
       "      <td>NINGUNO</td>\n",
       "      <td>FGJ - ESTADO DE MEXICO</td>\n",
       "      <td>CHALCO, MÉXICO</td>\n",
       "    </tr>\n",
       "    <tr>\n",
       "      <th>4</th>\n",
       "      <td>2006-12-23</td>\n",
       "      <td>08:00:28</td>\n",
       "      <td>ESTADO DE MEXICO</td>\n",
       "      <td>TLALNEPANTLA DE BAZ</td>\n",
       "      <td>TLALNEPANTLA DE BAZ</td>\n",
       "      <td>MEXICANA</td>\n",
       "      <td>1.10</td>\n",
       "      <td>DELGADA</td>\n",
       "      <td>HOMBRE</td>\n",
       "      <td>10</td>\n",
       "      <td>LUNARES, A LA ALTURA DE LA CINTURAFORMA DE MAN...</td>\n",
       "      <td>NINGUNO</td>\n",
       "      <td>FGJ - ESTADO DE MEXICO</td>\n",
       "      <td>TLALNEPANTLA DE BAZ, MÉXICO</td>\n",
       "    </tr>\n",
       "    <tr>\n",
       "      <th>5</th>\n",
       "      <td>2008-01-11</td>\n",
       "      <td>12:00:17</td>\n",
       "      <td>ESTADO DE MEXICO</td>\n",
       "      <td>TOLUCA</td>\n",
       "      <td>TOLUCA</td>\n",
       "      <td>MEXICANA</td>\n",
       "      <td>1.10</td>\n",
       "      <td>DELGADA</td>\n",
       "      <td>HOMBRE</td>\n",
       "      <td>4</td>\n",
       "      <td>NO ESPECIFICADO</td>\n",
       "      <td>NINGUNO</td>\n",
       "      <td>FGJ - ESTADO DE MEXICO</td>\n",
       "      <td>TOLUCA, MÉXICO</td>\n",
       "    </tr>\n",
       "    <tr>\n",
       "      <th>...</th>\n",
       "      <td>...</td>\n",
       "      <td>...</td>\n",
       "      <td>...</td>\n",
       "      <td>...</td>\n",
       "      <td>...</td>\n",
       "      <td>...</td>\n",
       "      <td>...</td>\n",
       "      <td>...</td>\n",
       "      <td>...</td>\n",
       "      <td>...</td>\n",
       "      <td>...</td>\n",
       "      <td>...</td>\n",
       "      <td>...</td>\n",
       "      <td>...</td>\n",
       "    </tr>\n",
       "    <tr>\n",
       "      <th>19996</th>\n",
       "      <td>2015-02-26</td>\n",
       "      <td>09:30:00</td>\n",
       "      <td>MICHOACAN</td>\n",
       "      <td>MORELIA</td>\n",
       "      <td>MORELIA</td>\n",
       "      <td>MEXICANA</td>\n",
       "      <td>1.85</td>\n",
       "      <td>MEDIANA</td>\n",
       "      <td>HOMBRE</td>\n",
       "      <td>34</td>\n",
       "      <td>TATUAJE EN SU ANTEBRAZO IZQUIERDO EN TINTA NEG...</td>\n",
       "      <td>NINGUNO</td>\n",
       "      <td>PGJ - MICHOACAN</td>\n",
       "      <td>MORELIA, MÉXICO</td>\n",
       "    </tr>\n",
       "    <tr>\n",
       "      <th>19997</th>\n",
       "      <td>2015-03-08</td>\n",
       "      <td>03:00:00</td>\n",
       "      <td>MICHOACAN</td>\n",
       "      <td>BUENAVISTA</td>\n",
       "      <td>FELIPE CARRILLO PUERTO</td>\n",
       "      <td>MEXICANA</td>\n",
       "      <td>1.68</td>\n",
       "      <td>DELGADA</td>\n",
       "      <td>HOMBRE</td>\n",
       "      <td>37</td>\n",
       "      <td>NO ESPECIFICADO</td>\n",
       "      <td>NINGUNO</td>\n",
       "      <td>PGJ - MICHOACAN</td>\n",
       "      <td>BUENAVISTA, MÉXICO</td>\n",
       "    </tr>\n",
       "    <tr>\n",
       "      <th>19998</th>\n",
       "      <td>2015-03-02</td>\n",
       "      <td>10:00:00</td>\n",
       "      <td>MICHOACAN</td>\n",
       "      <td>URUAPAN</td>\n",
       "      <td>URUAPAN</td>\n",
       "      <td>MEXICANA</td>\n",
       "      <td>1.65</td>\n",
       "      <td>DELGADA</td>\n",
       "      <td>HOMBRE</td>\n",
       "      <td>35</td>\n",
       "      <td>TATUAJE SOLO MENCIONA QUE SON EN EL PECHO SIN ...</td>\n",
       "      <td>NINGUNO</td>\n",
       "      <td>PGJ - MICHOACAN</td>\n",
       "      <td>URUAPAN, MÉXICO</td>\n",
       "    </tr>\n",
       "    <tr>\n",
       "      <th>19999</th>\n",
       "      <td>2015-02-16</td>\n",
       "      <td>04:00:00</td>\n",
       "      <td>MICHOACAN</td>\n",
       "      <td>TACAMBARO</td>\n",
       "      <td>TACAMBARO</td>\n",
       "      <td>MEXICANA</td>\n",
       "      <td>1.64</td>\n",
       "      <td>NO ESPECIFICADO</td>\n",
       "      <td>HOMBRE</td>\n",
       "      <td>19</td>\n",
       "      <td>NO ESPECIFICADO</td>\n",
       "      <td>NINGUNO</td>\n",
       "      <td>PGJ - MICHOACAN</td>\n",
       "      <td>TACAMBARO, MÉXICO</td>\n",
       "    </tr>\n",
       "    <tr>\n",
       "      <th>20000</th>\n",
       "      <td>2015-03-06</td>\n",
       "      <td>08:00:00</td>\n",
       "      <td>MICHOACAN</td>\n",
       "      <td>CUITZEO</td>\n",
       "      <td>CUITZEO</td>\n",
       "      <td>MEXICANA</td>\n",
       "      <td>1.64</td>\n",
       "      <td>NO ESPECIFICADO</td>\n",
       "      <td>MUJER</td>\n",
       "      <td>28</td>\n",
       "      <td>NO ESPECIFICADO</td>\n",
       "      <td>NINGUNO</td>\n",
       "      <td>PGJ - MICHOACAN</td>\n",
       "      <td>CUITZEO, MÉXICO</td>\n",
       "    </tr>\n",
       "  </tbody>\n",
       "</table>\n",
       "<p>20000 rows × 14 columns</p>\n",
       "</div>"
      ],
      "text/plain": [
       "            fecha      hora           entidad            municipio  \\\n",
       "1      2012-03-18  05:00:00            SONORA              NAVOJOA   \n",
       "2      2007-02-05  02:00:26  ESTADO DE MEXICO       VALLE DE BRAVO   \n",
       "3      2009-03-14  08:30:54  ESTADO DE MEXICO               CHALCO   \n",
       "4      2006-12-23  08:00:28  ESTADO DE MEXICO  TLALNEPANTLA DE BAZ   \n",
       "5      2008-01-11  12:00:17  ESTADO DE MEXICO               TOLUCA   \n",
       "...           ...       ...               ...                  ...   \n",
       "19996  2015-02-26  09:30:00         MICHOACAN              MORELIA   \n",
       "19997  2015-03-08  03:00:00         MICHOACAN           BUENAVISTA   \n",
       "19998  2015-03-02  10:00:00         MICHOACAN              URUAPAN   \n",
       "19999  2015-02-16  04:00:00         MICHOACAN            TACAMBARO   \n",
       "20000  2015-03-06  08:00:00         MICHOACAN              CUITZEO   \n",
       "\n",
       "                    localidad nacionalidad  estatura       complexion    sexo  \\\n",
       "1                     NAVOJOA     MEXICANA      1.10          DELGADA   MUJER   \n",
       "2              VALLE DE BRAVO     MEXICANA      1.10          DELGADA   MUJER   \n",
       "3                      CHALCO     MEXICANA      1.10          DELGADA  HOMBRE   \n",
       "4         TLALNEPANTLA DE BAZ     MEXICANA      1.10          DELGADA  HOMBRE   \n",
       "5                      TOLUCA     MEXICANA      1.10          DELGADA  HOMBRE   \n",
       "...                       ...          ...       ...              ...     ...   \n",
       "19996                 MORELIA     MEXICANA      1.85          MEDIANA  HOMBRE   \n",
       "19997  FELIPE CARRILLO PUERTO     MEXICANA      1.68          DELGADA  HOMBRE   \n",
       "19998                 URUAPAN     MEXICANA      1.65          DELGADA  HOMBRE   \n",
       "19999               TACAMBARO     MEXICANA      1.64  NO ESPECIFICADO  HOMBRE   \n",
       "20000                 CUITZEO     MEXICANA      1.64  NO ESPECIFICADO   MUJER   \n",
       "\n",
       "       edad                                 senas_particulares discapacidad  \\\n",
       "1         7  TIENE UNA CICATRIZ EN LA RODILLA IZQUIERDA POR...      NINGUNO   \n",
       "2         4                                    NO ESPECIFICADO      NINGUNO   \n",
       "3         6  MANCHAS, PARTE SUPERIOR DE PIERNA DERECHA, CIC...      NINGUNO   \n",
       "4        10  LUNARES, A LA ALTURA DE LA CINTURAFORMA DE MAN...      NINGUNO   \n",
       "5         4                                    NO ESPECIFICADO      NINGUNO   \n",
       "...     ...                                                ...          ...   \n",
       "19996    34  TATUAJE EN SU ANTEBRAZO IZQUIERDO EN TINTA NEG...      NINGUNO   \n",
       "19997    37                                    NO ESPECIFICADO      NINGUNO   \n",
       "19998    35  TATUAJE SOLO MENCIONA QUE SON EN EL PECHO SIN ...      NINGUNO   \n",
       "19999    19                                    NO ESPECIFICADO      NINGUNO   \n",
       "20000    28                                    NO ESPECIFICADO      NINGUNO   \n",
       "\n",
       "            dependecia_origen                    direccion  \n",
       "1                FGE - SONORA              NAVOJOA, MÉXICO  \n",
       "2      FGJ - ESTADO DE MEXICO       VALLE DE BRAVO, MÉXICO  \n",
       "3      FGJ - ESTADO DE MEXICO               CHALCO, MÉXICO  \n",
       "4      FGJ - ESTADO DE MEXICO  TLALNEPANTLA DE BAZ, MÉXICO  \n",
       "5      FGJ - ESTADO DE MEXICO               TOLUCA, MÉXICO  \n",
       "...                       ...                          ...  \n",
       "19996         PGJ - MICHOACAN              MORELIA, MÉXICO  \n",
       "19997         PGJ - MICHOACAN           BUENAVISTA, MÉXICO  \n",
       "19998         PGJ - MICHOACAN              URUAPAN, MÉXICO  \n",
       "19999         PGJ - MICHOACAN            TACAMBARO, MÉXICO  \n",
       "20000         PGJ - MICHOACAN              CUITZEO, MÉXICO  \n",
       "\n",
       "[20000 rows x 14 columns]"
      ]
     },
     "execution_count": 71,
     "metadata": {},
     "output_type": "execute_result"
    }
   ],
   "source": [
    "df_parte_1"
   ]
  },
  {
   "cell_type": "code",
   "execution_count": 72,
   "metadata": {
    "ExecuteTime": {
     "end_time": "2022-09-15T00:13:37.209719Z",
     "start_time": "2022-09-15T00:13:37.194319Z"
    }
   },
   "outputs": [
    {
     "data": {
      "text/html": [
       "<div>\n",
       "<style scoped>\n",
       "    .dataframe tbody tr th:only-of-type {\n",
       "        vertical-align: middle;\n",
       "    }\n",
       "\n",
       "    .dataframe tbody tr th {\n",
       "        vertical-align: top;\n",
       "    }\n",
       "\n",
       "    .dataframe thead th {\n",
       "        text-align: right;\n",
       "    }\n",
       "</style>\n",
       "<table border=\"1\" class=\"dataframe\">\n",
       "  <thead>\n",
       "    <tr style=\"text-align: right;\">\n",
       "      <th></th>\n",
       "      <th>fecha</th>\n",
       "      <th>hora</th>\n",
       "      <th>entidad</th>\n",
       "      <th>municipio</th>\n",
       "      <th>localidad</th>\n",
       "      <th>nacionalidad</th>\n",
       "      <th>estatura</th>\n",
       "      <th>complexion</th>\n",
       "      <th>sexo</th>\n",
       "      <th>edad</th>\n",
       "      <th>senas_particulares</th>\n",
       "      <th>discapacidad</th>\n",
       "      <th>dependecia_origen</th>\n",
       "      <th>direccion</th>\n",
       "    </tr>\n",
       "  </thead>\n",
       "  <tbody>\n",
       "    <tr>\n",
       "      <th>20001</th>\n",
       "      <td>2011-08-23</td>\n",
       "      <td>06:00:00</td>\n",
       "      <td>MICHOACAN</td>\n",
       "      <td>APATZINGAN</td>\n",
       "      <td>APATZINGAN</td>\n",
       "      <td>MEXICANA</td>\n",
       "      <td>1.70</td>\n",
       "      <td>DELGADA</td>\n",
       "      <td>HOMBRE</td>\n",
       "      <td>17</td>\n",
       "      <td>UN LUNAR A UN LADO DE LA CIEN DEL LADO DERECHO...</td>\n",
       "      <td>NINGUNO</td>\n",
       "      <td>PGJ - MICHOACAN</td>\n",
       "      <td>APATZINGAN, MÉXICO</td>\n",
       "    </tr>\n",
       "    <tr>\n",
       "      <th>20002</th>\n",
       "      <td>2012-01-05</td>\n",
       "      <td>12:50:00</td>\n",
       "      <td>MICHOACAN</td>\n",
       "      <td>APATZINGAN</td>\n",
       "      <td>APATZINGAN</td>\n",
       "      <td>MEXICANA</td>\n",
       "      <td>1.90</td>\n",
       "      <td>ROBUSTA</td>\n",
       "      <td>HOMBRE</td>\n",
       "      <td>34</td>\n",
       "      <td>CON LAS LETRAS DE \"NENE\".</td>\n",
       "      <td>NINGUNO</td>\n",
       "      <td>PGJ - MICHOACAN</td>\n",
       "      <td>APATZINGAN, MÉXICO</td>\n",
       "    </tr>\n",
       "    <tr>\n",
       "      <th>20003</th>\n",
       "      <td>2012-07-31</td>\n",
       "      <td>12:00:00</td>\n",
       "      <td>TAMAULIPAS</td>\n",
       "      <td>REYNOSA</td>\n",
       "      <td>REYNOSA</td>\n",
       "      <td>MEXICANA</td>\n",
       "      <td>1.64</td>\n",
       "      <td>NO ESPECIFICADO</td>\n",
       "      <td>MUJER</td>\n",
       "      <td>29</td>\n",
       "      <td>NO ESPECIFICADO</td>\n",
       "      <td>NINGUNO</td>\n",
       "      <td>PGJ - TAMAULIPAS</td>\n",
       "      <td>REYNOSA, MÉXICO</td>\n",
       "    </tr>\n",
       "    <tr>\n",
       "      <th>20004</th>\n",
       "      <td>2015-03-09</td>\n",
       "      <td>03:30:00</td>\n",
       "      <td>MICHOACAN</td>\n",
       "      <td>SAHUAYO</td>\n",
       "      <td>SAHUAYO</td>\n",
       "      <td>MEXICANA</td>\n",
       "      <td>1.65</td>\n",
       "      <td>ROBUSTA</td>\n",
       "      <td>HOMBRE</td>\n",
       "      <td>43</td>\n",
       "      <td>TRAE PUENTE EN LOS DIENTES DE ABAJO CENTRALES,...</td>\n",
       "      <td>NINGUNO</td>\n",
       "      <td>PGJ - MICHOACAN</td>\n",
       "      <td>SAHUAYO, MÉXICO</td>\n",
       "    </tr>\n",
       "    <tr>\n",
       "      <th>20005</th>\n",
       "      <td>2015-03-10</td>\n",
       "      <td>08:00:00</td>\n",
       "      <td>MICHOACAN</td>\n",
       "      <td>SAHUAYO</td>\n",
       "      <td>SAHUAYO</td>\n",
       "      <td>MEXICANA</td>\n",
       "      <td>1.62</td>\n",
       "      <td>DELGADA</td>\n",
       "      <td>MUJER</td>\n",
       "      <td>14</td>\n",
       "      <td>NO ESPECIFICADO</td>\n",
       "      <td>NINGUNO</td>\n",
       "      <td>PGJ - MICHOACAN</td>\n",
       "      <td>SAHUAYO, MÉXICO</td>\n",
       "    </tr>\n",
       "    <tr>\n",
       "      <th>...</th>\n",
       "      <td>...</td>\n",
       "      <td>...</td>\n",
       "      <td>...</td>\n",
       "      <td>...</td>\n",
       "      <td>...</td>\n",
       "      <td>...</td>\n",
       "      <td>...</td>\n",
       "      <td>...</td>\n",
       "      <td>...</td>\n",
       "      <td>...</td>\n",
       "      <td>...</td>\n",
       "      <td>...</td>\n",
       "      <td>...</td>\n",
       "      <td>...</td>\n",
       "    </tr>\n",
       "    <tr>\n",
       "      <th>35897</th>\n",
       "      <td>2018-04-26</td>\n",
       "      <td>08:00:00</td>\n",
       "      <td>PUEBLA</td>\n",
       "      <td>PUEBLA</td>\n",
       "      <td>PUEBLA</td>\n",
       "      <td>MEXICANA</td>\n",
       "      <td>1.60</td>\n",
       "      <td>DELGADA</td>\n",
       "      <td>HOMBRE</td>\n",
       "      <td>22</td>\n",
       "      <td>LUNAR EN LA MEJILLA Y TATUAJE EN EL CUELLO EN ...</td>\n",
       "      <td>NINGUNO</td>\n",
       "      <td>FGE - PUEBLA</td>\n",
       "      <td>PUEBLA, MÉXICO</td>\n",
       "    </tr>\n",
       "    <tr>\n",
       "      <th>35898</th>\n",
       "      <td>2018-01-08</td>\n",
       "      <td>11:00:00</td>\n",
       "      <td>COLIMA</td>\n",
       "      <td>VILLA DE ALVAREZ</td>\n",
       "      <td>VILLA DE ALVAREZ</td>\n",
       "      <td>MEXICANA</td>\n",
       "      <td>1.70</td>\n",
       "      <td>ROBUSTA</td>\n",
       "      <td>MUJER</td>\n",
       "      <td>27</td>\n",
       "      <td>EL OJO IZQUIERDO TIENE UN ENFERMEDAD COMO TIC,...</td>\n",
       "      <td>NINGUNO</td>\n",
       "      <td>PGJ - COLIMA</td>\n",
       "      <td>VILLA DE ALVAREZ, MÉXICO</td>\n",
       "    </tr>\n",
       "    <tr>\n",
       "      <th>35899</th>\n",
       "      <td>2015-02-02</td>\n",
       "      <td>07:00:00</td>\n",
       "      <td>PUEBLA</td>\n",
       "      <td>CHILA</td>\n",
       "      <td>CHILAS DE LAS FLORES</td>\n",
       "      <td>MEXICANA</td>\n",
       "      <td>1.77</td>\n",
       "      <td>MEDIANA</td>\n",
       "      <td>MUJER</td>\n",
       "      <td>86</td>\n",
       "      <td>NO ESPECIFICADO</td>\n",
       "      <td>NINGUNO</td>\n",
       "      <td>FGE - PUEBLA</td>\n",
       "      <td>CHILA, MÉXICO</td>\n",
       "    </tr>\n",
       "    <tr>\n",
       "      <th>35900</th>\n",
       "      <td>2017-08-22</td>\n",
       "      <td>04:00:00</td>\n",
       "      <td>COLIMA</td>\n",
       "      <td>VILLA DE ALVAREZ</td>\n",
       "      <td>VILLA DE ALVAREZ</td>\n",
       "      <td>MEXICANA</td>\n",
       "      <td>1.76</td>\n",
       "      <td>ROBUSTA</td>\n",
       "      <td>HOMBRE</td>\n",
       "      <td>41</td>\n",
       "      <td>TATUAJE EN EL BRAZO IZQUIERDO CON LA IMAGEN DE...</td>\n",
       "      <td>NINGUNO</td>\n",
       "      <td>PGJ - COLIMA</td>\n",
       "      <td>VILLA DE ALVAREZ, MÉXICO</td>\n",
       "    </tr>\n",
       "    <tr>\n",
       "      <th>35901</th>\n",
       "      <td>2018-04-11</td>\n",
       "      <td>02:00:00</td>\n",
       "      <td>NUEVO LEON</td>\n",
       "      <td>SAN NICOLAS DE LOS GARZA</td>\n",
       "      <td>SAN NICOLAS DE LOS GARZA</td>\n",
       "      <td>MEXICANA</td>\n",
       "      <td>1.60</td>\n",
       "      <td>DELGADA</td>\n",
       "      <td>MUJER</td>\n",
       "      <td>14</td>\n",
       "      <td>NO ESPECIFICADO</td>\n",
       "      <td>NINGUNO</td>\n",
       "      <td>PGJ - NUEVO LEON</td>\n",
       "      <td>SAN NICOLAS DE LOS GARZA, MÉXICO</td>\n",
       "    </tr>\n",
       "  </tbody>\n",
       "</table>\n",
       "<p>15901 rows × 14 columns</p>\n",
       "</div>"
      ],
      "text/plain": [
       "            fecha      hora     entidad                 municipio  \\\n",
       "20001  2011-08-23  06:00:00   MICHOACAN                APATZINGAN   \n",
       "20002  2012-01-05  12:50:00   MICHOACAN                APATZINGAN   \n",
       "20003  2012-07-31  12:00:00  TAMAULIPAS                   REYNOSA   \n",
       "20004  2015-03-09  03:30:00   MICHOACAN                   SAHUAYO   \n",
       "20005  2015-03-10  08:00:00   MICHOACAN                   SAHUAYO   \n",
       "...           ...       ...         ...                       ...   \n",
       "35897  2018-04-26  08:00:00      PUEBLA                    PUEBLA   \n",
       "35898  2018-01-08  11:00:00      COLIMA          VILLA DE ALVAREZ   \n",
       "35899  2015-02-02  07:00:00      PUEBLA                     CHILA   \n",
       "35900  2017-08-22  04:00:00      COLIMA          VILLA DE ALVAREZ   \n",
       "35901  2018-04-11  02:00:00  NUEVO LEON  SAN NICOLAS DE LOS GARZA   \n",
       "\n",
       "                      localidad nacionalidad  estatura       complexion  \\\n",
       "20001                APATZINGAN     MEXICANA      1.70          DELGADA   \n",
       "20002                APATZINGAN     MEXICANA      1.90          ROBUSTA   \n",
       "20003                   REYNOSA     MEXICANA      1.64  NO ESPECIFICADO   \n",
       "20004                   SAHUAYO     MEXICANA      1.65          ROBUSTA   \n",
       "20005                   SAHUAYO     MEXICANA      1.62          DELGADA   \n",
       "...                         ...          ...       ...              ...   \n",
       "35897                    PUEBLA     MEXICANA      1.60          DELGADA   \n",
       "35898          VILLA DE ALVAREZ     MEXICANA      1.70          ROBUSTA   \n",
       "35899      CHILAS DE LAS FLORES     MEXICANA      1.77          MEDIANA   \n",
       "35900          VILLA DE ALVAREZ     MEXICANA      1.76          ROBUSTA   \n",
       "35901  SAN NICOLAS DE LOS GARZA     MEXICANA      1.60          DELGADA   \n",
       "\n",
       "         sexo  edad                                 senas_particulares  \\\n",
       "20001  HOMBRE    17  UN LUNAR A UN LADO DE LA CIEN DEL LADO DERECHO...   \n",
       "20002  HOMBRE    34                          CON LAS LETRAS DE \"NENE\".   \n",
       "20003   MUJER    29                                    NO ESPECIFICADO   \n",
       "20004  HOMBRE    43  TRAE PUENTE EN LOS DIENTES DE ABAJO CENTRALES,...   \n",
       "20005   MUJER    14                                    NO ESPECIFICADO   \n",
       "...       ...   ...                                                ...   \n",
       "35897  HOMBRE    22  LUNAR EN LA MEJILLA Y TATUAJE EN EL CUELLO EN ...   \n",
       "35898   MUJER    27  EL OJO IZQUIERDO TIENE UN ENFERMEDAD COMO TIC,...   \n",
       "35899   MUJER    86                                    NO ESPECIFICADO   \n",
       "35900  HOMBRE    41  TATUAJE EN EL BRAZO IZQUIERDO CON LA IMAGEN DE...   \n",
       "35901   MUJER    14                                    NO ESPECIFICADO   \n",
       "\n",
       "      discapacidad dependecia_origen                         direccion  \n",
       "20001      NINGUNO   PGJ - MICHOACAN                APATZINGAN, MÉXICO  \n",
       "20002      NINGUNO   PGJ - MICHOACAN                APATZINGAN, MÉXICO  \n",
       "20003      NINGUNO  PGJ - TAMAULIPAS                   REYNOSA, MÉXICO  \n",
       "20004      NINGUNO   PGJ - MICHOACAN                   SAHUAYO, MÉXICO  \n",
       "20005      NINGUNO   PGJ - MICHOACAN                   SAHUAYO, MÉXICO  \n",
       "...            ...               ...                               ...  \n",
       "35897      NINGUNO      FGE - PUEBLA                    PUEBLA, MÉXICO  \n",
       "35898      NINGUNO      PGJ - COLIMA          VILLA DE ALVAREZ, MÉXICO  \n",
       "35899      NINGUNO      FGE - PUEBLA                     CHILA, MÉXICO  \n",
       "35900      NINGUNO      PGJ - COLIMA          VILLA DE ALVAREZ, MÉXICO  \n",
       "35901      NINGUNO  PGJ - NUEVO LEON  SAN NICOLAS DE LOS GARZA, MÉXICO  \n",
       "\n",
       "[15901 rows x 14 columns]"
      ]
     },
     "execution_count": 72,
     "metadata": {},
     "output_type": "execute_result"
    }
   ],
   "source": [
    "df_parte_2"
   ]
  },
  {
   "cell_type": "markdown",
   "metadata": {},
   "source": [
    "**Usamos nuestra primera llave.**"
   ]
  },
  {
   "cell_type": "code",
   "execution_count": 73,
   "metadata": {
    "ExecuteTime": {
     "end_time": "2022-09-15T00:14:29.424735Z",
     "start_time": "2022-09-15T00:14:29.421308Z"
    }
   },
   "outputs": [],
   "source": [
    "payload['access_key'] = ''"
   ]
  },
  {
   "cell_type": "markdown",
   "metadata": {},
   "source": [
    "El los siguientes ciclos `for` se llevará a cabo el proceso de automatización, vamos a iterar sobre cada elemento de la columna 'direcciones'. Describiremos los pasos en orden de ejecución:\n",
    "\n",
    "* `payload['query']` = i: Definimos el valor que tendrá el valor 'query', el cual debe ser un string con la dirección que necesita la petición a la API.\n",
    "\n",
    "* `r = requests.get(endpoint, params=payload)`:  Usamos método GET de requests para realizar la petición a nuestro endpoint y enviar los parámetros como información extra que la API necesita para validar nuestra petición.\n",
    "* `json = r.json()`: Guardamos el json que obtenemos como respuesta por la API.\n",
    "\n",
    "* `coordenadas.append(f\"{json['data'][0]['latitude']}, {json['data'][0]['longitude']}\")`: Analizando el json devuelto por la API, identificamos las llaves que necesitamos para acceder a los valores de longitud y latitud. Juntamos ambos valores en un string separándolos por una ','.\n",
    "\n",
    "* `except`: Usamos una estructura try except para la ejecucion de las líneas anteriores. En caso de que algo falle en el proceso de petición, asignaremos un valor '0, 0' a nuestra lista."
   ]
  },
  {
   "cell_type": "code",
   "execution_count": 74,
   "metadata": {
    "ExecuteTime": {
     "end_time": "2022-09-15T01:56:59.552684Z",
     "start_time": "2022-09-15T00:14:37.424313Z"
    },
    "scrolled": true
   },
   "outputs": [],
   "source": [
    "if payload['access_key'] == '':\n",
    "    print(\"Para ejecutar la automatización de las peticiones debes generar tus llaves de acceso, pero no te preocupes, el proceso ya ha sido ejecutado con llaves válidas.\") \n",
    "    print(\"\\nEn las celdas posteriores encontrarás la lectura del conjunto de datos con la columna de coordenadas obtenida por las peticiones a la API.\")\n",
    "else:\n",
    "    for i in df_parte_1['direccion']:\n",
    "        payload['query'] = i\n",
    "        try:\n",
    "            r = requests.get(endpoint, params=payload)\n",
    "            if r.status_code == 200:\n",
    "                json = r.json()\n",
    "                coordenadas.append(f\"{json['data'][0]['latitude']}, {json['data'][0]['longitude']}\")\n",
    "            else:\n",
    "               coordenadas.append('0, 0') \n",
    "        except:\n",
    "            coordenadas.append('0, 0')"
   ]
  },
  {
   "cell_type": "markdown",
   "metadata": {},
   "source": [
    "**Usamos nuestra segunda llave**."
   ]
  },
  {
   "cell_type": "code",
   "execution_count": 79,
   "metadata": {
    "ExecuteTime": {
     "end_time": "2022-09-15T02:01:26.389118Z",
     "start_time": "2022-09-15T02:01:26.384826Z"
    }
   },
   "outputs": [],
   "source": [
    "payload['access_key'] = ''"
   ]
  },
  {
   "cell_type": "code",
   "execution_count": 80,
   "metadata": {
    "ExecuteTime": {
     "end_time": "2022-09-15T03:24:17.484773Z",
     "start_time": "2022-09-15T02:01:48.968526Z"
    },
    "scrolled": false
   },
   "outputs": [],
   "source": [
    "if payload['access_key'] == '':\n",
    "    print(\"Para ejecutar la automatización de las peticiones debes generar tus llaves de acceso, pero no te preocupes, el proceso ya ha sido ejecutado con llaves válidas.\") \n",
    "    print(\"\\nEn las celdas posteriores encontrarás la lectura del conjunto de datos con la columna de coordenadas obtenida por las peticiones a la API.\")\n",
    "else:\n",
    "    for i in df_parte_2['direccion']:\n",
    "        payload['query'] = i\n",
    "        try:\n",
    "            r = requests.get(endpoint, params=payload)\n",
    "            if r.status_code == 200:\n",
    "                json = r.json()\n",
    "                coordenadas.append(f\"{json['data'][0]['latitude']}, {json['data'][0]['longitude']}\")\n",
    "            else:\n",
    "               coordenadas.append('0, 0') \n",
    "        except:\n",
    "            coordenadas.append('0, 0')"
   ]
  },
  {
   "cell_type": "code",
   "execution_count": 81,
   "metadata": {
    "ExecuteTime": {
     "end_time": "2022-09-15T03:24:28.138488Z",
     "start_time": "2022-09-15T03:24:28.133489Z"
    }
   },
   "outputs": [
    {
     "data": {
      "text/plain": [
       "35901"
      ]
     },
     "execution_count": 81,
     "metadata": {},
     "output_type": "execute_result"
    }
   ],
   "source": [
    "len(coordenadas)"
   ]
  },
  {
   "cell_type": "markdown",
   "metadata": {},
   "source": [
    "> El proceso de peticiones ha terminado y nuestra lista de coordenadas ya contiene los valores de longitud y latitud correspondientes a cada registro de nuestro dataframe."
   ]
  },
  {
   "cell_type": "markdown",
   "metadata": {},
   "source": [
    "Ya podemos eliminar nuestra columna temporal de dirección."
   ]
  },
  {
   "cell_type": "code",
   "execution_count": 84,
   "metadata": {
    "ExecuteTime": {
     "end_time": "2022-09-15T03:25:14.631153Z",
     "start_time": "2022-09-15T03:25:14.615779Z"
    }
   },
   "outputs": [],
   "source": [
    "df = df.drop(columns=['direccion'])"
   ]
  },
  {
   "cell_type": "markdown",
   "metadata": {},
   "source": [
    "### Nueva columna 'coordenadas'"
   ]
  },
  {
   "cell_type": "markdown",
   "metadata": {},
   "source": [
    "Terminado el proceso, creamos la columna 'coordenadas' en nuestro data frame pasandole los valores de las coordenadas almacenados en nuestra lista."
   ]
  },
  {
   "cell_type": "code",
   "execution_count": 86,
   "metadata": {
    "ExecuteTime": {
     "end_time": "2022-09-15T03:25:36.405012Z",
     "start_time": "2022-09-15T03:25:36.245617Z"
    }
   },
   "outputs": [],
   "source": [
    "try:\n",
    "   df['coordenadas'] = coordenadas\n",
    "   df.to_csv('RNPEDFC_API.csv', index=False, encoding='ISO-8859-1')\n",
    "except:\n",
    "    print(\"Para ejecutar la automatización de las peticiones debes generar tus llaves de acceso, pero no te preocupes, el proceso ya ha sido ejecutado con llaves válidas.\") \n",
    "    print(\"\\nEn las celdas posteriores encontrarás la lectura del conjunto de datos con la columna de coordenadas obtenida por las peticiones a la API.\")\n"
   ]
  },
  {
   "cell_type": "code",
   "execution_count": 87,
   "metadata": {
    "ExecuteTime": {
     "end_time": "2022-09-15T20:30:03.877568Z",
     "start_time": "2022-09-15T20:30:03.734998Z"
    }
   },
   "outputs": [],
   "source": [
    "df = pd.read_csv('RNPEDFC_API.csv', encoding='ISO-8859-1')"
   ]
  },
  {
   "cell_type": "code",
   "execution_count": 88,
   "metadata": {
    "ExecuteTime": {
     "end_time": "2022-09-15T20:30:03.893817Z",
     "start_time": "2022-09-15T20:30:03.880390Z"
    }
   },
   "outputs": [
    {
     "data": {
      "text/html": [
       "<div>\n",
       "<style scoped>\n",
       "    .dataframe tbody tr th:only-of-type {\n",
       "        vertical-align: middle;\n",
       "    }\n",
       "\n",
       "    .dataframe tbody tr th {\n",
       "        vertical-align: top;\n",
       "    }\n",
       "\n",
       "    .dataframe thead th {\n",
       "        text-align: right;\n",
       "    }\n",
       "</style>\n",
       "<table border=\"1\" class=\"dataframe\">\n",
       "  <thead>\n",
       "    <tr style=\"text-align: right;\">\n",
       "      <th></th>\n",
       "      <th>fecha</th>\n",
       "      <th>hora</th>\n",
       "      <th>entidad</th>\n",
       "      <th>municipio</th>\n",
       "      <th>localidad</th>\n",
       "      <th>nacionalidad</th>\n",
       "      <th>estatura</th>\n",
       "      <th>complexion</th>\n",
       "      <th>sexo</th>\n",
       "      <th>edad</th>\n",
       "      <th>senas_particulares</th>\n",
       "      <th>discapacidad</th>\n",
       "      <th>dependecia_origen</th>\n",
       "      <th>coordenadas</th>\n",
       "    </tr>\n",
       "  </thead>\n",
       "  <tbody>\n",
       "    <tr>\n",
       "      <th>0</th>\n",
       "      <td>2012-03-18</td>\n",
       "      <td>05:00:00</td>\n",
       "      <td>SONORA</td>\n",
       "      <td>NAVOJOA</td>\n",
       "      <td>NAVOJOA</td>\n",
       "      <td>MEXICANA</td>\n",
       "      <td>1.10</td>\n",
       "      <td>DELGADA</td>\n",
       "      <td>MUJER</td>\n",
       "      <td>7</td>\n",
       "      <td>TIENE UNA CICATRIZ EN LA RODILLA IZQUIERDA POR...</td>\n",
       "      <td>NINGUNO</td>\n",
       "      <td>FGE - SONORA</td>\n",
       "      <td>27.069053, -109.439423</td>\n",
       "    </tr>\n",
       "    <tr>\n",
       "      <th>1</th>\n",
       "      <td>2007-02-05</td>\n",
       "      <td>02:00:26</td>\n",
       "      <td>ESTADO DE MEXICO</td>\n",
       "      <td>VALLE DE BRAVO</td>\n",
       "      <td>VALLE DE BRAVO</td>\n",
       "      <td>MEXICANA</td>\n",
       "      <td>1.10</td>\n",
       "      <td>DELGADA</td>\n",
       "      <td>MUJER</td>\n",
       "      <td>4</td>\n",
       "      <td>NO ESPECIFICADO</td>\n",
       "      <td>NINGUNO</td>\n",
       "      <td>FGJ - ESTADO DE MEXICO</td>\n",
       "      <td>19.16368, -100.134684</td>\n",
       "    </tr>\n",
       "    <tr>\n",
       "      <th>2</th>\n",
       "      <td>2009-03-14</td>\n",
       "      <td>08:30:54</td>\n",
       "      <td>ESTADO DE MEXICO</td>\n",
       "      <td>CHALCO</td>\n",
       "      <td>CHALCO</td>\n",
       "      <td>MEXICANA</td>\n",
       "      <td>1.10</td>\n",
       "      <td>DELGADA</td>\n",
       "      <td>HOMBRE</td>\n",
       "      <td>6</td>\n",
       "      <td>MANCHAS, PARTE SUPERIOR DE PIERNA DERECHA, CIC...</td>\n",
       "      <td>NINGUNO</td>\n",
       "      <td>FGJ - ESTADO DE MEXICO</td>\n",
       "      <td>19.266337, -98.8978</td>\n",
       "    </tr>\n",
       "    <tr>\n",
       "      <th>3</th>\n",
       "      <td>2006-12-23</td>\n",
       "      <td>08:00:28</td>\n",
       "      <td>ESTADO DE MEXICO</td>\n",
       "      <td>TLALNEPANTLA DE BAZ</td>\n",
       "      <td>TLALNEPANTLA DE BAZ</td>\n",
       "      <td>MEXICANA</td>\n",
       "      <td>1.10</td>\n",
       "      <td>DELGADA</td>\n",
       "      <td>HOMBRE</td>\n",
       "      <td>10</td>\n",
       "      <td>LUNARES, A LA ALTURA DE LA CINTURAFORMA DE MAN...</td>\n",
       "      <td>NINGUNO</td>\n",
       "      <td>FGJ - ESTADO DE MEXICO</td>\n",
       "      <td>19.547512, -99.193851</td>\n",
       "    </tr>\n",
       "    <tr>\n",
       "      <th>4</th>\n",
       "      <td>2008-01-11</td>\n",
       "      <td>12:00:17</td>\n",
       "      <td>ESTADO DE MEXICO</td>\n",
       "      <td>TOLUCA</td>\n",
       "      <td>TOLUCA</td>\n",
       "      <td>MEXICANA</td>\n",
       "      <td>1.10</td>\n",
       "      <td>DELGADA</td>\n",
       "      <td>HOMBRE</td>\n",
       "      <td>4</td>\n",
       "      <td>NO ESPECIFICADO</td>\n",
       "      <td>NINGUNO</td>\n",
       "      <td>FGJ - ESTADO DE MEXICO</td>\n",
       "      <td>18.078, -91.6552</td>\n",
       "    </tr>\n",
       "    <tr>\n",
       "      <th>...</th>\n",
       "      <td>...</td>\n",
       "      <td>...</td>\n",
       "      <td>...</td>\n",
       "      <td>...</td>\n",
       "      <td>...</td>\n",
       "      <td>...</td>\n",
       "      <td>...</td>\n",
       "      <td>...</td>\n",
       "      <td>...</td>\n",
       "      <td>...</td>\n",
       "      <td>...</td>\n",
       "      <td>...</td>\n",
       "      <td>...</td>\n",
       "      <td>...</td>\n",
       "    </tr>\n",
       "    <tr>\n",
       "      <th>35896</th>\n",
       "      <td>2018-04-26</td>\n",
       "      <td>08:00:00</td>\n",
       "      <td>PUEBLA</td>\n",
       "      <td>PUEBLA</td>\n",
       "      <td>PUEBLA</td>\n",
       "      <td>MEXICANA</td>\n",
       "      <td>1.60</td>\n",
       "      <td>DELGADA</td>\n",
       "      <td>HOMBRE</td>\n",
       "      <td>22</td>\n",
       "      <td>LUNAR EN LA MEJILLA Y TATUAJE EN EL CUELLO EN ...</td>\n",
       "      <td>NINGUNO</td>\n",
       "      <td>FGE - PUEBLA</td>\n",
       "      <td>19.051201, -98.212116</td>\n",
       "    </tr>\n",
       "    <tr>\n",
       "      <th>35897</th>\n",
       "      <td>2018-01-08</td>\n",
       "      <td>11:00:00</td>\n",
       "      <td>COLIMA</td>\n",
       "      <td>VILLA DE ALVAREZ</td>\n",
       "      <td>VILLA DE ALVAREZ</td>\n",
       "      <td>MEXICANA</td>\n",
       "      <td>1.70</td>\n",
       "      <td>ROBUSTA</td>\n",
       "      <td>MUJER</td>\n",
       "      <td>27</td>\n",
       "      <td>EL OJO IZQUIERDO TIENE UN ENFERMEDAD COMO TIC,...</td>\n",
       "      <td>NINGUNO</td>\n",
       "      <td>PGJ - COLIMA</td>\n",
       "      <td>19.25, -103.73333</td>\n",
       "    </tr>\n",
       "    <tr>\n",
       "      <th>35898</th>\n",
       "      <td>2015-02-02</td>\n",
       "      <td>07:00:00</td>\n",
       "      <td>PUEBLA</td>\n",
       "      <td>CHILA</td>\n",
       "      <td>CHILAS DE LAS FLORES</td>\n",
       "      <td>MEXICANA</td>\n",
       "      <td>1.77</td>\n",
       "      <td>MEDIANA</td>\n",
       "      <td>MUJER</td>\n",
       "      <td>86</td>\n",
       "      <td>NO ESPECIFICADO</td>\n",
       "      <td>NINGUNO</td>\n",
       "      <td>FGE - PUEBLA</td>\n",
       "      <td>17.965896, -97.864616</td>\n",
       "    </tr>\n",
       "    <tr>\n",
       "      <th>35899</th>\n",
       "      <td>2017-08-22</td>\n",
       "      <td>04:00:00</td>\n",
       "      <td>COLIMA</td>\n",
       "      <td>VILLA DE ALVAREZ</td>\n",
       "      <td>VILLA DE ALVAREZ</td>\n",
       "      <td>MEXICANA</td>\n",
       "      <td>1.76</td>\n",
       "      <td>ROBUSTA</td>\n",
       "      <td>HOMBRE</td>\n",
       "      <td>41</td>\n",
       "      <td>TATUAJE EN EL BRAZO IZQUIERDO CON LA IMAGEN DE...</td>\n",
       "      <td>NINGUNO</td>\n",
       "      <td>PGJ - COLIMA</td>\n",
       "      <td>19.25, -103.73333</td>\n",
       "    </tr>\n",
       "    <tr>\n",
       "      <th>35900</th>\n",
       "      <td>2018-04-11</td>\n",
       "      <td>02:00:00</td>\n",
       "      <td>NUEVO LEON</td>\n",
       "      <td>SAN NICOLAS DE LOS GARZA</td>\n",
       "      <td>SAN NICOLAS DE LOS GARZA</td>\n",
       "      <td>MEXICANA</td>\n",
       "      <td>1.60</td>\n",
       "      <td>DELGADA</td>\n",
       "      <td>MUJER</td>\n",
       "      <td>14</td>\n",
       "      <td>NO ESPECIFICADO</td>\n",
       "      <td>NINGUNO</td>\n",
       "      <td>PGJ - NUEVO LEON</td>\n",
       "      <td>25.738505, -100.280753</td>\n",
       "    </tr>\n",
       "  </tbody>\n",
       "</table>\n",
       "<p>35901 rows × 14 columns</p>\n",
       "</div>"
      ],
      "text/plain": [
       "            fecha      hora           entidad                 municipio  \\\n",
       "0      2012-03-18  05:00:00            SONORA                   NAVOJOA   \n",
       "1      2007-02-05  02:00:26  ESTADO DE MEXICO            VALLE DE BRAVO   \n",
       "2      2009-03-14  08:30:54  ESTADO DE MEXICO                    CHALCO   \n",
       "3      2006-12-23  08:00:28  ESTADO DE MEXICO       TLALNEPANTLA DE BAZ   \n",
       "4      2008-01-11  12:00:17  ESTADO DE MEXICO                    TOLUCA   \n",
       "...           ...       ...               ...                       ...   \n",
       "35896  2018-04-26  08:00:00            PUEBLA                    PUEBLA   \n",
       "35897  2018-01-08  11:00:00            COLIMA          VILLA DE ALVAREZ   \n",
       "35898  2015-02-02  07:00:00            PUEBLA                     CHILA   \n",
       "35899  2017-08-22  04:00:00            COLIMA          VILLA DE ALVAREZ   \n",
       "35900  2018-04-11  02:00:00        NUEVO LEON  SAN NICOLAS DE LOS GARZA   \n",
       "\n",
       "                      localidad nacionalidad  estatura complexion    sexo  \\\n",
       "0                       NAVOJOA     MEXICANA      1.10    DELGADA   MUJER   \n",
       "1                VALLE DE BRAVO     MEXICANA      1.10    DELGADA   MUJER   \n",
       "2                        CHALCO     MEXICANA      1.10    DELGADA  HOMBRE   \n",
       "3           TLALNEPANTLA DE BAZ     MEXICANA      1.10    DELGADA  HOMBRE   \n",
       "4                        TOLUCA     MEXICANA      1.10    DELGADA  HOMBRE   \n",
       "...                         ...          ...       ...        ...     ...   \n",
       "35896                    PUEBLA     MEXICANA      1.60    DELGADA  HOMBRE   \n",
       "35897          VILLA DE ALVAREZ     MEXICANA      1.70    ROBUSTA   MUJER   \n",
       "35898      CHILAS DE LAS FLORES     MEXICANA      1.77    MEDIANA   MUJER   \n",
       "35899          VILLA DE ALVAREZ     MEXICANA      1.76    ROBUSTA  HOMBRE   \n",
       "35900  SAN NICOLAS DE LOS GARZA     MEXICANA      1.60    DELGADA   MUJER   \n",
       "\n",
       "       edad                                 senas_particulares discapacidad  \\\n",
       "0         7  TIENE UNA CICATRIZ EN LA RODILLA IZQUIERDA POR...      NINGUNO   \n",
       "1         4                                    NO ESPECIFICADO      NINGUNO   \n",
       "2         6  MANCHAS, PARTE SUPERIOR DE PIERNA DERECHA, CIC...      NINGUNO   \n",
       "3        10  LUNARES, A LA ALTURA DE LA CINTURAFORMA DE MAN...      NINGUNO   \n",
       "4         4                                    NO ESPECIFICADO      NINGUNO   \n",
       "...     ...                                                ...          ...   \n",
       "35896    22  LUNAR EN LA MEJILLA Y TATUAJE EN EL CUELLO EN ...      NINGUNO   \n",
       "35897    27  EL OJO IZQUIERDO TIENE UN ENFERMEDAD COMO TIC,...      NINGUNO   \n",
       "35898    86                                    NO ESPECIFICADO      NINGUNO   \n",
       "35899    41  TATUAJE EN EL BRAZO IZQUIERDO CON LA IMAGEN DE...      NINGUNO   \n",
       "35900    14                                    NO ESPECIFICADO      NINGUNO   \n",
       "\n",
       "            dependecia_origen             coordenadas  \n",
       "0                FGE - SONORA  27.069053, -109.439423  \n",
       "1      FGJ - ESTADO DE MEXICO   19.16368, -100.134684  \n",
       "2      FGJ - ESTADO DE MEXICO     19.266337, -98.8978  \n",
       "3      FGJ - ESTADO DE MEXICO   19.547512, -99.193851  \n",
       "4      FGJ - ESTADO DE MEXICO        18.078, -91.6552  \n",
       "...                       ...                     ...  \n",
       "35896            FGE - PUEBLA   19.051201, -98.212116  \n",
       "35897            PGJ - COLIMA       19.25, -103.73333  \n",
       "35898            FGE - PUEBLA   17.965896, -97.864616  \n",
       "35899            PGJ - COLIMA       19.25, -103.73333  \n",
       "35900        PGJ - NUEVO LEON  25.738505, -100.280753  \n",
       "\n",
       "[35901 rows x 14 columns]"
      ]
     },
     "execution_count": 88,
     "metadata": {},
     "output_type": "execute_result"
    }
   ],
   "source": [
    "df"
   ]
  },
  {
   "cell_type": "markdown",
   "metadata": {},
   "source": [
    "> Nuestro dataframe ahora contiene la columna de coordenadas correspondientes a cada registro del último lugar en donde se vio a la persona desaparecida"
   ]
  },
  {
   "cell_type": "markdown",
   "metadata": {},
   "source": [
    "## Transformación, filtración y ordenamiento de datos"
   ]
  },
  {
   "cell_type": "markdown",
   "metadata": {},
   "source": [
    "\n",
    "    - Checa que todos tus datos tengan el tipo de dato correcto. Si no es así, usa casting para convertir tus datos al tipo de dato correcto (recuerda que tipos de dato como datetime64 se guardan como strings cuando están en archivos .csv, así que tendrás que convertirlos al tipo de dato apropiado cada vez que importes tu archivo.)\n",
    "    \n",
    "    - Si tienes columnas de texto, asegúrate de que todas tengan el formato correcto. Si no es así, utiliza las técnicas de manipulación de strings para darles el formato que necesitas.\n",
    "    \n",
    "    - Si consideras que alguna de tus columnas sería más clara si los datos tuvieran otro formato o representación usa map para transformar los datos de esa columna.\n",
    "    \n",
    "    - Si crees que es posible generar nuevas columnas útiles a partir de las columnas que ya tienes, usa apply para generar nuevos datos a partir de los que tienes y añádelos a tu dataset.\n",
    "    \n",
    "    - Con el fin de responder algunas de las preguntas que te planteaste acerca de tu dataset, usa filtros y sorting para crear nuevos subconjuntos y reordenamientos que sean más adecuados para responder tus preguntas. Primero comienza intentando responder las preguntas que te planteaste al principio, pero después puedes solamente explorar para ver si encuentras otras preguntas que no te habías planteado anteriormente.\n"
   ]
  },
  {
   "cell_type": "markdown",
   "metadata": {},
   "source": [
    "### Casting"
   ]
  },
  {
   "cell_type": "markdown",
   "metadata": {},
   "source": [
    "Observemos nuevamente nuestras columnas y su tipo de dato."
   ]
  },
  {
   "cell_type": "code",
   "execution_count": 89,
   "metadata": {
    "ExecuteTime": {
     "end_time": "2022-09-15T20:30:03.905806Z",
     "start_time": "2022-09-15T20:30:03.895732Z"
    },
    "scrolled": true
   },
   "outputs": [
    {
     "data": {
      "text/plain": [
       "fecha                  object\n",
       "hora                   object\n",
       "entidad                object\n",
       "municipio              object\n",
       "localidad              object\n",
       "nacionalidad           object\n",
       "estatura              float64\n",
       "complexion             object\n",
       "sexo                   object\n",
       "edad                    int64\n",
       "senas_particulares     object\n",
       "discapacidad           object\n",
       "dependecia_origen      object\n",
       "coordenadas            object\n",
       "dtype: object"
      ]
     },
     "execution_count": 89,
     "metadata": {},
     "output_type": "execute_result"
    }
   ],
   "source": [
    "df.dtypes"
   ]
  },
  {
   "cell_type": "markdown",
   "metadata": {},
   "source": [
    "> Ya realizamos el casting correspondiente en nuestras variables numéricas 'estatura' y 'edad' pero aún tenemos dos columnas que tienen un tipo de dato incorrecto. "
   ]
  },
  {
   "cell_type": "markdown",
   "metadata": {},
   "source": [
    "Usaremos el método `astype` y un diccionario de conversión para cambiar el tipo de datos de las columnas 'fecha' y 'hora'."
   ]
  },
  {
   "cell_type": "code",
   "execution_count": 90,
   "metadata": {
    "ExecuteTime": {
     "end_time": "2022-09-15T20:30:03.910554Z",
     "start_time": "2022-09-15T20:30:03.908419Z"
    }
   },
   "outputs": [],
   "source": [
    "diccionario_de_conversion = {\n",
    "    'fecha': 'datetime64',\n",
    "    'hora': 'datetime64'\n",
    "}"
   ]
  },
  {
   "cell_type": "code",
   "execution_count": 91,
   "metadata": {
    "ExecuteTime": {
     "end_time": "2022-09-15T20:30:03.970138Z",
     "start_time": "2022-09-15T20:30:03.912168Z"
    }
   },
   "outputs": [],
   "source": [
    "df = df.astype(diccionario_de_conversion)"
   ]
  },
  {
   "cell_type": "code",
   "execution_count": 92,
   "metadata": {
    "ExecuteTime": {
     "end_time": "2022-09-15T20:30:03.978836Z",
     "start_time": "2022-09-15T20:30:03.972026Z"
    }
   },
   "outputs": [
    {
     "data": {
      "text/plain": [
       "0       2012-03-18\n",
       "1       2007-02-05\n",
       "2       2009-03-14\n",
       "3       2006-12-23\n",
       "4       2008-01-11\n",
       "           ...    \n",
       "35896   2018-04-26\n",
       "35897   2018-01-08\n",
       "35898   2015-02-02\n",
       "35899   2017-08-22\n",
       "35900   2018-04-11\n",
       "Name: fecha, Length: 35901, dtype: datetime64[ns]"
      ]
     },
     "execution_count": 92,
     "metadata": {},
     "output_type": "execute_result"
    }
   ],
   "source": [
    "df['fecha']"
   ]
  },
  {
   "cell_type": "code",
   "execution_count": 93,
   "metadata": {
    "ExecuteTime": {
     "end_time": "2022-09-15T20:30:03.986551Z",
     "start_time": "2022-09-15T20:30:03.980691Z"
    }
   },
   "outputs": [
    {
     "data": {
      "text/plain": [
       "0       2022-09-15 05:00:00\n",
       "1       2022-09-15 02:00:26\n",
       "2       2022-09-15 08:30:54\n",
       "3       2022-09-15 08:00:28\n",
       "4       2022-09-15 12:00:17\n",
       "                ...        \n",
       "35896   2022-09-15 08:00:00\n",
       "35897   2022-09-15 11:00:00\n",
       "35898   2022-09-15 07:00:00\n",
       "35899   2022-09-15 04:00:00\n",
       "35900   2022-09-15 02:00:00\n",
       "Name: hora, Length: 35901, dtype: datetime64[ns]"
      ]
     },
     "execution_count": 93,
     "metadata": {},
     "output_type": "execute_result"
    }
   ],
   "source": [
    "df['hora']"
   ]
  },
  {
   "cell_type": "markdown",
   "metadata": {},
   "source": [
    "> Las variables fecha y hora ya son de tipo `datetime64`, sin embargo, a los valores de hora se les ha agregado la fecha actual, debemos corregir esto."
   ]
  },
  {
   "cell_type": "markdown",
   "metadata": {},
   "source": [
    "Extraemos únicamente el registro del tiempo de la columna 'hora'."
   ]
  },
  {
   "cell_type": "code",
   "execution_count": 94,
   "metadata": {
    "ExecuteTime": {
     "end_time": "2022-09-15T20:30:04.005096Z",
     "start_time": "2022-09-15T20:30:03.988217Z"
    }
   },
   "outputs": [
    {
     "data": {
      "text/plain": [
       "0        05:00:00\n",
       "1        02:00:26\n",
       "2        08:30:54\n",
       "3        08:00:28\n",
       "4        12:00:17\n",
       "           ...   \n",
       "35896    08:00:00\n",
       "35897    11:00:00\n",
       "35898    07:00:00\n",
       "35899    04:00:00\n",
       "35900    02:00:00\n",
       "Name: hora, Length: 35901, dtype: object"
      ]
     },
     "execution_count": 94,
     "metadata": {},
     "output_type": "execute_result"
    }
   ],
   "source": [
    "df['hora'] = df['hora'].dt.time\n",
    "df['hora']"
   ]
  },
  {
   "cell_type": "code",
   "execution_count": 95,
   "metadata": {
    "ExecuteTime": {
     "end_time": "2022-09-15T20:30:04.012639Z",
     "start_time": "2022-09-15T20:30:04.007364Z"
    }
   },
   "outputs": [
    {
     "data": {
      "text/plain": [
       "fecha                 datetime64[ns]\n",
       "hora                          object\n",
       "entidad                       object\n",
       "municipio                     object\n",
       "localidad                     object\n",
       "nacionalidad                  object\n",
       "estatura                     float64\n",
       "complexion                    object\n",
       "sexo                          object\n",
       "edad                           int64\n",
       "senas_particulares            object\n",
       "discapacidad                  object\n",
       "dependecia_origen             object\n",
       "coordenadas                   object\n",
       "dtype: object"
      ]
     },
     "execution_count": 95,
     "metadata": {},
     "output_type": "execute_result"
    }
   ],
   "source": [
    "df.dtypes"
   ]
  },
  {
   "cell_type": "markdown",
   "metadata": {},
   "source": [
    "> Vemos que el formato de 'fecha' ahora aparece como `datetime64[ns]`, en el caso de la columna 'hora' lo sigue mostrando como object porque es una extracción de  `datetime64[ns]`."
   ]
  },
  {
   "cell_type": "markdown",
   "metadata": {
    "ExecuteTime": {
     "end_time": "2022-09-14T00:40:37.260277Z",
     "start_time": "2022-09-14T00:40:37.256744Z"
    }
   },
   "source": [
    "### Manipulación de Strings"
   ]
  },
  {
   "cell_type": "code",
   "execution_count": 96,
   "metadata": {
    "ExecuteTime": {
     "end_time": "2022-09-15T20:30:04.026727Z",
     "start_time": "2022-09-15T20:30:04.016560Z"
    }
   },
   "outputs": [
    {
     "data": {
      "text/html": [
       "<div>\n",
       "<style scoped>\n",
       "    .dataframe tbody tr th:only-of-type {\n",
       "        vertical-align: middle;\n",
       "    }\n",
       "\n",
       "    .dataframe tbody tr th {\n",
       "        vertical-align: top;\n",
       "    }\n",
       "\n",
       "    .dataframe thead th {\n",
       "        text-align: right;\n",
       "    }\n",
       "</style>\n",
       "<table border=\"1\" class=\"dataframe\">\n",
       "  <thead>\n",
       "    <tr style=\"text-align: right;\">\n",
       "      <th></th>\n",
       "      <th>fecha</th>\n",
       "      <th>hora</th>\n",
       "      <th>entidad</th>\n",
       "      <th>municipio</th>\n",
       "      <th>localidad</th>\n",
       "      <th>nacionalidad</th>\n",
       "      <th>estatura</th>\n",
       "      <th>complexion</th>\n",
       "      <th>sexo</th>\n",
       "      <th>edad</th>\n",
       "      <th>senas_particulares</th>\n",
       "      <th>discapacidad</th>\n",
       "      <th>dependecia_origen</th>\n",
       "      <th>coordenadas</th>\n",
       "    </tr>\n",
       "  </thead>\n",
       "  <tbody>\n",
       "    <tr>\n",
       "      <th>0</th>\n",
       "      <td>2012-03-18</td>\n",
       "      <td>05:00:00</td>\n",
       "      <td>SONORA</td>\n",
       "      <td>NAVOJOA</td>\n",
       "      <td>NAVOJOA</td>\n",
       "      <td>MEXICANA</td>\n",
       "      <td>1.1</td>\n",
       "      <td>DELGADA</td>\n",
       "      <td>MUJER</td>\n",
       "      <td>7</td>\n",
       "      <td>TIENE UNA CICATRIZ EN LA RODILLA IZQUIERDA POR...</td>\n",
       "      <td>NINGUNO</td>\n",
       "      <td>FGE - SONORA</td>\n",
       "      <td>27.069053, -109.439423</td>\n",
       "    </tr>\n",
       "    <tr>\n",
       "      <th>1</th>\n",
       "      <td>2007-02-05</td>\n",
       "      <td>02:00:26</td>\n",
       "      <td>ESTADO DE MEXICO</td>\n",
       "      <td>VALLE DE BRAVO</td>\n",
       "      <td>VALLE DE BRAVO</td>\n",
       "      <td>MEXICANA</td>\n",
       "      <td>1.1</td>\n",
       "      <td>DELGADA</td>\n",
       "      <td>MUJER</td>\n",
       "      <td>4</td>\n",
       "      <td>NO ESPECIFICADO</td>\n",
       "      <td>NINGUNO</td>\n",
       "      <td>FGJ - ESTADO DE MEXICO</td>\n",
       "      <td>19.16368, -100.134684</td>\n",
       "    </tr>\n",
       "    <tr>\n",
       "      <th>2</th>\n",
       "      <td>2009-03-14</td>\n",
       "      <td>08:30:54</td>\n",
       "      <td>ESTADO DE MEXICO</td>\n",
       "      <td>CHALCO</td>\n",
       "      <td>CHALCO</td>\n",
       "      <td>MEXICANA</td>\n",
       "      <td>1.1</td>\n",
       "      <td>DELGADA</td>\n",
       "      <td>HOMBRE</td>\n",
       "      <td>6</td>\n",
       "      <td>MANCHAS, PARTE SUPERIOR DE PIERNA DERECHA, CIC...</td>\n",
       "      <td>NINGUNO</td>\n",
       "      <td>FGJ - ESTADO DE MEXICO</td>\n",
       "      <td>19.266337, -98.8978</td>\n",
       "    </tr>\n",
       "  </tbody>\n",
       "</table>\n",
       "</div>"
      ],
      "text/plain": [
       "       fecha      hora           entidad       municipio       localidad  \\\n",
       "0 2012-03-18  05:00:00            SONORA         NAVOJOA         NAVOJOA   \n",
       "1 2007-02-05  02:00:26  ESTADO DE MEXICO  VALLE DE BRAVO  VALLE DE BRAVO   \n",
       "2 2009-03-14  08:30:54  ESTADO DE MEXICO          CHALCO          CHALCO   \n",
       "\n",
       "  nacionalidad  estatura complexion    sexo  edad  \\\n",
       "0     MEXICANA       1.1    DELGADA   MUJER     7   \n",
       "1     MEXICANA       1.1    DELGADA   MUJER     4   \n",
       "2     MEXICANA       1.1    DELGADA  HOMBRE     6   \n",
       "\n",
       "                                  senas_particulares discapacidad  \\\n",
       "0  TIENE UNA CICATRIZ EN LA RODILLA IZQUIERDA POR...      NINGUNO   \n",
       "1                                    NO ESPECIFICADO      NINGUNO   \n",
       "2  MANCHAS, PARTE SUPERIOR DE PIERNA DERECHA, CIC...      NINGUNO   \n",
       "\n",
       "        dependecia_origen             coordenadas  \n",
       "0            FGE - SONORA  27.069053, -109.439423  \n",
       "1  FGJ - ESTADO DE MEXICO   19.16368, -100.134684  \n",
       "2  FGJ - ESTADO DE MEXICO     19.266337, -98.8978  "
      ]
     },
     "execution_count": 96,
     "metadata": {},
     "output_type": "execute_result"
    }
   ],
   "source": [
    "df.head(3)"
   ]
  },
  {
   "cell_type": "markdown",
   "metadata": {},
   "source": [
    "Los textos de nuestras variables de tipo `string` están en mayúsculas. Vamos a modificar el patrón iniciando con mayúscula la primera letra de cada palabra."
   ]
  },
  {
   "cell_type": "code",
   "execution_count": 97,
   "metadata": {
    "ExecuteTime": {
     "end_time": "2022-09-15T20:30:04.181986Z",
     "start_time": "2022-09-15T20:30:04.028885Z"
    }
   },
   "outputs": [],
   "source": [
    "columnas = ['entidad', 'municipio', 'localidad', 'nacionalidad', 'complexion', 'sexo', 'senas_particulares', 'discapacidad']\n",
    "\n",
    "for col in columnas:\n",
    "    df[col] = df[col].str.title()"
   ]
  },
  {
   "cell_type": "markdown",
   "metadata": {},
   "source": [
    "En el caso de los valores de dependencia origen nos encontramos con las siglas de las dependencias, por lo tanto, debemos mantenerlas de esta forma. Podemos extraer las letras correspondientes a las siglas y aplicar `.str.title()` únicamente en el resto del texto."
   ]
  },
  {
   "cell_type": "code",
   "execution_count": 98,
   "metadata": {
    "ExecuteTime": {
     "end_time": "2022-09-15T20:30:04.234526Z",
     "start_time": "2022-09-15T20:30:04.183651Z"
    }
   },
   "outputs": [],
   "source": [
    "df['dependecia_origen'] = df['dependecia_origen'].str[:6] + df['dependecia_origen'].str[6:].str.title()"
   ]
  },
  {
   "cell_type": "code",
   "execution_count": 99,
   "metadata": {
    "ExecuteTime": {
     "end_time": "2022-09-15T20:30:04.252692Z",
     "start_time": "2022-09-15T20:30:04.237168Z"
    },
    "scrolled": false
   },
   "outputs": [
    {
     "data": {
      "text/html": [
       "<div>\n",
       "<style scoped>\n",
       "    .dataframe tbody tr th:only-of-type {\n",
       "        vertical-align: middle;\n",
       "    }\n",
       "\n",
       "    .dataframe tbody tr th {\n",
       "        vertical-align: top;\n",
       "    }\n",
       "\n",
       "    .dataframe thead th {\n",
       "        text-align: right;\n",
       "    }\n",
       "</style>\n",
       "<table border=\"1\" class=\"dataframe\">\n",
       "  <thead>\n",
       "    <tr style=\"text-align: right;\">\n",
       "      <th></th>\n",
       "      <th>fecha</th>\n",
       "      <th>hora</th>\n",
       "      <th>entidad</th>\n",
       "      <th>municipio</th>\n",
       "      <th>localidad</th>\n",
       "      <th>nacionalidad</th>\n",
       "      <th>estatura</th>\n",
       "      <th>complexion</th>\n",
       "      <th>sexo</th>\n",
       "      <th>edad</th>\n",
       "      <th>senas_particulares</th>\n",
       "      <th>discapacidad</th>\n",
       "      <th>dependecia_origen</th>\n",
       "      <th>coordenadas</th>\n",
       "    </tr>\n",
       "  </thead>\n",
       "  <tbody>\n",
       "    <tr>\n",
       "      <th>0</th>\n",
       "      <td>2012-03-18</td>\n",
       "      <td>05:00:00</td>\n",
       "      <td>Sonora</td>\n",
       "      <td>Navojoa</td>\n",
       "      <td>Navojoa</td>\n",
       "      <td>Mexicana</td>\n",
       "      <td>1.10</td>\n",
       "      <td>Delgada</td>\n",
       "      <td>Mujer</td>\n",
       "      <td>7</td>\n",
       "      <td>Tiene Una Cicatriz En La Rodilla Izquierda Por...</td>\n",
       "      <td>Ninguno</td>\n",
       "      <td>FGE - Sonora</td>\n",
       "      <td>27.069053, -109.439423</td>\n",
       "    </tr>\n",
       "    <tr>\n",
       "      <th>1</th>\n",
       "      <td>2007-02-05</td>\n",
       "      <td>02:00:26</td>\n",
       "      <td>Estado De Mexico</td>\n",
       "      <td>Valle De Bravo</td>\n",
       "      <td>Valle De Bravo</td>\n",
       "      <td>Mexicana</td>\n",
       "      <td>1.10</td>\n",
       "      <td>Delgada</td>\n",
       "      <td>Mujer</td>\n",
       "      <td>4</td>\n",
       "      <td>No Especificado</td>\n",
       "      <td>Ninguno</td>\n",
       "      <td>FGJ - Estado De Mexico</td>\n",
       "      <td>19.16368, -100.134684</td>\n",
       "    </tr>\n",
       "    <tr>\n",
       "      <th>2</th>\n",
       "      <td>2009-03-14</td>\n",
       "      <td>08:30:54</td>\n",
       "      <td>Estado De Mexico</td>\n",
       "      <td>Chalco</td>\n",
       "      <td>Chalco</td>\n",
       "      <td>Mexicana</td>\n",
       "      <td>1.10</td>\n",
       "      <td>Delgada</td>\n",
       "      <td>Hombre</td>\n",
       "      <td>6</td>\n",
       "      <td>Manchas, Parte Superior De Pierna Derecha, Cic...</td>\n",
       "      <td>Ninguno</td>\n",
       "      <td>FGJ - Estado De Mexico</td>\n",
       "      <td>19.266337, -98.8978</td>\n",
       "    </tr>\n",
       "    <tr>\n",
       "      <th>3</th>\n",
       "      <td>2006-12-23</td>\n",
       "      <td>08:00:28</td>\n",
       "      <td>Estado De Mexico</td>\n",
       "      <td>Tlalnepantla De Baz</td>\n",
       "      <td>Tlalnepantla De Baz</td>\n",
       "      <td>Mexicana</td>\n",
       "      <td>1.10</td>\n",
       "      <td>Delgada</td>\n",
       "      <td>Hombre</td>\n",
       "      <td>10</td>\n",
       "      <td>Lunares, A La Altura De La Cinturaforma De Man...</td>\n",
       "      <td>Ninguno</td>\n",
       "      <td>FGJ - Estado De Mexico</td>\n",
       "      <td>19.547512, -99.193851</td>\n",
       "    </tr>\n",
       "    <tr>\n",
       "      <th>4</th>\n",
       "      <td>2008-01-11</td>\n",
       "      <td>12:00:17</td>\n",
       "      <td>Estado De Mexico</td>\n",
       "      <td>Toluca</td>\n",
       "      <td>Toluca</td>\n",
       "      <td>Mexicana</td>\n",
       "      <td>1.10</td>\n",
       "      <td>Delgada</td>\n",
       "      <td>Hombre</td>\n",
       "      <td>4</td>\n",
       "      <td>No Especificado</td>\n",
       "      <td>Ninguno</td>\n",
       "      <td>FGJ - Estado De Mexico</td>\n",
       "      <td>18.078, -91.6552</td>\n",
       "    </tr>\n",
       "    <tr>\n",
       "      <th>...</th>\n",
       "      <td>...</td>\n",
       "      <td>...</td>\n",
       "      <td>...</td>\n",
       "      <td>...</td>\n",
       "      <td>...</td>\n",
       "      <td>...</td>\n",
       "      <td>...</td>\n",
       "      <td>...</td>\n",
       "      <td>...</td>\n",
       "      <td>...</td>\n",
       "      <td>...</td>\n",
       "      <td>...</td>\n",
       "      <td>...</td>\n",
       "      <td>...</td>\n",
       "    </tr>\n",
       "    <tr>\n",
       "      <th>35896</th>\n",
       "      <td>2018-04-26</td>\n",
       "      <td>08:00:00</td>\n",
       "      <td>Puebla</td>\n",
       "      <td>Puebla</td>\n",
       "      <td>Puebla</td>\n",
       "      <td>Mexicana</td>\n",
       "      <td>1.60</td>\n",
       "      <td>Delgada</td>\n",
       "      <td>Hombre</td>\n",
       "      <td>22</td>\n",
       "      <td>Lunar En La Mejilla Y Tatuaje En El Cuello En ...</td>\n",
       "      <td>Ninguno</td>\n",
       "      <td>FGE - Puebla</td>\n",
       "      <td>19.051201, -98.212116</td>\n",
       "    </tr>\n",
       "    <tr>\n",
       "      <th>35897</th>\n",
       "      <td>2018-01-08</td>\n",
       "      <td>11:00:00</td>\n",
       "      <td>Colima</td>\n",
       "      <td>Villa De Alvarez</td>\n",
       "      <td>Villa De Alvarez</td>\n",
       "      <td>Mexicana</td>\n",
       "      <td>1.70</td>\n",
       "      <td>Robusta</td>\n",
       "      <td>Mujer</td>\n",
       "      <td>27</td>\n",
       "      <td>El Ojo Izquierdo Tiene Un Enfermedad Como Tic,...</td>\n",
       "      <td>Ninguno</td>\n",
       "      <td>PGJ - Colima</td>\n",
       "      <td>19.25, -103.73333</td>\n",
       "    </tr>\n",
       "    <tr>\n",
       "      <th>35898</th>\n",
       "      <td>2015-02-02</td>\n",
       "      <td>07:00:00</td>\n",
       "      <td>Puebla</td>\n",
       "      <td>Chila</td>\n",
       "      <td>Chilas De Las Flores</td>\n",
       "      <td>Mexicana</td>\n",
       "      <td>1.77</td>\n",
       "      <td>Mediana</td>\n",
       "      <td>Mujer</td>\n",
       "      <td>86</td>\n",
       "      <td>No Especificado</td>\n",
       "      <td>Ninguno</td>\n",
       "      <td>FGE - Puebla</td>\n",
       "      <td>17.965896, -97.864616</td>\n",
       "    </tr>\n",
       "    <tr>\n",
       "      <th>35899</th>\n",
       "      <td>2017-08-22</td>\n",
       "      <td>04:00:00</td>\n",
       "      <td>Colima</td>\n",
       "      <td>Villa De Alvarez</td>\n",
       "      <td>Villa De Alvarez</td>\n",
       "      <td>Mexicana</td>\n",
       "      <td>1.76</td>\n",
       "      <td>Robusta</td>\n",
       "      <td>Hombre</td>\n",
       "      <td>41</td>\n",
       "      <td>Tatuaje En El Brazo Izquierdo Con La Imagen De...</td>\n",
       "      <td>Ninguno</td>\n",
       "      <td>PGJ - Colima</td>\n",
       "      <td>19.25, -103.73333</td>\n",
       "    </tr>\n",
       "    <tr>\n",
       "      <th>35900</th>\n",
       "      <td>2018-04-11</td>\n",
       "      <td>02:00:00</td>\n",
       "      <td>Nuevo Leon</td>\n",
       "      <td>San Nicolas De Los Garza</td>\n",
       "      <td>San Nicolas De Los Garza</td>\n",
       "      <td>Mexicana</td>\n",
       "      <td>1.60</td>\n",
       "      <td>Delgada</td>\n",
       "      <td>Mujer</td>\n",
       "      <td>14</td>\n",
       "      <td>No Especificado</td>\n",
       "      <td>Ninguno</td>\n",
       "      <td>PGJ - Nuevo Leon</td>\n",
       "      <td>25.738505, -100.280753</td>\n",
       "    </tr>\n",
       "  </tbody>\n",
       "</table>\n",
       "<p>35901 rows × 14 columns</p>\n",
       "</div>"
      ],
      "text/plain": [
       "           fecha      hora           entidad                 municipio  \\\n",
       "0     2012-03-18  05:00:00            Sonora                   Navojoa   \n",
       "1     2007-02-05  02:00:26  Estado De Mexico            Valle De Bravo   \n",
       "2     2009-03-14  08:30:54  Estado De Mexico                    Chalco   \n",
       "3     2006-12-23  08:00:28  Estado De Mexico       Tlalnepantla De Baz   \n",
       "4     2008-01-11  12:00:17  Estado De Mexico                    Toluca   \n",
       "...          ...       ...               ...                       ...   \n",
       "35896 2018-04-26  08:00:00            Puebla                    Puebla   \n",
       "35897 2018-01-08  11:00:00            Colima          Villa De Alvarez   \n",
       "35898 2015-02-02  07:00:00            Puebla                     Chila   \n",
       "35899 2017-08-22  04:00:00            Colima          Villa De Alvarez   \n",
       "35900 2018-04-11  02:00:00        Nuevo Leon  San Nicolas De Los Garza   \n",
       "\n",
       "                      localidad nacionalidad  estatura complexion    sexo  \\\n",
       "0                       Navojoa     Mexicana      1.10    Delgada   Mujer   \n",
       "1                Valle De Bravo     Mexicana      1.10    Delgada   Mujer   \n",
       "2                        Chalco     Mexicana      1.10    Delgada  Hombre   \n",
       "3           Tlalnepantla De Baz     Mexicana      1.10    Delgada  Hombre   \n",
       "4                        Toluca     Mexicana      1.10    Delgada  Hombre   \n",
       "...                         ...          ...       ...        ...     ...   \n",
       "35896                    Puebla     Mexicana      1.60    Delgada  Hombre   \n",
       "35897          Villa De Alvarez     Mexicana      1.70    Robusta   Mujer   \n",
       "35898      Chilas De Las Flores     Mexicana      1.77    Mediana   Mujer   \n",
       "35899          Villa De Alvarez     Mexicana      1.76    Robusta  Hombre   \n",
       "35900  San Nicolas De Los Garza     Mexicana      1.60    Delgada   Mujer   \n",
       "\n",
       "       edad                                 senas_particulares discapacidad  \\\n",
       "0         7  Tiene Una Cicatriz En La Rodilla Izquierda Por...      Ninguno   \n",
       "1         4                                    No Especificado      Ninguno   \n",
       "2         6  Manchas, Parte Superior De Pierna Derecha, Cic...      Ninguno   \n",
       "3        10  Lunares, A La Altura De La Cinturaforma De Man...      Ninguno   \n",
       "4         4                                    No Especificado      Ninguno   \n",
       "...     ...                                                ...          ...   \n",
       "35896    22  Lunar En La Mejilla Y Tatuaje En El Cuello En ...      Ninguno   \n",
       "35897    27  El Ojo Izquierdo Tiene Un Enfermedad Como Tic,...      Ninguno   \n",
       "35898    86                                    No Especificado      Ninguno   \n",
       "35899    41  Tatuaje En El Brazo Izquierdo Con La Imagen De...      Ninguno   \n",
       "35900    14                                    No Especificado      Ninguno   \n",
       "\n",
       "            dependecia_origen             coordenadas  \n",
       "0                FGE - Sonora  27.069053, -109.439423  \n",
       "1      FGJ - Estado De Mexico   19.16368, -100.134684  \n",
       "2      FGJ - Estado De Mexico     19.266337, -98.8978  \n",
       "3      FGJ - Estado De Mexico   19.547512, -99.193851  \n",
       "4      FGJ - Estado De Mexico        18.078, -91.6552  \n",
       "...                       ...                     ...  \n",
       "35896            FGE - Puebla   19.051201, -98.212116  \n",
       "35897            PGJ - Colima       19.25, -103.73333  \n",
       "35898            FGE - Puebla   17.965896, -97.864616  \n",
       "35899            PGJ - Colima       19.25, -103.73333  \n",
       "35900        PGJ - Nuevo Leon  25.738505, -100.280753  \n",
       "\n",
       "[35901 rows x 14 columns]"
      ]
     },
     "execution_count": 99,
     "metadata": {},
     "output_type": "execute_result"
    }
   ],
   "source": [
    "df"
   ]
  },
  {
   "cell_type": "markdown",
   "metadata": {},
   "source": [
    "> Ahora todas nuestras columnas texto, tienen un formato uniforme. "
   ]
  },
  {
   "cell_type": "markdown",
   "metadata": {},
   "source": [
    "### Filtración y ordenamiento"
   ]
  },
  {
   "cell_type": "markdown",
   "metadata": {},
   "source": [
    "Dado que la información ya está en el formato deseado, podemos empezar a crear nuevas columnas y segmentar el DataFrame para contestar las preguntas restantes descritas en el proyecto"
   ]
  },
  {
   "cell_type": "markdown",
   "metadata": {},
   "source": [
    "**¿En qué parte del país desaparecen más personas?**\n",
    "\n",
    "---"
   ]
  },
  {
   "cell_type": "markdown",
   "metadata": {},
   "source": [
    "Para poder contestar esta pregunta simplemente hacemos una agrupación de los casos de desaparecidos por entidad."
   ]
  },
  {
   "cell_type": "code",
   "execution_count": 100,
   "metadata": {
    "ExecuteTime": {
     "end_time": "2022-09-15T20:30:04.265167Z",
     "start_time": "2022-09-15T20:30:04.254404Z"
    }
   },
   "outputs": [
    {
     "data": {
      "text/html": [
       "<div>\n",
       "<style scoped>\n",
       "    .dataframe tbody tr th:only-of-type {\n",
       "        vertical-align: middle;\n",
       "    }\n",
       "\n",
       "    .dataframe tbody tr th {\n",
       "        vertical-align: top;\n",
       "    }\n",
       "\n",
       "    .dataframe thead th {\n",
       "        text-align: right;\n",
       "    }\n",
       "</style>\n",
       "<table border=\"1\" class=\"dataframe\">\n",
       "  <thead>\n",
       "    <tr style=\"text-align: right;\">\n",
       "      <th></th>\n",
       "      <th>entidad</th>\n",
       "      <th>total</th>\n",
       "    </tr>\n",
       "  </thead>\n",
       "  <tbody>\n",
       "    <tr>\n",
       "      <th>0</th>\n",
       "      <td>Sonora</td>\n",
       "      <td>2150</td>\n",
       "    </tr>\n",
       "    <tr>\n",
       "      <th>1</th>\n",
       "      <td>Estado De Mexico</td>\n",
       "      <td>3890</td>\n",
       "    </tr>\n",
       "    <tr>\n",
       "      <th>2</th>\n",
       "      <td>Chihuahua</td>\n",
       "      <td>2181</td>\n",
       "    </tr>\n",
       "    <tr>\n",
       "      <th>3</th>\n",
       "      <td>Tlaxcala</td>\n",
       "      <td>24</td>\n",
       "    </tr>\n",
       "    <tr>\n",
       "      <th>4</th>\n",
       "      <td>Colima</td>\n",
       "      <td>592</td>\n",
       "    </tr>\n",
       "    <tr>\n",
       "      <th>5</th>\n",
       "      <td>Morelos</td>\n",
       "      <td>239</td>\n",
       "    </tr>\n",
       "    <tr>\n",
       "      <th>6</th>\n",
       "      <td>Hidalgo</td>\n",
       "      <td>145</td>\n",
       "    </tr>\n",
       "    <tr>\n",
       "      <th>7</th>\n",
       "      <td>Durango</td>\n",
       "      <td>415</td>\n",
       "    </tr>\n",
       "    <tr>\n",
       "      <th>8</th>\n",
       "      <td>Queretaro</td>\n",
       "      <td>283</td>\n",
       "    </tr>\n",
       "    <tr>\n",
       "      <th>9</th>\n",
       "      <td>Guanajuato</td>\n",
       "      <td>615</td>\n",
       "    </tr>\n",
       "    <tr>\n",
       "      <th>10</th>\n",
       "      <td>Sinaloa</td>\n",
       "      <td>3023</td>\n",
       "    </tr>\n",
       "    <tr>\n",
       "      <th>11</th>\n",
       "      <td>Nuevo Leon</td>\n",
       "      <td>2895</td>\n",
       "    </tr>\n",
       "    <tr>\n",
       "      <th>12</th>\n",
       "      <td>Jalisco</td>\n",
       "      <td>3361</td>\n",
       "    </tr>\n",
       "    <tr>\n",
       "      <th>13</th>\n",
       "      <td>Zacatecas</td>\n",
       "      <td>510</td>\n",
       "    </tr>\n",
       "    <tr>\n",
       "      <th>14</th>\n",
       "      <td>Baja California Sur</td>\n",
       "      <td>39</td>\n",
       "    </tr>\n",
       "    <tr>\n",
       "      <th>15</th>\n",
       "      <td>Baja California</td>\n",
       "      <td>865</td>\n",
       "    </tr>\n",
       "    <tr>\n",
       "      <th>16</th>\n",
       "      <td>Aguascalientes</td>\n",
       "      <td>222</td>\n",
       "    </tr>\n",
       "    <tr>\n",
       "      <th>17</th>\n",
       "      <td>San Luis Potosi</td>\n",
       "      <td>96</td>\n",
       "    </tr>\n",
       "    <tr>\n",
       "      <th>18</th>\n",
       "      <td>Puebla</td>\n",
       "      <td>2066</td>\n",
       "    </tr>\n",
       "    <tr>\n",
       "      <th>19</th>\n",
       "      <td>Campeche</td>\n",
       "      <td>34</td>\n",
       "    </tr>\n",
       "    <tr>\n",
       "      <th>20</th>\n",
       "      <td>Oaxaca</td>\n",
       "      <td>190</td>\n",
       "    </tr>\n",
       "    <tr>\n",
       "      <th>21</th>\n",
       "      <td>Veracruz</td>\n",
       "      <td>520</td>\n",
       "    </tr>\n",
       "    <tr>\n",
       "      <th>22</th>\n",
       "      <td>Coahuila De Zaragoza</td>\n",
       "      <td>1714</td>\n",
       "    </tr>\n",
       "    <tr>\n",
       "      <th>23</th>\n",
       "      <td>Tamaulipas</td>\n",
       "      <td>5987</td>\n",
       "    </tr>\n",
       "    <tr>\n",
       "      <th>24</th>\n",
       "      <td>Michoacan</td>\n",
       "      <td>1207</td>\n",
       "    </tr>\n",
       "    <tr>\n",
       "      <th>25</th>\n",
       "      <td>Yucatan</td>\n",
       "      <td>99</td>\n",
       "    </tr>\n",
       "    <tr>\n",
       "      <th>26</th>\n",
       "      <td>Guerrero</td>\n",
       "      <td>1438</td>\n",
       "    </tr>\n",
       "    <tr>\n",
       "      <th>27</th>\n",
       "      <td>Tabasco</td>\n",
       "      <td>67</td>\n",
       "    </tr>\n",
       "    <tr>\n",
       "      <th>28</th>\n",
       "      <td>Ciudad De Mexico</td>\n",
       "      <td>727</td>\n",
       "    </tr>\n",
       "    <tr>\n",
       "      <th>29</th>\n",
       "      <td>Quintana Roo</td>\n",
       "      <td>61</td>\n",
       "    </tr>\n",
       "    <tr>\n",
       "      <th>30</th>\n",
       "      <td>Chiapas</td>\n",
       "      <td>108</td>\n",
       "    </tr>\n",
       "    <tr>\n",
       "      <th>31</th>\n",
       "      <td>Nayarit</td>\n",
       "      <td>138</td>\n",
       "    </tr>\n",
       "  </tbody>\n",
       "</table>\n",
       "</div>"
      ],
      "text/plain": [
       "                 entidad  total\n",
       "0                 Sonora   2150\n",
       "1       Estado De Mexico   3890\n",
       "2              Chihuahua   2181\n",
       "3               Tlaxcala     24\n",
       "4                 Colima    592\n",
       "5                Morelos    239\n",
       "6                Hidalgo    145\n",
       "7                Durango    415\n",
       "8              Queretaro    283\n",
       "9             Guanajuato    615\n",
       "10               Sinaloa   3023\n",
       "11            Nuevo Leon   2895\n",
       "12               Jalisco   3361\n",
       "13             Zacatecas    510\n",
       "14   Baja California Sur     39\n",
       "15       Baja California    865\n",
       "16        Aguascalientes    222\n",
       "17       San Luis Potosi     96\n",
       "18                Puebla   2066\n",
       "19              Campeche     34\n",
       "20                Oaxaca    190\n",
       "21              Veracruz    520\n",
       "22  Coahuila De Zaragoza   1714\n",
       "23            Tamaulipas   5987\n",
       "24             Michoacan   1207\n",
       "25               Yucatan     99\n",
       "26              Guerrero   1438\n",
       "27               Tabasco     67\n",
       "28      Ciudad De Mexico    727\n",
       "29          Quintana Roo     61\n",
       "30               Chiapas    108\n",
       "31               Nayarit    138"
      ]
     },
     "execution_count": 100,
     "metadata": {},
     "output_type": "execute_result"
    }
   ],
   "source": [
    "df_entidad= df.groupby(['entidad'], sort=False).size().reset_index(name='total')\n",
    "df_entidad"
   ]
  },
  {
   "cell_type": "markdown",
   "metadata": {},
   "source": [
    "Una vez generado el nuevo DataFrame, buscamos el valor máximo."
   ]
  },
  {
   "cell_type": "code",
   "execution_count": 101,
   "metadata": {
    "ExecuteTime": {
     "end_time": "2022-09-15T20:30:04.275367Z",
     "start_time": "2022-09-15T20:30:04.267202Z"
    }
   },
   "outputs": [
    {
     "data": {
      "text/html": [
       "<div>\n",
       "<style scoped>\n",
       "    .dataframe tbody tr th:only-of-type {\n",
       "        vertical-align: middle;\n",
       "    }\n",
       "\n",
       "    .dataframe tbody tr th {\n",
       "        vertical-align: top;\n",
       "    }\n",
       "\n",
       "    .dataframe thead th {\n",
       "        text-align: right;\n",
       "    }\n",
       "</style>\n",
       "<table border=\"1\" class=\"dataframe\">\n",
       "  <thead>\n",
       "    <tr style=\"text-align: right;\">\n",
       "      <th></th>\n",
       "      <th>entidad</th>\n",
       "      <th>total</th>\n",
       "    </tr>\n",
       "  </thead>\n",
       "  <tbody>\n",
       "    <tr>\n",
       "      <th>23</th>\n",
       "      <td>Tamaulipas</td>\n",
       "      <td>5987</td>\n",
       "    </tr>\n",
       "    <tr>\n",
       "      <th>1</th>\n",
       "      <td>Estado De Mexico</td>\n",
       "      <td>3890</td>\n",
       "    </tr>\n",
       "    <tr>\n",
       "      <th>12</th>\n",
       "      <td>Jalisco</td>\n",
       "      <td>3361</td>\n",
       "    </tr>\n",
       "    <tr>\n",
       "      <th>10</th>\n",
       "      <td>Sinaloa</td>\n",
       "      <td>3023</td>\n",
       "    </tr>\n",
       "    <tr>\n",
       "      <th>11</th>\n",
       "      <td>Nuevo Leon</td>\n",
       "      <td>2895</td>\n",
       "    </tr>\n",
       "    <tr>\n",
       "      <th>2</th>\n",
       "      <td>Chihuahua</td>\n",
       "      <td>2181</td>\n",
       "    </tr>\n",
       "    <tr>\n",
       "      <th>0</th>\n",
       "      <td>Sonora</td>\n",
       "      <td>2150</td>\n",
       "    </tr>\n",
       "    <tr>\n",
       "      <th>18</th>\n",
       "      <td>Puebla</td>\n",
       "      <td>2066</td>\n",
       "    </tr>\n",
       "    <tr>\n",
       "      <th>22</th>\n",
       "      <td>Coahuila De Zaragoza</td>\n",
       "      <td>1714</td>\n",
       "    </tr>\n",
       "    <tr>\n",
       "      <th>26</th>\n",
       "      <td>Guerrero</td>\n",
       "      <td>1438</td>\n",
       "    </tr>\n",
       "    <tr>\n",
       "      <th>24</th>\n",
       "      <td>Michoacan</td>\n",
       "      <td>1207</td>\n",
       "    </tr>\n",
       "    <tr>\n",
       "      <th>15</th>\n",
       "      <td>Baja California</td>\n",
       "      <td>865</td>\n",
       "    </tr>\n",
       "    <tr>\n",
       "      <th>28</th>\n",
       "      <td>Ciudad De Mexico</td>\n",
       "      <td>727</td>\n",
       "    </tr>\n",
       "    <tr>\n",
       "      <th>9</th>\n",
       "      <td>Guanajuato</td>\n",
       "      <td>615</td>\n",
       "    </tr>\n",
       "    <tr>\n",
       "      <th>4</th>\n",
       "      <td>Colima</td>\n",
       "      <td>592</td>\n",
       "    </tr>\n",
       "    <tr>\n",
       "      <th>21</th>\n",
       "      <td>Veracruz</td>\n",
       "      <td>520</td>\n",
       "    </tr>\n",
       "    <tr>\n",
       "      <th>13</th>\n",
       "      <td>Zacatecas</td>\n",
       "      <td>510</td>\n",
       "    </tr>\n",
       "    <tr>\n",
       "      <th>7</th>\n",
       "      <td>Durango</td>\n",
       "      <td>415</td>\n",
       "    </tr>\n",
       "    <tr>\n",
       "      <th>8</th>\n",
       "      <td>Queretaro</td>\n",
       "      <td>283</td>\n",
       "    </tr>\n",
       "    <tr>\n",
       "      <th>5</th>\n",
       "      <td>Morelos</td>\n",
       "      <td>239</td>\n",
       "    </tr>\n",
       "    <tr>\n",
       "      <th>16</th>\n",
       "      <td>Aguascalientes</td>\n",
       "      <td>222</td>\n",
       "    </tr>\n",
       "    <tr>\n",
       "      <th>20</th>\n",
       "      <td>Oaxaca</td>\n",
       "      <td>190</td>\n",
       "    </tr>\n",
       "    <tr>\n",
       "      <th>6</th>\n",
       "      <td>Hidalgo</td>\n",
       "      <td>145</td>\n",
       "    </tr>\n",
       "    <tr>\n",
       "      <th>31</th>\n",
       "      <td>Nayarit</td>\n",
       "      <td>138</td>\n",
       "    </tr>\n",
       "    <tr>\n",
       "      <th>30</th>\n",
       "      <td>Chiapas</td>\n",
       "      <td>108</td>\n",
       "    </tr>\n",
       "    <tr>\n",
       "      <th>25</th>\n",
       "      <td>Yucatan</td>\n",
       "      <td>99</td>\n",
       "    </tr>\n",
       "    <tr>\n",
       "      <th>17</th>\n",
       "      <td>San Luis Potosi</td>\n",
       "      <td>96</td>\n",
       "    </tr>\n",
       "    <tr>\n",
       "      <th>27</th>\n",
       "      <td>Tabasco</td>\n",
       "      <td>67</td>\n",
       "    </tr>\n",
       "    <tr>\n",
       "      <th>29</th>\n",
       "      <td>Quintana Roo</td>\n",
       "      <td>61</td>\n",
       "    </tr>\n",
       "    <tr>\n",
       "      <th>14</th>\n",
       "      <td>Baja California Sur</td>\n",
       "      <td>39</td>\n",
       "    </tr>\n",
       "    <tr>\n",
       "      <th>19</th>\n",
       "      <td>Campeche</td>\n",
       "      <td>34</td>\n",
       "    </tr>\n",
       "    <tr>\n",
       "      <th>3</th>\n",
       "      <td>Tlaxcala</td>\n",
       "      <td>24</td>\n",
       "    </tr>\n",
       "  </tbody>\n",
       "</table>\n",
       "</div>"
      ],
      "text/plain": [
       "                 entidad  total\n",
       "23            Tamaulipas   5987\n",
       "1       Estado De Mexico   3890\n",
       "12               Jalisco   3361\n",
       "10               Sinaloa   3023\n",
       "11            Nuevo Leon   2895\n",
       "2              Chihuahua   2181\n",
       "0                 Sonora   2150\n",
       "18                Puebla   2066\n",
       "22  Coahuila De Zaragoza   1714\n",
       "26              Guerrero   1438\n",
       "24             Michoacan   1207\n",
       "15       Baja California    865\n",
       "28      Ciudad De Mexico    727\n",
       "9             Guanajuato    615\n",
       "4                 Colima    592\n",
       "21              Veracruz    520\n",
       "13             Zacatecas    510\n",
       "7                Durango    415\n",
       "8              Queretaro    283\n",
       "5                Morelos    239\n",
       "16        Aguascalientes    222\n",
       "20                Oaxaca    190\n",
       "6                Hidalgo    145\n",
       "31               Nayarit    138\n",
       "30               Chiapas    108\n",
       "25               Yucatan     99\n",
       "17       San Luis Potosi     96\n",
       "27               Tabasco     67\n",
       "29          Quintana Roo     61\n",
       "14   Baja California Sur     39\n",
       "19              Campeche     34\n",
       "3               Tlaxcala     24"
      ]
     },
     "execution_count": 101,
     "metadata": {},
     "output_type": "execute_result"
    }
   ],
   "source": [
    "df_entidad.sort_values('total', ascending=False)"
   ]
  },
  {
   "cell_type": "code",
   "execution_count": 102,
   "metadata": {
    "ExecuteTime": {
     "end_time": "2022-09-15T20:30:04.282829Z",
     "start_time": "2022-09-15T20:30:04.277259Z"
    }
   },
   "outputs": [
    {
     "data": {
      "text/plain": [
       "entidad    Tamaulipas\n",
       "total            5987\n",
       "Name: 23, dtype: object"
      ]
     },
     "execution_count": 102,
     "metadata": {},
     "output_type": "execute_result"
    }
   ],
   "source": [
    "(df_entidad.sort_values('total', ascending=False)).iloc[0]"
   ]
  },
  {
   "cell_type": "code",
   "execution_count": 103,
   "metadata": {
    "ExecuteTime": {
     "end_time": "2022-09-15T20:30:04.290097Z",
     "start_time": "2022-09-15T20:30:04.284449Z"
    }
   },
   "outputs": [
    {
     "data": {
      "text/plain": [
       "entidad    Tlaxcala\n",
       "total            24\n",
       "Name: 3, dtype: object"
      ]
     },
     "execution_count": 103,
     "metadata": {},
     "output_type": "execute_result"
    }
   ],
   "source": [
    "(df_entidad.sort_values('total', ascending=False)).iloc[-1]"
   ]
  },
  {
   "cell_type": "markdown",
   "metadata": {},
   "source": [
    "> El Estado o Entidad con mayor casos de desaparecidos registrados en el periodo de 1968 al 2018 es Tamaulipas con 5,987 personas desaparecidas. También se puede ver que el Estado con menos casos de desaparecidos es Tlaxcala."
   ]
  },
  {
   "cell_type": "markdown",
   "metadata": {},
   "source": [
    "Gracias a la naturaleza del registro, la pregunta hecha se puede contestar de manera más específica incluyendo el municipio e incluso la localidad."
   ]
  },
  {
   "cell_type": "code",
   "execution_count": 104,
   "metadata": {
    "ExecuteTime": {
     "end_time": "2022-09-15T20:30:04.309914Z",
     "start_time": "2022-09-15T20:30:04.291844Z"
    }
   },
   "outputs": [
    {
     "data": {
      "text/html": [
       "<div>\n",
       "<style scoped>\n",
       "    .dataframe tbody tr th:only-of-type {\n",
       "        vertical-align: middle;\n",
       "    }\n",
       "\n",
       "    .dataframe tbody tr th {\n",
       "        vertical-align: top;\n",
       "    }\n",
       "\n",
       "    .dataframe thead th {\n",
       "        text-align: right;\n",
       "    }\n",
       "</style>\n",
       "<table border=\"1\" class=\"dataframe\">\n",
       "  <thead>\n",
       "    <tr style=\"text-align: right;\">\n",
       "      <th></th>\n",
       "      <th>entidad</th>\n",
       "      <th>municipio</th>\n",
       "      <th>total</th>\n",
       "    </tr>\n",
       "  </thead>\n",
       "  <tbody>\n",
       "    <tr>\n",
       "      <th>0</th>\n",
       "      <td>Sonora</td>\n",
       "      <td>Navojoa</td>\n",
       "      <td>76</td>\n",
       "    </tr>\n",
       "    <tr>\n",
       "      <th>1</th>\n",
       "      <td>Estado De Mexico</td>\n",
       "      <td>Valle De Bravo</td>\n",
       "      <td>30</td>\n",
       "    </tr>\n",
       "    <tr>\n",
       "      <th>2</th>\n",
       "      <td>Estado De Mexico</td>\n",
       "      <td>Chalco</td>\n",
       "      <td>129</td>\n",
       "    </tr>\n",
       "    <tr>\n",
       "      <th>3</th>\n",
       "      <td>Estado De Mexico</td>\n",
       "      <td>Tlalnepantla De Baz</td>\n",
       "      <td>88</td>\n",
       "    </tr>\n",
       "    <tr>\n",
       "      <th>4</th>\n",
       "      <td>Estado De Mexico</td>\n",
       "      <td>Toluca</td>\n",
       "      <td>346</td>\n",
       "    </tr>\n",
       "    <tr>\n",
       "      <th>...</th>\n",
       "      <td>...</td>\n",
       "      <td>...</td>\n",
       "      <td>...</td>\n",
       "    </tr>\n",
       "    <tr>\n",
       "      <th>1159</th>\n",
       "      <td>Puebla</td>\n",
       "      <td>Piaxtla</td>\n",
       "      <td>1</td>\n",
       "    </tr>\n",
       "    <tr>\n",
       "      <th>1160</th>\n",
       "      <td>Puebla</td>\n",
       "      <td>Petlalcingo</td>\n",
       "      <td>1</td>\n",
       "    </tr>\n",
       "    <tr>\n",
       "      <th>1161</th>\n",
       "      <td>Yucatan</td>\n",
       "      <td>Chemax</td>\n",
       "      <td>1</td>\n",
       "    </tr>\n",
       "    <tr>\n",
       "      <th>1162</th>\n",
       "      <td>Nuevo Leon</td>\n",
       "      <td>Mina</td>\n",
       "      <td>1</td>\n",
       "    </tr>\n",
       "    <tr>\n",
       "      <th>1163</th>\n",
       "      <td>Puebla</td>\n",
       "      <td>Chila</td>\n",
       "      <td>1</td>\n",
       "    </tr>\n",
       "  </tbody>\n",
       "</table>\n",
       "<p>1164 rows × 3 columns</p>\n",
       "</div>"
      ],
      "text/plain": [
       "               entidad            municipio  total\n",
       "0               Sonora              Navojoa     76\n",
       "1     Estado De Mexico       Valle De Bravo     30\n",
       "2     Estado De Mexico               Chalco    129\n",
       "3     Estado De Mexico  Tlalnepantla De Baz     88\n",
       "4     Estado De Mexico               Toluca    346\n",
       "...                ...                  ...    ...\n",
       "1159            Puebla              Piaxtla      1\n",
       "1160            Puebla          Petlalcingo      1\n",
       "1161           Yucatan               Chemax      1\n",
       "1162        Nuevo Leon                 Mina      1\n",
       "1163            Puebla                Chila      1\n",
       "\n",
       "[1164 rows x 3 columns]"
      ]
     },
     "execution_count": 104,
     "metadata": {},
     "output_type": "execute_result"
    }
   ],
   "source": [
    "df_entidad_municipio= df.groupby(['entidad', 'municipio'], sort=False).size().reset_index(name='total')\n",
    "df_entidad_municipio"
   ]
  },
  {
   "cell_type": "code",
   "execution_count": 105,
   "metadata": {
    "ExecuteTime": {
     "end_time": "2022-09-15T20:30:04.336760Z",
     "start_time": "2022-09-15T20:30:04.311718Z"
    }
   },
   "outputs": [
    {
     "data": {
      "text/html": [
       "<div>\n",
       "<style scoped>\n",
       "    .dataframe tbody tr th:only-of-type {\n",
       "        vertical-align: middle;\n",
       "    }\n",
       "\n",
       "    .dataframe tbody tr th {\n",
       "        vertical-align: top;\n",
       "    }\n",
       "\n",
       "    .dataframe thead th {\n",
       "        text-align: right;\n",
       "    }\n",
       "</style>\n",
       "<table border=\"1\" class=\"dataframe\">\n",
       "  <thead>\n",
       "    <tr style=\"text-align: right;\">\n",
       "      <th></th>\n",
       "      <th>entidad</th>\n",
       "      <th>municipio</th>\n",
       "      <th>localidad</th>\n",
       "      <th>total</th>\n",
       "    </tr>\n",
       "  </thead>\n",
       "  <tbody>\n",
       "    <tr>\n",
       "      <th>0</th>\n",
       "      <td>Sonora</td>\n",
       "      <td>Navojoa</td>\n",
       "      <td>Navojoa</td>\n",
       "      <td>68</td>\n",
       "    </tr>\n",
       "    <tr>\n",
       "      <th>1</th>\n",
       "      <td>Estado De Mexico</td>\n",
       "      <td>Valle De Bravo</td>\n",
       "      <td>Valle De Bravo</td>\n",
       "      <td>25</td>\n",
       "    </tr>\n",
       "    <tr>\n",
       "      <th>2</th>\n",
       "      <td>Estado De Mexico</td>\n",
       "      <td>Chalco</td>\n",
       "      <td>Chalco</td>\n",
       "      <td>124</td>\n",
       "    </tr>\n",
       "    <tr>\n",
       "      <th>3</th>\n",
       "      <td>Estado De Mexico</td>\n",
       "      <td>Tlalnepantla De Baz</td>\n",
       "      <td>Tlalnepantla De Baz</td>\n",
       "      <td>82</td>\n",
       "    </tr>\n",
       "    <tr>\n",
       "      <th>4</th>\n",
       "      <td>Estado De Mexico</td>\n",
       "      <td>Toluca</td>\n",
       "      <td>Toluca</td>\n",
       "      <td>312</td>\n",
       "    </tr>\n",
       "    <tr>\n",
       "      <th>...</th>\n",
       "      <td>...</td>\n",
       "      <td>...</td>\n",
       "      <td>...</td>\n",
       "      <td>...</td>\n",
       "    </tr>\n",
       "    <tr>\n",
       "      <th>3558</th>\n",
       "      <td>Nuevo Leon</td>\n",
       "      <td>Mina</td>\n",
       "      <td>Mina</td>\n",
       "      <td>1</td>\n",
       "    </tr>\n",
       "    <tr>\n",
       "      <th>3559</th>\n",
       "      <td>Nuevo Leon</td>\n",
       "      <td>Monterrey</td>\n",
       "      <td>Montyerrey</td>\n",
       "      <td>1</td>\n",
       "    </tr>\n",
       "    <tr>\n",
       "      <th>3560</th>\n",
       "      <td>Puebla</td>\n",
       "      <td>Puebla</td>\n",
       "      <td>San Hipolito Xochiltenango</td>\n",
       "      <td>1</td>\n",
       "    </tr>\n",
       "    <tr>\n",
       "      <th>3561</th>\n",
       "      <td>Sonora</td>\n",
       "      <td>Cajeme</td>\n",
       "      <td>Obregon</td>\n",
       "      <td>1</td>\n",
       "    </tr>\n",
       "    <tr>\n",
       "      <th>3562</th>\n",
       "      <td>Puebla</td>\n",
       "      <td>Chila</td>\n",
       "      <td>Chilas De Las Flores</td>\n",
       "      <td>1</td>\n",
       "    </tr>\n",
       "  </tbody>\n",
       "</table>\n",
       "<p>3563 rows × 4 columns</p>\n",
       "</div>"
      ],
      "text/plain": [
       "               entidad            municipio                   localidad  total\n",
       "0               Sonora              Navojoa                     Navojoa     68\n",
       "1     Estado De Mexico       Valle De Bravo              Valle De Bravo     25\n",
       "2     Estado De Mexico               Chalco                      Chalco    124\n",
       "3     Estado De Mexico  Tlalnepantla De Baz         Tlalnepantla De Baz     82\n",
       "4     Estado De Mexico               Toluca                      Toluca    312\n",
       "...                ...                  ...                         ...    ...\n",
       "3558        Nuevo Leon                 Mina                        Mina      1\n",
       "3559        Nuevo Leon            Monterrey                  Montyerrey      1\n",
       "3560            Puebla               Puebla  San Hipolito Xochiltenango      1\n",
       "3561            Sonora               Cajeme                     Obregon      1\n",
       "3562            Puebla                Chila        Chilas De Las Flores      1\n",
       "\n",
       "[3563 rows x 4 columns]"
      ]
     },
     "execution_count": 105,
     "metadata": {},
     "output_type": "execute_result"
    }
   ],
   "source": [
    "df_entidad_municipio_localidad= df.groupby(['entidad', 'municipio', 'localidad'], sort=False).size().reset_index(name='total')\n",
    "df_entidad_municipio_localidad"
   ]
  },
  {
   "cell_type": "markdown",
   "metadata": {},
   "source": [
    "Ahora podemos ver cuál es el municipio y localidad que tiene el mayor número de casos."
   ]
  },
  {
   "cell_type": "code",
   "execution_count": 106,
   "metadata": {
    "ExecuteTime": {
     "end_time": "2022-09-15T20:30:04.352397Z",
     "start_time": "2022-09-15T20:30:04.339679Z"
    }
   },
   "outputs": [
    {
     "data": {
      "text/html": [
       "<div>\n",
       "<style scoped>\n",
       "    .dataframe tbody tr th:only-of-type {\n",
       "        vertical-align: middle;\n",
       "    }\n",
       "\n",
       "    .dataframe tbody tr th {\n",
       "        vertical-align: top;\n",
       "    }\n",
       "\n",
       "    .dataframe thead th {\n",
       "        text-align: right;\n",
       "    }\n",
       "</style>\n",
       "<table border=\"1\" class=\"dataframe\">\n",
       "  <thead>\n",
       "    <tr style=\"text-align: right;\">\n",
       "      <th></th>\n",
       "      <th>entidad</th>\n",
       "      <th>municipio</th>\n",
       "      <th>localidad</th>\n",
       "      <th>total</th>\n",
       "    </tr>\n",
       "  </thead>\n",
       "  <tbody>\n",
       "    <tr>\n",
       "      <th>367</th>\n",
       "      <td>Tamaulipas</td>\n",
       "      <td>Matamoros</td>\n",
       "      <td>Matamoros</td>\n",
       "      <td>1157</td>\n",
       "    </tr>\n",
       "    <tr>\n",
       "      <th>99</th>\n",
       "      <td>Nuevo Leon</td>\n",
       "      <td>Monterrey</td>\n",
       "      <td>Monterrey</td>\n",
       "      <td>989</td>\n",
       "    </tr>\n",
       "    <tr>\n",
       "      <th>372</th>\n",
       "      <td>Tamaulipas</td>\n",
       "      <td>Reynosa</td>\n",
       "      <td>Reynosa</td>\n",
       "      <td>965</td>\n",
       "    </tr>\n",
       "    <tr>\n",
       "      <th>366</th>\n",
       "      <td>Tamaulipas</td>\n",
       "      <td>Nuevo Laredo</td>\n",
       "      <td>Nuevo Laredo</td>\n",
       "      <td>952</td>\n",
       "    </tr>\n",
       "    <tr>\n",
       "      <th>285</th>\n",
       "      <td>Puebla</td>\n",
       "      <td>Puebla</td>\n",
       "      <td>Puebla</td>\n",
       "      <td>926</td>\n",
       "    </tr>\n",
       "    <tr>\n",
       "      <th>...</th>\n",
       "      <td>...</td>\n",
       "      <td>...</td>\n",
       "      <td>...</td>\n",
       "      <td>...</td>\n",
       "    </tr>\n",
       "    <tr>\n",
       "      <th>1949</th>\n",
       "      <td>Tamaulipas</td>\n",
       "      <td>San Fernando</td>\n",
       "      <td>Ejido Laguna De San Juan</td>\n",
       "      <td>1</td>\n",
       "    </tr>\n",
       "    <tr>\n",
       "      <th>1947</th>\n",
       "      <td>Puebla</td>\n",
       "      <td>Tecamachalco</td>\n",
       "      <td>Yehualtepec</td>\n",
       "      <td>1</td>\n",
       "    </tr>\n",
       "    <tr>\n",
       "      <th>345</th>\n",
       "      <td>Puebla</td>\n",
       "      <td>Puebla</td>\n",
       "      <td>San Martin Texmelucan</td>\n",
       "      <td>1</td>\n",
       "    </tr>\n",
       "    <tr>\n",
       "      <th>1945</th>\n",
       "      <td>Tamaulipas</td>\n",
       "      <td>Matamoros</td>\n",
       "      <td>El Mezquital</td>\n",
       "      <td>1</td>\n",
       "    </tr>\n",
       "    <tr>\n",
       "      <th>3562</th>\n",
       "      <td>Puebla</td>\n",
       "      <td>Chila</td>\n",
       "      <td>Chilas De Las Flores</td>\n",
       "      <td>1</td>\n",
       "    </tr>\n",
       "  </tbody>\n",
       "</table>\n",
       "<p>3563 rows × 4 columns</p>\n",
       "</div>"
      ],
      "text/plain": [
       "         entidad     municipio                 localidad  total\n",
       "367   Tamaulipas     Matamoros                 Matamoros   1157\n",
       "99    Nuevo Leon     Monterrey                 Monterrey    989\n",
       "372   Tamaulipas       Reynosa                   Reynosa    965\n",
       "366   Tamaulipas  Nuevo Laredo              Nuevo Laredo    952\n",
       "285       Puebla        Puebla                    Puebla    926\n",
       "...          ...           ...                       ...    ...\n",
       "1949  Tamaulipas  San Fernando  Ejido Laguna De San Juan      1\n",
       "1947      Puebla  Tecamachalco               Yehualtepec      1\n",
       "345       Puebla        Puebla     San Martin Texmelucan      1\n",
       "1945  Tamaulipas     Matamoros              El Mezquital      1\n",
       "3562      Puebla         Chila      Chilas De Las Flores      1\n",
       "\n",
       "[3563 rows x 4 columns]"
      ]
     },
     "execution_count": 106,
     "metadata": {},
     "output_type": "execute_result"
    }
   ],
   "source": [
    "df_entidad_municipio_localidad.sort_values('total', ascending=False)"
   ]
  },
  {
   "cell_type": "code",
   "execution_count": 107,
   "metadata": {
    "ExecuteTime": {
     "end_time": "2022-09-15T20:30:04.361485Z",
     "start_time": "2022-09-15T20:30:04.354348Z"
    }
   },
   "outputs": [
    {
     "data": {
      "text/plain": [
       "entidad      Tamaulipas\n",
       "municipio     Matamoros\n",
       "localidad     Matamoros\n",
       "total              1157\n",
       "Name: 367, dtype: object"
      ]
     },
     "execution_count": 107,
     "metadata": {},
     "output_type": "execute_result"
    }
   ],
   "source": [
    "(df_entidad_municipio_localidad.sort_values('total', ascending=False)).iloc[0]"
   ]
  },
  {
   "cell_type": "markdown",
   "metadata": {},
   "source": [
    "> Matamoros es la localidad con más casos de personas desaparecidas en México. Podemos ver que en los primeros cinco lugares se encuentran municipios y localidades de Tamaulipas, Nuevo León y Puebla."
   ]
  },
  {
   "cell_type": "markdown",
   "metadata": {},
   "source": [
    "**¿En México solamente desaparecen mexicanos?**\n",
    "\n",
    "---"
   ]
  },
  {
   "cell_type": "markdown",
   "metadata": {},
   "source": [
    "Para poder saber la nacionalidad de las personas desaparecidas en México, podemos hacer un `groupby` de la nacionalidad."
   ]
  },
  {
   "cell_type": "code",
   "execution_count": 108,
   "metadata": {
    "ExecuteTime": {
     "end_time": "2022-09-15T20:30:04.379201Z",
     "start_time": "2022-09-15T20:30:04.364219Z"
    }
   },
   "outputs": [
    {
     "data": {
      "text/html": [
       "<div>\n",
       "<style scoped>\n",
       "    .dataframe tbody tr th:only-of-type {\n",
       "        vertical-align: middle;\n",
       "    }\n",
       "\n",
       "    .dataframe tbody tr th {\n",
       "        vertical-align: top;\n",
       "    }\n",
       "\n",
       "    .dataframe thead th {\n",
       "        text-align: right;\n",
       "    }\n",
       "</style>\n",
       "<table border=\"1\" class=\"dataframe\">\n",
       "  <thead>\n",
       "    <tr style=\"text-align: right;\">\n",
       "      <th></th>\n",
       "      <th>nacionalidad</th>\n",
       "      <th>total</th>\n",
       "    </tr>\n",
       "  </thead>\n",
       "  <tbody>\n",
       "    <tr>\n",
       "      <th>0</th>\n",
       "      <td>Mexicana</td>\n",
       "      <td>33667</td>\n",
       "    </tr>\n",
       "    <tr>\n",
       "      <th>1</th>\n",
       "      <td>Estadounidense</td>\n",
       "      <td>123</td>\n",
       "    </tr>\n",
       "    <tr>\n",
       "      <th>2</th>\n",
       "      <td>No Especificado</td>\n",
       "      <td>2027</td>\n",
       "    </tr>\n",
       "    <tr>\n",
       "      <th>3</th>\n",
       "      <td>Alemana</td>\n",
       "      <td>1</td>\n",
       "    </tr>\n",
       "    <tr>\n",
       "      <th>4</th>\n",
       "      <td>Colombiana</td>\n",
       "      <td>9</td>\n",
       "    </tr>\n",
       "    <tr>\n",
       "      <th>5</th>\n",
       "      <td>Eritrea</td>\n",
       "      <td>1</td>\n",
       "    </tr>\n",
       "    <tr>\n",
       "      <th>6</th>\n",
       "      <td>Nicaraguense</td>\n",
       "      <td>1</td>\n",
       "    </tr>\n",
       "    <tr>\n",
       "      <th>7</th>\n",
       "      <td>Cubana</td>\n",
       "      <td>3</td>\n",
       "    </tr>\n",
       "    <tr>\n",
       "      <th>8</th>\n",
       "      <td>Hondureña</td>\n",
       "      <td>24</td>\n",
       "    </tr>\n",
       "    <tr>\n",
       "      <th>9</th>\n",
       "      <td>Guatemalteco</td>\n",
       "      <td>11</td>\n",
       "    </tr>\n",
       "    <tr>\n",
       "      <th>10</th>\n",
       "      <td>Española</td>\n",
       "      <td>3</td>\n",
       "    </tr>\n",
       "    <tr>\n",
       "      <th>11</th>\n",
       "      <td>Peruana</td>\n",
       "      <td>2</td>\n",
       "    </tr>\n",
       "    <tr>\n",
       "      <th>12</th>\n",
       "      <td>Dominicana</td>\n",
       "      <td>1</td>\n",
       "    </tr>\n",
       "    <tr>\n",
       "      <th>13</th>\n",
       "      <td>Brasileña</td>\n",
       "      <td>1</td>\n",
       "    </tr>\n",
       "    <tr>\n",
       "      <th>14</th>\n",
       "      <td>Holandesa</td>\n",
       "      <td>1</td>\n",
       "    </tr>\n",
       "    <tr>\n",
       "      <th>15</th>\n",
       "      <td>Canadiense</td>\n",
       "      <td>3</td>\n",
       "    </tr>\n",
       "    <tr>\n",
       "      <th>16</th>\n",
       "      <td>Salvadoreña</td>\n",
       "      <td>8</td>\n",
       "    </tr>\n",
       "    <tr>\n",
       "      <th>17</th>\n",
       "      <td>Argentina</td>\n",
       "      <td>1</td>\n",
       "    </tr>\n",
       "    <tr>\n",
       "      <th>18</th>\n",
       "      <td>Paraguaya</td>\n",
       "      <td>1</td>\n",
       "    </tr>\n",
       "    <tr>\n",
       "      <th>19</th>\n",
       "      <td>China</td>\n",
       "      <td>1</td>\n",
       "    </tr>\n",
       "    <tr>\n",
       "      <th>20</th>\n",
       "      <td>Haitiana</td>\n",
       "      <td>2</td>\n",
       "    </tr>\n",
       "    <tr>\n",
       "      <th>21</th>\n",
       "      <td>Venezolana</td>\n",
       "      <td>4</td>\n",
       "    </tr>\n",
       "    <tr>\n",
       "      <th>22</th>\n",
       "      <td>Panameña</td>\n",
       "      <td>1</td>\n",
       "    </tr>\n",
       "    <tr>\n",
       "      <th>23</th>\n",
       "      <td>Costaricense</td>\n",
       "      <td>1</td>\n",
       "    </tr>\n",
       "    <tr>\n",
       "      <th>24</th>\n",
       "      <td>Italiana</td>\n",
       "      <td>3</td>\n",
       "    </tr>\n",
       "    <tr>\n",
       "      <th>25</th>\n",
       "      <td>Francesa</td>\n",
       "      <td>1</td>\n",
       "    </tr>\n",
       "  </tbody>\n",
       "</table>\n",
       "</div>"
      ],
      "text/plain": [
       "       nacionalidad  total\n",
       "0          Mexicana  33667\n",
       "1    Estadounidense    123\n",
       "2   No Especificado   2027\n",
       "3           Alemana      1\n",
       "4        Colombiana      9\n",
       "5           Eritrea      1\n",
       "6      Nicaraguense      1\n",
       "7            Cubana      3\n",
       "8         Hondureña     24\n",
       "9      Guatemalteco     11\n",
       "10         Española      3\n",
       "11          Peruana      2\n",
       "12       Dominicana      1\n",
       "13        Brasileña      1\n",
       "14        Holandesa      1\n",
       "15       Canadiense      3\n",
       "16      Salvadoreña      8\n",
       "17        Argentina      1\n",
       "18        Paraguaya      1\n",
       "19            China      1\n",
       "20         Haitiana      2\n",
       "21       Venezolana      4\n",
       "22         Panameña      1\n",
       "23     Costaricense      1\n",
       "24         Italiana      3\n",
       "25         Francesa      1"
      ]
     },
     "execution_count": 108,
     "metadata": {},
     "output_type": "execute_result"
    }
   ],
   "source": [
    "df_desaparecidos_nacionalidad= df.groupby(['nacionalidad'], sort=False).size().reset_index(name='total')\n",
    "df_desaparecidos_nacionalidad"
   ]
  },
  {
   "cell_type": "markdown",
   "metadata": {},
   "source": [
    "> Con el nuevo DataFrame generado podemos ver que hay 24 nacionalidades que se mencionan en el registro de personas desaparecidas. Además de que existen muchos casos no especificados en el registro.\n",
    "\n",
    ">La gran mayoría de personas desaparecidas son mexicanxs. No obstante, también hay casos de estadounidenses, hondureñxs, italianxs, etc."
   ]
  },
  {
   "cell_type": "markdown",
   "metadata": {},
   "source": [
    "**¿Desaparecen más hombres, mujeres o niños?**\n",
    "\n",
    "---"
   ]
  },
  {
   "cell_type": "markdown",
   "metadata": {
    "ExecuteTime": {
     "end_time": "2022-09-15T19:10:49.849172Z",
     "start_time": "2022-09-15T19:10:49.842620Z"
    }
   },
   "source": [
    "Dado que no existe una columna que especifique si la persona que desapareció es menor de edad, esta pregunta la podemos contestar por partes. Primero visualizamos los casos de desaparición según el sexo de la persona."
   ]
  },
  {
   "cell_type": "code",
   "execution_count": 109,
   "metadata": {
    "ExecuteTime": {
     "end_time": "2022-09-15T20:30:04.392609Z",
     "start_time": "2022-09-15T20:30:04.380769Z"
    }
   },
   "outputs": [
    {
     "data": {
      "text/html": [
       "<div>\n",
       "<style scoped>\n",
       "    .dataframe tbody tr th:only-of-type {\n",
       "        vertical-align: middle;\n",
       "    }\n",
       "\n",
       "    .dataframe tbody tr th {\n",
       "        vertical-align: top;\n",
       "    }\n",
       "\n",
       "    .dataframe thead th {\n",
       "        text-align: right;\n",
       "    }\n",
       "</style>\n",
       "<table border=\"1\" class=\"dataframe\">\n",
       "  <thead>\n",
       "    <tr style=\"text-align: right;\">\n",
       "      <th></th>\n",
       "      <th>sexo</th>\n",
       "      <th>total</th>\n",
       "    </tr>\n",
       "  </thead>\n",
       "  <tbody>\n",
       "    <tr>\n",
       "      <th>0</th>\n",
       "      <td>Mujer</td>\n",
       "      <td>9226</td>\n",
       "    </tr>\n",
       "    <tr>\n",
       "      <th>1</th>\n",
       "      <td>Hombre</td>\n",
       "      <td>26675</td>\n",
       "    </tr>\n",
       "  </tbody>\n",
       "</table>\n",
       "</div>"
      ],
      "text/plain": [
       "     sexo  total\n",
       "0   Mujer   9226\n",
       "1  Hombre  26675"
      ]
     },
     "execution_count": 109,
     "metadata": {},
     "output_type": "execute_result"
    }
   ],
   "source": [
    "df.groupby(['sexo'], sort=False).size().reset_index(name='total')"
   ]
  },
  {
   "cell_type": "markdown",
   "metadata": {},
   "source": [
    "> Según los datos del registro, hay 9,226 mujeres desaparecidas y 26,675 hombres desaparecidos. La mayoría de las personas desaparecidas en México son hombres."
   ]
  },
  {
   "cell_type": "markdown",
   "metadata": {},
   "source": [
    "De igual manera, podemos observar los casos de personas desaparecidas por sexo y edad."
   ]
  },
  {
   "cell_type": "code",
   "execution_count": 110,
   "metadata": {
    "ExecuteTime": {
     "end_time": "2022-09-15T20:30:04.406532Z",
     "start_time": "2022-09-15T20:30:04.394031Z"
    }
   },
   "outputs": [
    {
     "data": {
      "text/html": [
       "<div>\n",
       "<style scoped>\n",
       "    .dataframe tbody tr th:only-of-type {\n",
       "        vertical-align: middle;\n",
       "    }\n",
       "\n",
       "    .dataframe tbody tr th {\n",
       "        vertical-align: top;\n",
       "    }\n",
       "\n",
       "    .dataframe thead th {\n",
       "        text-align: right;\n",
       "    }\n",
       "</style>\n",
       "<table border=\"1\" class=\"dataframe\">\n",
       "  <thead>\n",
       "    <tr style=\"text-align: right;\">\n",
       "      <th></th>\n",
       "      <th>sexo</th>\n",
       "      <th>edad</th>\n",
       "      <th>total</th>\n",
       "    </tr>\n",
       "  </thead>\n",
       "  <tbody>\n",
       "    <tr>\n",
       "      <th>27</th>\n",
       "      <td>Hombre</td>\n",
       "      <td>28</td>\n",
       "      <td>3115</td>\n",
       "    </tr>\n",
       "    <tr>\n",
       "      <th>25</th>\n",
       "      <td>Hombre</td>\n",
       "      <td>26</td>\n",
       "      <td>873</td>\n",
       "    </tr>\n",
       "    <tr>\n",
       "      <th>126</th>\n",
       "      <td>Mujer</td>\n",
       "      <td>28</td>\n",
       "      <td>849</td>\n",
       "    </tr>\n",
       "    <tr>\n",
       "      <th>20</th>\n",
       "      <td>Hombre</td>\n",
       "      <td>21</td>\n",
       "      <td>797</td>\n",
       "    </tr>\n",
       "    <tr>\n",
       "      <th>114</th>\n",
       "      <td>Mujer</td>\n",
       "      <td>16</td>\n",
       "      <td>783</td>\n",
       "    </tr>\n",
       "    <tr>\n",
       "      <th>...</th>\n",
       "      <td>...</td>\n",
       "      <td>...</td>\n",
       "      <td>...</td>\n",
       "    </tr>\n",
       "    <tr>\n",
       "      <th>186</th>\n",
       "      <td>Mujer</td>\n",
       "      <td>88</td>\n",
       "      <td>1</td>\n",
       "    </tr>\n",
       "    <tr>\n",
       "      <th>187</th>\n",
       "      <td>Mujer</td>\n",
       "      <td>89</td>\n",
       "      <td>1</td>\n",
       "    </tr>\n",
       "    <tr>\n",
       "      <th>94</th>\n",
       "      <td>Hombre</td>\n",
       "      <td>96</td>\n",
       "      <td>1</td>\n",
       "    </tr>\n",
       "    <tr>\n",
       "      <th>191</th>\n",
       "      <td>Mujer</td>\n",
       "      <td>96</td>\n",
       "      <td>1</td>\n",
       "    </tr>\n",
       "    <tr>\n",
       "      <th>192</th>\n",
       "      <td>Mujer</td>\n",
       "      <td>97</td>\n",
       "      <td>1</td>\n",
       "    </tr>\n",
       "  </tbody>\n",
       "</table>\n",
       "<p>193 rows × 3 columns</p>\n",
       "</div>"
      ],
      "text/plain": [
       "       sexo  edad  total\n",
       "27   Hombre    28   3115\n",
       "25   Hombre    26    873\n",
       "126   Mujer    28    849\n",
       "20   Hombre    21    797\n",
       "114   Mujer    16    783\n",
       "..      ...   ...    ...\n",
       "186   Mujer    88      1\n",
       "187   Mujer    89      1\n",
       "94   Hombre    96      1\n",
       "191   Mujer    96      1\n",
       "192   Mujer    97      1\n",
       "\n",
       "[193 rows x 3 columns]"
      ]
     },
     "execution_count": 110,
     "metadata": {},
     "output_type": "execute_result"
    }
   ],
   "source": [
    "df_desaparecidos_sexo_edad= df.groupby(['sexo', 'edad'], sort=True).size().reset_index(name='total')\n",
    "df_desaparecidos_sexo_edad.sort_values('total', ascending= False)"
   ]
  },
  {
   "cell_type": "markdown",
   "metadata": {},
   "source": [
    "> Los hombres de 28, 26, y 21 años de edad son las personas que tienen el mayor registro de desaparecidos, mientras que las mujeres de 28 y 16 años son las más vulnerables en la crisis de personas desaparecidas. De igual forma se puede ver que las personas de la tercera edad son las que menos registros de desaparición tienen."
   ]
  },
  {
   "cell_type": "markdown",
   "metadata": {},
   "source": [
    "Para poder saber la proporción de menores de edad que desaparecen a comparación de los mayores de edad creamos un diccionario en donde se evalúa si la edad registrada es mayor/igual o menor a 18."
   ]
  },
  {
   "cell_type": "code",
   "execution_count": 111,
   "metadata": {
    "ExecuteTime": {
     "end_time": "2022-09-15T20:30:04.414716Z",
     "start_time": "2022-09-15T20:30:04.408475Z"
    }
   },
   "outputs": [],
   "source": [
    "edad = {\n",
    "    'Mayor de edad': (df['edad'] >= 18).sum(),\n",
    "    'Menor de edad': (df['edad'] < 18).sum()\n",
    "}"
   ]
  },
  {
   "cell_type": "code",
   "execution_count": 112,
   "metadata": {
    "ExecuteTime": {
     "end_time": "2022-09-15T20:30:04.424680Z",
     "start_time": "2022-09-15T20:30:04.418004Z"
    }
   },
   "outputs": [
    {
     "data": {
      "text/html": [
       "<div>\n",
       "<style scoped>\n",
       "    .dataframe tbody tr th:only-of-type {\n",
       "        vertical-align: middle;\n",
       "    }\n",
       "\n",
       "    .dataframe tbody tr th {\n",
       "        vertical-align: top;\n",
       "    }\n",
       "\n",
       "    .dataframe thead th {\n",
       "        text-align: right;\n",
       "    }\n",
       "</style>\n",
       "<table border=\"1\" class=\"dataframe\">\n",
       "  <thead>\n",
       "    <tr style=\"text-align: right;\">\n",
       "      <th></th>\n",
       "      <th>1</th>\n",
       "    </tr>\n",
       "  </thead>\n",
       "  <tbody>\n",
       "    <tr>\n",
       "      <th>Mayor de edad</th>\n",
       "      <td>29466</td>\n",
       "    </tr>\n",
       "    <tr>\n",
       "      <th>Menor de edad</th>\n",
       "      <td>6435</td>\n",
       "    </tr>\n",
       "  </tbody>\n",
       "</table>\n",
       "</div>"
      ],
      "text/plain": [
       "                   1\n",
       "Mayor de edad  29466\n",
       "Menor de edad   6435"
      ]
     },
     "execution_count": 112,
     "metadata": {},
     "output_type": "execute_result"
    }
   ],
   "source": [
    "pd.DataFrame(edad, index=[1]).T"
   ]
  },
  {
   "cell_type": "markdown",
   "metadata": {},
   "source": [
    "> Hay 29,466 casos de mayores de edad desaparecidos, siendo esto el 82% del total (35,901) de los registros de personas desaparecidas. Los menores de edad forman alrededor del 18% de los casos de personas desaparecidas."
   ]
  },
  {
   "cell_type": "markdown",
   "metadata": {},
   "source": [
    "> Según los resultados obtenidos, desaparecen más hombres que mujeres en México. Adicionalmente, desaparecen más personas mayores de edad que menores de edad."
   ]
  },
  {
   "cell_type": "markdown",
   "metadata": {},
   "source": [
    "**¿Existe una relación entre el sexo de la persona desaparecida con respecto al lugar de desaparición?**\n",
    "\n",
    "---"
   ]
  },
  {
   "cell_type": "markdown",
   "metadata": {},
   "source": [
    "Con la información que ofrece el registro no se puede afirmar que exista una relación directa entre el lugar de desaparición y el sexo de la persona. Sin embargo se puede visualizar cuál es la frecuencia de edad más común de las personas según su sexo y lugar de desaparición."
   ]
  },
  {
   "cell_type": "code",
   "execution_count": 113,
   "metadata": {
    "ExecuteTime": {
     "end_time": "2022-09-15T20:30:04.469096Z",
     "start_time": "2022-09-15T20:30:04.430528Z"
    }
   },
   "outputs": [
    {
     "data": {
      "text/html": [
       "<div>\n",
       "<style scoped>\n",
       "    .dataframe tbody tr th:only-of-type {\n",
       "        vertical-align: middle;\n",
       "    }\n",
       "\n",
       "    .dataframe tbody tr th {\n",
       "        vertical-align: top;\n",
       "    }\n",
       "\n",
       "    .dataframe thead th {\n",
       "        text-align: right;\n",
       "    }\n",
       "</style>\n",
       "<table border=\"1\" class=\"dataframe\">\n",
       "  <thead>\n",
       "    <tr style=\"text-align: right;\">\n",
       "      <th></th>\n",
       "      <th>edad</th>\n",
       "      <th>entidad</th>\n",
       "    </tr>\n",
       "    <tr>\n",
       "      <th>sexo</th>\n",
       "      <th></th>\n",
       "      <th></th>\n",
       "    </tr>\n",
       "  </thead>\n",
       "  <tbody>\n",
       "    <tr>\n",
       "      <th>Hombre</th>\n",
       "      <td>28</td>\n",
       "      <td>Tamaulipas</td>\n",
       "    </tr>\n",
       "    <tr>\n",
       "      <th>Mujer</th>\n",
       "      <td>28</td>\n",
       "      <td>Estado De Mexico</td>\n",
       "    </tr>\n",
       "  </tbody>\n",
       "</table>\n",
       "</div>"
      ],
      "text/plain": [
       "        edad           entidad\n",
       "sexo                          \n",
       "Hombre    28        Tamaulipas\n",
       "Mujer     28  Estado De Mexico"
      ]
     },
     "execution_count": 113,
     "metadata": {},
     "output_type": "execute_result"
    }
   ],
   "source": [
    "df.groupby('sexo')[['edad', 'entidad']].agg(pd.Series.mode)"
   ]
  },
  {
   "cell_type": "markdown",
   "metadata": {},
   "source": [
    "> La edad, tanto de hombres como mujeres, con más casos de desaparecidos es de 28 años. No obstante, para los hombres el lugar de la desaparición es en Tamaulipas. Las mujeres tienen más casos de desaparición en el Estado de México. Esto va acorde a la investigación realizada en el proyecto dado que existe un aumento de violencia a las mujeres en el Estado de México. De igual manera, en el norte del país existe mucha violencia de grupos armados liderados en su mayoría por hombres."
   ]
  },
  {
   "cell_type": "markdown",
   "metadata": {},
   "source": [
    "A pesar de que esto no es una confirmación absoluta de que existe una relación entre la edad, el sexo, y el lugar de desaparición, podría llegar a ser un dato que respalde una investigación formal al respecto.\n"
   ]
  },
  {
   "cell_type": "markdown",
   "metadata": {},
   "source": [
    "**¿Cuántas personas con discapacidad han desaparecido en México?**\n",
    "\n",
    "---"
   ]
  },
  {
   "cell_type": "markdown",
   "metadata": {},
   "source": [
    "Esta pregunta no surgió cuando estábamos realizando la investigación. No obstante, nos pareció que es una pregunta relevante una vez que exploramos el contenido del registro. Es común que en México no se tome consideración de las personas con capacidades diferentes, sin embargo recordemos que la realidad del país también les afecta a ellas."
   ]
  },
  {
   "cell_type": "code",
   "execution_count": 114,
   "metadata": {
    "ExecuteTime": {
     "end_time": "2022-09-15T20:30:04.482242Z",
     "start_time": "2022-09-15T20:30:04.471539Z"
    }
   },
   "outputs": [
    {
     "data": {
      "text/html": [
       "<div>\n",
       "<style scoped>\n",
       "    .dataframe tbody tr th:only-of-type {\n",
       "        vertical-align: middle;\n",
       "    }\n",
       "\n",
       "    .dataframe tbody tr th {\n",
       "        vertical-align: top;\n",
       "    }\n",
       "\n",
       "    .dataframe thead th {\n",
       "        text-align: right;\n",
       "    }\n",
       "</style>\n",
       "<table border=\"1\" class=\"dataframe\">\n",
       "  <thead>\n",
       "    <tr style=\"text-align: right;\">\n",
       "      <th></th>\n",
       "      <th>discapacidad</th>\n",
       "      <th>total</th>\n",
       "    </tr>\n",
       "  </thead>\n",
       "  <tbody>\n",
       "    <tr>\n",
       "      <th>0</th>\n",
       "      <td>Ninguno</td>\n",
       "      <td>34843</td>\n",
       "    </tr>\n",
       "    <tr>\n",
       "      <th>1</th>\n",
       "      <td>No Especificado</td>\n",
       "      <td>1043</td>\n",
       "    </tr>\n",
       "    <tr>\n",
       "      <th>2</th>\n",
       "      <td>Autismo</td>\n",
       "      <td>7</td>\n",
       "    </tr>\n",
       "    <tr>\n",
       "      <th>3</th>\n",
       "      <td>Sindrome De Down</td>\n",
       "      <td>8</td>\n",
       "    </tr>\n",
       "  </tbody>\n",
       "</table>\n",
       "</div>"
      ],
      "text/plain": [
       "       discapacidad  total\n",
       "0           Ninguno  34843\n",
       "1   No Especificado   1043\n",
       "2           Autismo      7\n",
       "3  Sindrome De Down      8"
      ]
     },
     "execution_count": 114,
     "metadata": {},
     "output_type": "execute_result"
    }
   ],
   "source": [
    "df.groupby(['discapacidad'], sort=False).size().reset_index(name='total')"
   ]
  },
  {
   "cell_type": "markdown",
   "metadata": {},
   "source": [
    "> La mayoría de las personas desaparecidas no tienen una discapacidad. Hay 1,043 personas que no tienen una discapacidad especificada. Existen 15 personas con discapacidad desaparecidas, de las cuales 7 tienen autismo y 8 Síndrome de Down. "
   ]
  },
  {
   "cell_type": "markdown",
   "metadata": {},
   "source": [
    "**¿Cuánto tiempo desaparecen las personas que son localizadas?**\n",
    "\n",
    "---"
   ]
  },
  {
   "cell_type": "markdown",
   "metadata": {},
   "source": [
    "El registro usado en este proyecto no cuenta con el estado del caso, es decir si la persona registrada fue encontrada o no lo fue. Es por esto que esta pregunta no se puede responder en su totalidad. Sin embargo, saber cuántos días lleva la persona desaparecida es información relevante. Con los datos del registro es posible añadir una columna que indique los días que han transcurrido desde su desaparición."
   ]
  },
  {
   "cell_type": "markdown",
   "metadata": {},
   "source": [
    "**¿Cuánto tiempo llevan desaparecidas las personas registradas en el conjunto?**\n",
    "\n",
    "---"
   ]
  },
  {
   "cell_type": "markdown",
   "metadata": {},
   "source": [
    "Ya que el registro no contiene datos al día de hoy, no podemos asumir que las personas siguen desaparecidas en el presente. Por esto, vamos a tomar la última fecha que existe en el registro para hacer el conteo de días que han transcurrido desde su desaparición.\n"
   ]
  },
  {
   "cell_type": "code",
   "execution_count": 115,
   "metadata": {
    "ExecuteTime": {
     "end_time": "2022-09-15T20:30:04.490096Z",
     "start_time": "2022-09-15T20:30:04.484244Z"
    }
   },
   "outputs": [
    {
     "data": {
      "text/plain": [
       "Timestamp('2018-04-29 00:00:00')"
      ]
     },
     "execution_count": 115,
     "metadata": {},
     "output_type": "execute_result"
    }
   ],
   "source": [
    "df['fecha'].max()"
   ]
  },
  {
   "cell_type": "markdown",
   "metadata": {},
   "source": [
    "\n",
    "> La última fecha que se encuentra registrada es del 29 de Abril del 2018."
   ]
  },
  {
   "cell_type": "markdown",
   "metadata": {},
   "source": [
    "En la información del catálogo de datos abiertos del Gobierno, las cifras presentan el total de registros de personas relacionadas con averiguaciones previas, carpetas de investigación o actas circunstanciadas del fuero común que permanecen sin localizar al corte del 30 de abril del 2018 distribuidas por año. Por tanto, tomaremos como última fecha el 30 de Abril del 2018."
   ]
  },
  {
   "cell_type": "markdown",
   "metadata": {},
   "source": [
    "Definiendo la función `dias_desaparecidos` podemos hacer la resta de la fecha establecida como la fecha límite y la fecha de desaparición por cada caso. Usando `.apply` podemos realizar la resta elemento por elemento en el `DataFrame`. De esta manera calculamos los días que la persona lleva como desaparecida."
   ]
  },
  {
   "cell_type": "code",
   "execution_count": 116,
   "metadata": {
    "ExecuteTime": {
     "end_time": "2022-09-15T20:30:04.495753Z",
     "start_time": "2022-09-15T20:30:04.492021Z"
    }
   },
   "outputs": [],
   "source": [
    "def dias_desaparecidos(value):\n",
    "    as_datetime = pd.to_datetime(value, unit='ms')\n",
    "    ultima_fecha = pd.to_datetime('2018-04-30')\n",
    "    dias_diferencia = (ultima_fecha - as_datetime).days\n",
    "    return dias_diferencia"
   ]
  },
  {
   "cell_type": "code",
   "execution_count": 117,
   "metadata": {
    "ExecuteTime": {
     "end_time": "2022-09-15T20:30:06.931895Z",
     "start_time": "2022-09-15T20:30:04.497993Z"
    }
   },
   "outputs": [],
   "source": [
    "df['dias_desaparecido'] = df['fecha'].apply(dias_desaparecidos)"
   ]
  },
  {
   "cell_type": "code",
   "execution_count": 118,
   "metadata": {
    "ExecuteTime": {
     "end_time": "2022-09-15T20:30:06.950162Z",
     "start_time": "2022-09-15T20:30:06.933326Z"
    }
   },
   "outputs": [
    {
     "data": {
      "text/html": [
       "<div>\n",
       "<style scoped>\n",
       "    .dataframe tbody tr th:only-of-type {\n",
       "        vertical-align: middle;\n",
       "    }\n",
       "\n",
       "    .dataframe tbody tr th {\n",
       "        vertical-align: top;\n",
       "    }\n",
       "\n",
       "    .dataframe thead th {\n",
       "        text-align: right;\n",
       "    }\n",
       "</style>\n",
       "<table border=\"1\" class=\"dataframe\">\n",
       "  <thead>\n",
       "    <tr style=\"text-align: right;\">\n",
       "      <th></th>\n",
       "      <th>fecha</th>\n",
       "      <th>hora</th>\n",
       "      <th>entidad</th>\n",
       "      <th>municipio</th>\n",
       "      <th>localidad</th>\n",
       "      <th>nacionalidad</th>\n",
       "      <th>estatura</th>\n",
       "      <th>complexion</th>\n",
       "      <th>sexo</th>\n",
       "      <th>edad</th>\n",
       "      <th>senas_particulares</th>\n",
       "      <th>discapacidad</th>\n",
       "      <th>dependecia_origen</th>\n",
       "      <th>coordenadas</th>\n",
       "      <th>dias_desaparecido</th>\n",
       "    </tr>\n",
       "  </thead>\n",
       "  <tbody>\n",
       "    <tr>\n",
       "      <th>0</th>\n",
       "      <td>2012-03-18</td>\n",
       "      <td>05:00:00</td>\n",
       "      <td>Sonora</td>\n",
       "      <td>Navojoa</td>\n",
       "      <td>Navojoa</td>\n",
       "      <td>Mexicana</td>\n",
       "      <td>1.10</td>\n",
       "      <td>Delgada</td>\n",
       "      <td>Mujer</td>\n",
       "      <td>7</td>\n",
       "      <td>Tiene Una Cicatriz En La Rodilla Izquierda Por...</td>\n",
       "      <td>Ninguno</td>\n",
       "      <td>FGE - Sonora</td>\n",
       "      <td>27.069053, -109.439423</td>\n",
       "      <td>2234</td>\n",
       "    </tr>\n",
       "    <tr>\n",
       "      <th>1</th>\n",
       "      <td>2007-02-05</td>\n",
       "      <td>02:00:26</td>\n",
       "      <td>Estado De Mexico</td>\n",
       "      <td>Valle De Bravo</td>\n",
       "      <td>Valle De Bravo</td>\n",
       "      <td>Mexicana</td>\n",
       "      <td>1.10</td>\n",
       "      <td>Delgada</td>\n",
       "      <td>Mujer</td>\n",
       "      <td>4</td>\n",
       "      <td>No Especificado</td>\n",
       "      <td>Ninguno</td>\n",
       "      <td>FGJ - Estado De Mexico</td>\n",
       "      <td>19.16368, -100.134684</td>\n",
       "      <td>4102</td>\n",
       "    </tr>\n",
       "    <tr>\n",
       "      <th>2</th>\n",
       "      <td>2009-03-14</td>\n",
       "      <td>08:30:54</td>\n",
       "      <td>Estado De Mexico</td>\n",
       "      <td>Chalco</td>\n",
       "      <td>Chalco</td>\n",
       "      <td>Mexicana</td>\n",
       "      <td>1.10</td>\n",
       "      <td>Delgada</td>\n",
       "      <td>Hombre</td>\n",
       "      <td>6</td>\n",
       "      <td>Manchas, Parte Superior De Pierna Derecha, Cic...</td>\n",
       "      <td>Ninguno</td>\n",
       "      <td>FGJ - Estado De Mexico</td>\n",
       "      <td>19.266337, -98.8978</td>\n",
       "      <td>3334</td>\n",
       "    </tr>\n",
       "    <tr>\n",
       "      <th>3</th>\n",
       "      <td>2006-12-23</td>\n",
       "      <td>08:00:28</td>\n",
       "      <td>Estado De Mexico</td>\n",
       "      <td>Tlalnepantla De Baz</td>\n",
       "      <td>Tlalnepantla De Baz</td>\n",
       "      <td>Mexicana</td>\n",
       "      <td>1.10</td>\n",
       "      <td>Delgada</td>\n",
       "      <td>Hombre</td>\n",
       "      <td>10</td>\n",
       "      <td>Lunares, A La Altura De La Cinturaforma De Man...</td>\n",
       "      <td>Ninguno</td>\n",
       "      <td>FGJ - Estado De Mexico</td>\n",
       "      <td>19.547512, -99.193851</td>\n",
       "      <td>4146</td>\n",
       "    </tr>\n",
       "    <tr>\n",
       "      <th>4</th>\n",
       "      <td>2008-01-11</td>\n",
       "      <td>12:00:17</td>\n",
       "      <td>Estado De Mexico</td>\n",
       "      <td>Toluca</td>\n",
       "      <td>Toluca</td>\n",
       "      <td>Mexicana</td>\n",
       "      <td>1.10</td>\n",
       "      <td>Delgada</td>\n",
       "      <td>Hombre</td>\n",
       "      <td>4</td>\n",
       "      <td>No Especificado</td>\n",
       "      <td>Ninguno</td>\n",
       "      <td>FGJ - Estado De Mexico</td>\n",
       "      <td>18.078, -91.6552</td>\n",
       "      <td>3762</td>\n",
       "    </tr>\n",
       "    <tr>\n",
       "      <th>...</th>\n",
       "      <td>...</td>\n",
       "      <td>...</td>\n",
       "      <td>...</td>\n",
       "      <td>...</td>\n",
       "      <td>...</td>\n",
       "      <td>...</td>\n",
       "      <td>...</td>\n",
       "      <td>...</td>\n",
       "      <td>...</td>\n",
       "      <td>...</td>\n",
       "      <td>...</td>\n",
       "      <td>...</td>\n",
       "      <td>...</td>\n",
       "      <td>...</td>\n",
       "      <td>...</td>\n",
       "    </tr>\n",
       "    <tr>\n",
       "      <th>35896</th>\n",
       "      <td>2018-04-26</td>\n",
       "      <td>08:00:00</td>\n",
       "      <td>Puebla</td>\n",
       "      <td>Puebla</td>\n",
       "      <td>Puebla</td>\n",
       "      <td>Mexicana</td>\n",
       "      <td>1.60</td>\n",
       "      <td>Delgada</td>\n",
       "      <td>Hombre</td>\n",
       "      <td>22</td>\n",
       "      <td>Lunar En La Mejilla Y Tatuaje En El Cuello En ...</td>\n",
       "      <td>Ninguno</td>\n",
       "      <td>FGE - Puebla</td>\n",
       "      <td>19.051201, -98.212116</td>\n",
       "      <td>4</td>\n",
       "    </tr>\n",
       "    <tr>\n",
       "      <th>35897</th>\n",
       "      <td>2018-01-08</td>\n",
       "      <td>11:00:00</td>\n",
       "      <td>Colima</td>\n",
       "      <td>Villa De Alvarez</td>\n",
       "      <td>Villa De Alvarez</td>\n",
       "      <td>Mexicana</td>\n",
       "      <td>1.70</td>\n",
       "      <td>Robusta</td>\n",
       "      <td>Mujer</td>\n",
       "      <td>27</td>\n",
       "      <td>El Ojo Izquierdo Tiene Un Enfermedad Como Tic,...</td>\n",
       "      <td>Ninguno</td>\n",
       "      <td>PGJ - Colima</td>\n",
       "      <td>19.25, -103.73333</td>\n",
       "      <td>112</td>\n",
       "    </tr>\n",
       "    <tr>\n",
       "      <th>35898</th>\n",
       "      <td>2015-02-02</td>\n",
       "      <td>07:00:00</td>\n",
       "      <td>Puebla</td>\n",
       "      <td>Chila</td>\n",
       "      <td>Chilas De Las Flores</td>\n",
       "      <td>Mexicana</td>\n",
       "      <td>1.77</td>\n",
       "      <td>Mediana</td>\n",
       "      <td>Mujer</td>\n",
       "      <td>86</td>\n",
       "      <td>No Especificado</td>\n",
       "      <td>Ninguno</td>\n",
       "      <td>FGE - Puebla</td>\n",
       "      <td>17.965896, -97.864616</td>\n",
       "      <td>1183</td>\n",
       "    </tr>\n",
       "    <tr>\n",
       "      <th>35899</th>\n",
       "      <td>2017-08-22</td>\n",
       "      <td>04:00:00</td>\n",
       "      <td>Colima</td>\n",
       "      <td>Villa De Alvarez</td>\n",
       "      <td>Villa De Alvarez</td>\n",
       "      <td>Mexicana</td>\n",
       "      <td>1.76</td>\n",
       "      <td>Robusta</td>\n",
       "      <td>Hombre</td>\n",
       "      <td>41</td>\n",
       "      <td>Tatuaje En El Brazo Izquierdo Con La Imagen De...</td>\n",
       "      <td>Ninguno</td>\n",
       "      <td>PGJ - Colima</td>\n",
       "      <td>19.25, -103.73333</td>\n",
       "      <td>251</td>\n",
       "    </tr>\n",
       "    <tr>\n",
       "      <th>35900</th>\n",
       "      <td>2018-04-11</td>\n",
       "      <td>02:00:00</td>\n",
       "      <td>Nuevo Leon</td>\n",
       "      <td>San Nicolas De Los Garza</td>\n",
       "      <td>San Nicolas De Los Garza</td>\n",
       "      <td>Mexicana</td>\n",
       "      <td>1.60</td>\n",
       "      <td>Delgada</td>\n",
       "      <td>Mujer</td>\n",
       "      <td>14</td>\n",
       "      <td>No Especificado</td>\n",
       "      <td>Ninguno</td>\n",
       "      <td>PGJ - Nuevo Leon</td>\n",
       "      <td>25.738505, -100.280753</td>\n",
       "      <td>19</td>\n",
       "    </tr>\n",
       "  </tbody>\n",
       "</table>\n",
       "<p>35901 rows × 15 columns</p>\n",
       "</div>"
      ],
      "text/plain": [
       "           fecha      hora           entidad                 municipio  \\\n",
       "0     2012-03-18  05:00:00            Sonora                   Navojoa   \n",
       "1     2007-02-05  02:00:26  Estado De Mexico            Valle De Bravo   \n",
       "2     2009-03-14  08:30:54  Estado De Mexico                    Chalco   \n",
       "3     2006-12-23  08:00:28  Estado De Mexico       Tlalnepantla De Baz   \n",
       "4     2008-01-11  12:00:17  Estado De Mexico                    Toluca   \n",
       "...          ...       ...               ...                       ...   \n",
       "35896 2018-04-26  08:00:00            Puebla                    Puebla   \n",
       "35897 2018-01-08  11:00:00            Colima          Villa De Alvarez   \n",
       "35898 2015-02-02  07:00:00            Puebla                     Chila   \n",
       "35899 2017-08-22  04:00:00            Colima          Villa De Alvarez   \n",
       "35900 2018-04-11  02:00:00        Nuevo Leon  San Nicolas De Los Garza   \n",
       "\n",
       "                      localidad nacionalidad  estatura complexion    sexo  \\\n",
       "0                       Navojoa     Mexicana      1.10    Delgada   Mujer   \n",
       "1                Valle De Bravo     Mexicana      1.10    Delgada   Mujer   \n",
       "2                        Chalco     Mexicana      1.10    Delgada  Hombre   \n",
       "3           Tlalnepantla De Baz     Mexicana      1.10    Delgada  Hombre   \n",
       "4                        Toluca     Mexicana      1.10    Delgada  Hombre   \n",
       "...                         ...          ...       ...        ...     ...   \n",
       "35896                    Puebla     Mexicana      1.60    Delgada  Hombre   \n",
       "35897          Villa De Alvarez     Mexicana      1.70    Robusta   Mujer   \n",
       "35898      Chilas De Las Flores     Mexicana      1.77    Mediana   Mujer   \n",
       "35899          Villa De Alvarez     Mexicana      1.76    Robusta  Hombre   \n",
       "35900  San Nicolas De Los Garza     Mexicana      1.60    Delgada   Mujer   \n",
       "\n",
       "       edad                                 senas_particulares discapacidad  \\\n",
       "0         7  Tiene Una Cicatriz En La Rodilla Izquierda Por...      Ninguno   \n",
       "1         4                                    No Especificado      Ninguno   \n",
       "2         6  Manchas, Parte Superior De Pierna Derecha, Cic...      Ninguno   \n",
       "3        10  Lunares, A La Altura De La Cinturaforma De Man...      Ninguno   \n",
       "4         4                                    No Especificado      Ninguno   \n",
       "...     ...                                                ...          ...   \n",
       "35896    22  Lunar En La Mejilla Y Tatuaje En El Cuello En ...      Ninguno   \n",
       "35897    27  El Ojo Izquierdo Tiene Un Enfermedad Como Tic,...      Ninguno   \n",
       "35898    86                                    No Especificado      Ninguno   \n",
       "35899    41  Tatuaje En El Brazo Izquierdo Con La Imagen De...      Ninguno   \n",
       "35900    14                                    No Especificado      Ninguno   \n",
       "\n",
       "            dependecia_origen             coordenadas  dias_desaparecido  \n",
       "0                FGE - Sonora  27.069053, -109.439423               2234  \n",
       "1      FGJ - Estado De Mexico   19.16368, -100.134684               4102  \n",
       "2      FGJ - Estado De Mexico     19.266337, -98.8978               3334  \n",
       "3      FGJ - Estado De Mexico   19.547512, -99.193851               4146  \n",
       "4      FGJ - Estado De Mexico        18.078, -91.6552               3762  \n",
       "...                       ...                     ...                ...  \n",
       "35896            FGE - Puebla   19.051201, -98.212116                  4  \n",
       "35897            PGJ - Colima       19.25, -103.73333                112  \n",
       "35898            FGE - Puebla   17.965896, -97.864616               1183  \n",
       "35899            PGJ - Colima       19.25, -103.73333                251  \n",
       "35900        PGJ - Nuevo Leon  25.738505, -100.280753                 19  \n",
       "\n",
       "[35901 rows x 15 columns]"
      ]
     },
     "execution_count": 118,
     "metadata": {},
     "output_type": "execute_result"
    }
   ],
   "source": [
    "df"
   ]
  },
  {
   "cell_type": "markdown",
   "metadata": {},
   "source": [
    "> Ahora el `DataFrame` contiene como última columna los días de desaparecido. Podemos ver que el caso de la primera posición lleva 2,236 días de desaparecido."
   ]
  },
  {
   "cell_type": "markdown",
   "metadata": {},
   "source": [
    "**¿En qué años han desaparecido más personas?**\n",
    "\n",
    "---"
   ]
  },
  {
   "cell_type": "markdown",
   "metadata": {},
   "source": [
    "Si queremos contestar la pregunta únicamente con el año, necesitamos extraer el año de la fecha y agregarlo al `DataFrame`."
   ]
  },
  {
   "cell_type": "code",
   "execution_count": 119,
   "metadata": {
    "ExecuteTime": {
     "end_time": "2022-09-15T20:30:06.956365Z",
     "start_time": "2022-09-15T20:30:06.951956Z"
    }
   },
   "outputs": [],
   "source": [
    "df['anio'] = df['fecha'].dt.year"
   ]
  },
  {
   "cell_type": "code",
   "execution_count": 120,
   "metadata": {
    "ExecuteTime": {
     "end_time": "2022-09-15T20:30:06.963417Z",
     "start_time": "2022-09-15T20:30:06.957763Z"
    }
   },
   "outputs": [
    {
     "data": {
      "text/plain": [
       "0        2012\n",
       "1        2007\n",
       "2        2009\n",
       "3        2006\n",
       "4        2008\n",
       "         ... \n",
       "35896    2018\n",
       "35897    2018\n",
       "35898    2015\n",
       "35899    2017\n",
       "35900    2018\n",
       "Name: anio, Length: 35901, dtype: int64"
      ]
     },
     "execution_count": 120,
     "metadata": {},
     "output_type": "execute_result"
    }
   ],
   "source": [
    "df['anio']"
   ]
  },
  {
   "cell_type": "markdown",
   "metadata": {},
   "source": [
    "Ya que la nueva columna se ha creado dentro del DataFrame, podemos ordenar los casos de personas desaparecidas por año."
   ]
  },
  {
   "cell_type": "code",
   "execution_count": 121,
   "metadata": {
    "ExecuteTime": {
     "end_time": "2022-09-15T20:30:06.976105Z",
     "start_time": "2022-09-15T20:30:06.966525Z"
    }
   },
   "outputs": [
    {
     "data": {
      "text/html": [
       "<div>\n",
       "<style scoped>\n",
       "    .dataframe tbody tr th:only-of-type {\n",
       "        vertical-align: middle;\n",
       "    }\n",
       "\n",
       "    .dataframe tbody tr th {\n",
       "        vertical-align: top;\n",
       "    }\n",
       "\n",
       "    .dataframe thead th {\n",
       "        text-align: right;\n",
       "    }\n",
       "</style>\n",
       "<table border=\"1\" class=\"dataframe\">\n",
       "  <thead>\n",
       "    <tr style=\"text-align: right;\">\n",
       "      <th></th>\n",
       "      <th>anio</th>\n",
       "      <th>total</th>\n",
       "    </tr>\n",
       "  </thead>\n",
       "  <tbody>\n",
       "    <tr>\n",
       "      <th>40</th>\n",
       "      <td>2017</td>\n",
       "      <td>5426</td>\n",
       "    </tr>\n",
       "    <tr>\n",
       "      <th>39</th>\n",
       "      <td>2016</td>\n",
       "      <td>4520</td>\n",
       "    </tr>\n",
       "    <tr>\n",
       "      <th>34</th>\n",
       "      <td>2011</td>\n",
       "      <td>4059</td>\n",
       "    </tr>\n",
       "    <tr>\n",
       "      <th>37</th>\n",
       "      <td>2014</td>\n",
       "      <td>3788</td>\n",
       "    </tr>\n",
       "    <tr>\n",
       "      <th>36</th>\n",
       "      <td>2013</td>\n",
       "      <td>3648</td>\n",
       "    </tr>\n",
       "    <tr>\n",
       "      <th>35</th>\n",
       "      <td>2012</td>\n",
       "      <td>3285</td>\n",
       "    </tr>\n",
       "    <tr>\n",
       "      <th>38</th>\n",
       "      <td>2015</td>\n",
       "      <td>3271</td>\n",
       "    </tr>\n",
       "    <tr>\n",
       "      <th>33</th>\n",
       "      <td>2010</td>\n",
       "      <td>3205</td>\n",
       "    </tr>\n",
       "    <tr>\n",
       "      <th>41</th>\n",
       "      <td>2018</td>\n",
       "      <td>1634</td>\n",
       "    </tr>\n",
       "    <tr>\n",
       "      <th>32</th>\n",
       "      <td>2009</td>\n",
       "      <td>1370</td>\n",
       "    </tr>\n",
       "    <tr>\n",
       "      <th>31</th>\n",
       "      <td>2008</td>\n",
       "      <td>798</td>\n",
       "    </tr>\n",
       "    <tr>\n",
       "      <th>30</th>\n",
       "      <td>2007</td>\n",
       "      <td>619</td>\n",
       "    </tr>\n",
       "    <tr>\n",
       "      <th>29</th>\n",
       "      <td>2006</td>\n",
       "      <td>89</td>\n",
       "    </tr>\n",
       "    <tr>\n",
       "      <th>28</th>\n",
       "      <td>2005</td>\n",
       "      <td>47</td>\n",
       "    </tr>\n",
       "    <tr>\n",
       "      <th>25</th>\n",
       "      <td>2002</td>\n",
       "      <td>19</td>\n",
       "    </tr>\n",
       "    <tr>\n",
       "      <th>23</th>\n",
       "      <td>2000</td>\n",
       "      <td>17</td>\n",
       "    </tr>\n",
       "    <tr>\n",
       "      <th>26</th>\n",
       "      <td>2003</td>\n",
       "      <td>16</td>\n",
       "    </tr>\n",
       "    <tr>\n",
       "      <th>27</th>\n",
       "      <td>2004</td>\n",
       "      <td>15</td>\n",
       "    </tr>\n",
       "    <tr>\n",
       "      <th>24</th>\n",
       "      <td>2001</td>\n",
       "      <td>13</td>\n",
       "    </tr>\n",
       "    <tr>\n",
       "      <th>21</th>\n",
       "      <td>1998</td>\n",
       "      <td>9</td>\n",
       "    </tr>\n",
       "    <tr>\n",
       "      <th>20</th>\n",
       "      <td>1997</td>\n",
       "      <td>8</td>\n",
       "    </tr>\n",
       "    <tr>\n",
       "      <th>22</th>\n",
       "      <td>1999</td>\n",
       "      <td>8</td>\n",
       "    </tr>\n",
       "    <tr>\n",
       "      <th>19</th>\n",
       "      <td>1996</td>\n",
       "      <td>5</td>\n",
       "    </tr>\n",
       "    <tr>\n",
       "      <th>12</th>\n",
       "      <td>1989</td>\n",
       "      <td>4</td>\n",
       "    </tr>\n",
       "    <tr>\n",
       "      <th>6</th>\n",
       "      <td>1979</td>\n",
       "      <td>3</td>\n",
       "    </tr>\n",
       "    <tr>\n",
       "      <th>16</th>\n",
       "      <td>1993</td>\n",
       "      <td>3</td>\n",
       "    </tr>\n",
       "    <tr>\n",
       "      <th>4</th>\n",
       "      <td>1977</td>\n",
       "      <td>2</td>\n",
       "    </tr>\n",
       "    <tr>\n",
       "      <th>9</th>\n",
       "      <td>1985</td>\n",
       "      <td>2</td>\n",
       "    </tr>\n",
       "    <tr>\n",
       "      <th>10</th>\n",
       "      <td>1987</td>\n",
       "      <td>2</td>\n",
       "    </tr>\n",
       "    <tr>\n",
       "      <th>11</th>\n",
       "      <td>1988</td>\n",
       "      <td>2</td>\n",
       "    </tr>\n",
       "    <tr>\n",
       "      <th>14</th>\n",
       "      <td>1991</td>\n",
       "      <td>2</td>\n",
       "    </tr>\n",
       "    <tr>\n",
       "      <th>18</th>\n",
       "      <td>1995</td>\n",
       "      <td>2</td>\n",
       "    </tr>\n",
       "    <tr>\n",
       "      <th>13</th>\n",
       "      <td>1990</td>\n",
       "      <td>1</td>\n",
       "    </tr>\n",
       "    <tr>\n",
       "      <th>1</th>\n",
       "      <td>1971</td>\n",
       "      <td>1</td>\n",
       "    </tr>\n",
       "    <tr>\n",
       "      <th>15</th>\n",
       "      <td>1992</td>\n",
       "      <td>1</td>\n",
       "    </tr>\n",
       "    <tr>\n",
       "      <th>8</th>\n",
       "      <td>1984</td>\n",
       "      <td>1</td>\n",
       "    </tr>\n",
       "    <tr>\n",
       "      <th>7</th>\n",
       "      <td>1980</td>\n",
       "      <td>1</td>\n",
       "    </tr>\n",
       "    <tr>\n",
       "      <th>17</th>\n",
       "      <td>1994</td>\n",
       "      <td>1</td>\n",
       "    </tr>\n",
       "    <tr>\n",
       "      <th>5</th>\n",
       "      <td>1978</td>\n",
       "      <td>1</td>\n",
       "    </tr>\n",
       "    <tr>\n",
       "      <th>3</th>\n",
       "      <td>1976</td>\n",
       "      <td>1</td>\n",
       "    </tr>\n",
       "    <tr>\n",
       "      <th>2</th>\n",
       "      <td>1972</td>\n",
       "      <td>1</td>\n",
       "    </tr>\n",
       "    <tr>\n",
       "      <th>0</th>\n",
       "      <td>1968</td>\n",
       "      <td>1</td>\n",
       "    </tr>\n",
       "  </tbody>\n",
       "</table>\n",
       "</div>"
      ],
      "text/plain": [
       "    anio  total\n",
       "40  2017   5426\n",
       "39  2016   4520\n",
       "34  2011   4059\n",
       "37  2014   3788\n",
       "36  2013   3648\n",
       "35  2012   3285\n",
       "38  2015   3271\n",
       "33  2010   3205\n",
       "41  2018   1634\n",
       "32  2009   1370\n",
       "31  2008    798\n",
       "30  2007    619\n",
       "29  2006     89\n",
       "28  2005     47\n",
       "25  2002     19\n",
       "23  2000     17\n",
       "26  2003     16\n",
       "27  2004     15\n",
       "24  2001     13\n",
       "21  1998      9\n",
       "20  1997      8\n",
       "22  1999      8\n",
       "19  1996      5\n",
       "12  1989      4\n",
       "6   1979      3\n",
       "16  1993      3\n",
       "4   1977      2\n",
       "9   1985      2\n",
       "10  1987      2\n",
       "11  1988      2\n",
       "14  1991      2\n",
       "18  1995      2\n",
       "13  1990      1\n",
       "1   1971      1\n",
       "15  1992      1\n",
       "8   1984      1\n",
       "7   1980      1\n",
       "17  1994      1\n",
       "5   1978      1\n",
       "3   1976      1\n",
       "2   1972      1\n",
       "0   1968      1"
      ]
     },
     "execution_count": 121,
     "metadata": {},
     "output_type": "execute_result"
    }
   ],
   "source": [
    "df_anio= df.groupby(['anio'], sort=True).size().reset_index(name='total')\n",
    "df_anio.sort_values('total',ascending=False)"
   ]
  },
  {
   "cell_type": "markdown",
   "metadata": {},
   "source": [
    "> El año con el mayor número de casos de personas desaparecidas fue el 2017 con 5,426. Los resultados obtenidos respaldan la información investigada para el proyecto. Los primeros 13 lugares de la lista son años del 2006 en adelante, que es cuando inicia la crisis de desaparecidos y el aumento más rápido de casos de personas desaparecidas en la historia de México (desde que se inició el registro de personas desaparecidas)."
   ]
  },
  {
   "cell_type": "markdown",
   "metadata": {},
   "source": [
    "**Preguntas sin respuesta**\n",
    "\n",
    "---"
   ]
  },
  {
   "cell_type": "markdown",
   "metadata": {},
   "source": [
    "Con el registro de datos seleccionado logramos contestar la mayoría de las preguntas que nos propusimos al inicio del proyecto. Sin embargo quedaron un par de preguntas sin respuesta:\n",
    "\n",
    "\n",
    "*   **¿Cuántas personas desaparecidas son encontradas?**\n",
    "\n",
    "*   **¿Existe un identificador para las personas desaparecidas?**\n",
    "\n",
    "En el registro no existe una columna que tenga el estado del caso o la carpeta de investigación, por lo que no se sabe cuántas personas se han encontrado. Adicionalmente, no existe un identificador para las personas desaparecidas, lo cual sería un dato importante para poder identificar casos específicos de manera más fácil. Esto podría fungir como llave primaria en análisis más complejos de los datos presentados."
   ]
  },
  {
   "cell_type": "markdown",
   "metadata": {},
   "source": [
    "## Exportar DataFrame resultante a CSV"
   ]
  },
  {
   "cell_type": "markdown",
   "metadata": {},
   "source": [
    "Antes de guardar nuestro DataFrame final vamos a reordenar nuestras columnas para que nuestros datos tengan un mejor orden."
   ]
  },
  {
   "cell_type": "code",
   "execution_count": 122,
   "metadata": {
    "ExecuteTime": {
     "end_time": "2022-09-15T20:30:07.003804Z",
     "start_time": "2022-09-15T20:30:06.977557Z"
    }
   },
   "outputs": [
    {
     "data": {
      "text/html": [
       "<div>\n",
       "<style scoped>\n",
       "    .dataframe tbody tr th:only-of-type {\n",
       "        vertical-align: middle;\n",
       "    }\n",
       "\n",
       "    .dataframe tbody tr th {\n",
       "        vertical-align: top;\n",
       "    }\n",
       "\n",
       "    .dataframe thead th {\n",
       "        text-align: right;\n",
       "    }\n",
       "</style>\n",
       "<table border=\"1\" class=\"dataframe\">\n",
       "  <thead>\n",
       "    <tr style=\"text-align: right;\">\n",
       "      <th></th>\n",
       "      <th>anio</th>\n",
       "      <th>fecha</th>\n",
       "      <th>hora</th>\n",
       "      <th>dias_desaparecido</th>\n",
       "      <th>entidad</th>\n",
       "      <th>municipio</th>\n",
       "      <th>localidad</th>\n",
       "      <th>coordenadas</th>\n",
       "      <th>nacionalidad</th>\n",
       "      <th>sexo</th>\n",
       "      <th>edad</th>\n",
       "      <th>estatura</th>\n",
       "      <th>complexion</th>\n",
       "      <th>senas_particulares</th>\n",
       "      <th>discapacidad</th>\n",
       "      <th>dependecia_origen</th>\n",
       "    </tr>\n",
       "  </thead>\n",
       "  <tbody>\n",
       "    <tr>\n",
       "      <th>0</th>\n",
       "      <td>2012</td>\n",
       "      <td>2012-03-18</td>\n",
       "      <td>05:00:00</td>\n",
       "      <td>2234</td>\n",
       "      <td>Sonora</td>\n",
       "      <td>Navojoa</td>\n",
       "      <td>Navojoa</td>\n",
       "      <td>27.069053, -109.439423</td>\n",
       "      <td>Mexicana</td>\n",
       "      <td>Mujer</td>\n",
       "      <td>7</td>\n",
       "      <td>1.10</td>\n",
       "      <td>Delgada</td>\n",
       "      <td>Tiene Una Cicatriz En La Rodilla Izquierda Por...</td>\n",
       "      <td>Ninguno</td>\n",
       "      <td>FGE - Sonora</td>\n",
       "    </tr>\n",
       "    <tr>\n",
       "      <th>1</th>\n",
       "      <td>2007</td>\n",
       "      <td>2007-02-05</td>\n",
       "      <td>02:00:26</td>\n",
       "      <td>4102</td>\n",
       "      <td>Estado De Mexico</td>\n",
       "      <td>Valle De Bravo</td>\n",
       "      <td>Valle De Bravo</td>\n",
       "      <td>19.16368, -100.134684</td>\n",
       "      <td>Mexicana</td>\n",
       "      <td>Mujer</td>\n",
       "      <td>4</td>\n",
       "      <td>1.10</td>\n",
       "      <td>Delgada</td>\n",
       "      <td>No Especificado</td>\n",
       "      <td>Ninguno</td>\n",
       "      <td>FGJ - Estado De Mexico</td>\n",
       "    </tr>\n",
       "    <tr>\n",
       "      <th>2</th>\n",
       "      <td>2009</td>\n",
       "      <td>2009-03-14</td>\n",
       "      <td>08:30:54</td>\n",
       "      <td>3334</td>\n",
       "      <td>Estado De Mexico</td>\n",
       "      <td>Chalco</td>\n",
       "      <td>Chalco</td>\n",
       "      <td>19.266337, -98.8978</td>\n",
       "      <td>Mexicana</td>\n",
       "      <td>Hombre</td>\n",
       "      <td>6</td>\n",
       "      <td>1.10</td>\n",
       "      <td>Delgada</td>\n",
       "      <td>Manchas, Parte Superior De Pierna Derecha, Cic...</td>\n",
       "      <td>Ninguno</td>\n",
       "      <td>FGJ - Estado De Mexico</td>\n",
       "    </tr>\n",
       "    <tr>\n",
       "      <th>3</th>\n",
       "      <td>2006</td>\n",
       "      <td>2006-12-23</td>\n",
       "      <td>08:00:28</td>\n",
       "      <td>4146</td>\n",
       "      <td>Estado De Mexico</td>\n",
       "      <td>Tlalnepantla De Baz</td>\n",
       "      <td>Tlalnepantla De Baz</td>\n",
       "      <td>19.547512, -99.193851</td>\n",
       "      <td>Mexicana</td>\n",
       "      <td>Hombre</td>\n",
       "      <td>10</td>\n",
       "      <td>1.10</td>\n",
       "      <td>Delgada</td>\n",
       "      <td>Lunares, A La Altura De La Cinturaforma De Man...</td>\n",
       "      <td>Ninguno</td>\n",
       "      <td>FGJ - Estado De Mexico</td>\n",
       "    </tr>\n",
       "    <tr>\n",
       "      <th>4</th>\n",
       "      <td>2008</td>\n",
       "      <td>2008-01-11</td>\n",
       "      <td>12:00:17</td>\n",
       "      <td>3762</td>\n",
       "      <td>Estado De Mexico</td>\n",
       "      <td>Toluca</td>\n",
       "      <td>Toluca</td>\n",
       "      <td>18.078, -91.6552</td>\n",
       "      <td>Mexicana</td>\n",
       "      <td>Hombre</td>\n",
       "      <td>4</td>\n",
       "      <td>1.10</td>\n",
       "      <td>Delgada</td>\n",
       "      <td>No Especificado</td>\n",
       "      <td>Ninguno</td>\n",
       "      <td>FGJ - Estado De Mexico</td>\n",
       "    </tr>\n",
       "    <tr>\n",
       "      <th>...</th>\n",
       "      <td>...</td>\n",
       "      <td>...</td>\n",
       "      <td>...</td>\n",
       "      <td>...</td>\n",
       "      <td>...</td>\n",
       "      <td>...</td>\n",
       "      <td>...</td>\n",
       "      <td>...</td>\n",
       "      <td>...</td>\n",
       "      <td>...</td>\n",
       "      <td>...</td>\n",
       "      <td>...</td>\n",
       "      <td>...</td>\n",
       "      <td>...</td>\n",
       "      <td>...</td>\n",
       "      <td>...</td>\n",
       "    </tr>\n",
       "    <tr>\n",
       "      <th>35896</th>\n",
       "      <td>2018</td>\n",
       "      <td>2018-04-26</td>\n",
       "      <td>08:00:00</td>\n",
       "      <td>4</td>\n",
       "      <td>Puebla</td>\n",
       "      <td>Puebla</td>\n",
       "      <td>Puebla</td>\n",
       "      <td>19.051201, -98.212116</td>\n",
       "      <td>Mexicana</td>\n",
       "      <td>Hombre</td>\n",
       "      <td>22</td>\n",
       "      <td>1.60</td>\n",
       "      <td>Delgada</td>\n",
       "      <td>Lunar En La Mejilla Y Tatuaje En El Cuello En ...</td>\n",
       "      <td>Ninguno</td>\n",
       "      <td>FGE - Puebla</td>\n",
       "    </tr>\n",
       "    <tr>\n",
       "      <th>35897</th>\n",
       "      <td>2018</td>\n",
       "      <td>2018-01-08</td>\n",
       "      <td>11:00:00</td>\n",
       "      <td>112</td>\n",
       "      <td>Colima</td>\n",
       "      <td>Villa De Alvarez</td>\n",
       "      <td>Villa De Alvarez</td>\n",
       "      <td>19.25, -103.73333</td>\n",
       "      <td>Mexicana</td>\n",
       "      <td>Mujer</td>\n",
       "      <td>27</td>\n",
       "      <td>1.70</td>\n",
       "      <td>Robusta</td>\n",
       "      <td>El Ojo Izquierdo Tiene Un Enfermedad Como Tic,...</td>\n",
       "      <td>Ninguno</td>\n",
       "      <td>PGJ - Colima</td>\n",
       "    </tr>\n",
       "    <tr>\n",
       "      <th>35898</th>\n",
       "      <td>2015</td>\n",
       "      <td>2015-02-02</td>\n",
       "      <td>07:00:00</td>\n",
       "      <td>1183</td>\n",
       "      <td>Puebla</td>\n",
       "      <td>Chila</td>\n",
       "      <td>Chilas De Las Flores</td>\n",
       "      <td>17.965896, -97.864616</td>\n",
       "      <td>Mexicana</td>\n",
       "      <td>Mujer</td>\n",
       "      <td>86</td>\n",
       "      <td>1.77</td>\n",
       "      <td>Mediana</td>\n",
       "      <td>No Especificado</td>\n",
       "      <td>Ninguno</td>\n",
       "      <td>FGE - Puebla</td>\n",
       "    </tr>\n",
       "    <tr>\n",
       "      <th>35899</th>\n",
       "      <td>2017</td>\n",
       "      <td>2017-08-22</td>\n",
       "      <td>04:00:00</td>\n",
       "      <td>251</td>\n",
       "      <td>Colima</td>\n",
       "      <td>Villa De Alvarez</td>\n",
       "      <td>Villa De Alvarez</td>\n",
       "      <td>19.25, -103.73333</td>\n",
       "      <td>Mexicana</td>\n",
       "      <td>Hombre</td>\n",
       "      <td>41</td>\n",
       "      <td>1.76</td>\n",
       "      <td>Robusta</td>\n",
       "      <td>Tatuaje En El Brazo Izquierdo Con La Imagen De...</td>\n",
       "      <td>Ninguno</td>\n",
       "      <td>PGJ - Colima</td>\n",
       "    </tr>\n",
       "    <tr>\n",
       "      <th>35900</th>\n",
       "      <td>2018</td>\n",
       "      <td>2018-04-11</td>\n",
       "      <td>02:00:00</td>\n",
       "      <td>19</td>\n",
       "      <td>Nuevo Leon</td>\n",
       "      <td>San Nicolas De Los Garza</td>\n",
       "      <td>San Nicolas De Los Garza</td>\n",
       "      <td>25.738505, -100.280753</td>\n",
       "      <td>Mexicana</td>\n",
       "      <td>Mujer</td>\n",
       "      <td>14</td>\n",
       "      <td>1.60</td>\n",
       "      <td>Delgada</td>\n",
       "      <td>No Especificado</td>\n",
       "      <td>Ninguno</td>\n",
       "      <td>PGJ - Nuevo Leon</td>\n",
       "    </tr>\n",
       "  </tbody>\n",
       "</table>\n",
       "<p>35901 rows × 16 columns</p>\n",
       "</div>"
      ],
      "text/plain": [
       "       anio      fecha      hora  dias_desaparecido           entidad  \\\n",
       "0      2012 2012-03-18  05:00:00               2234            Sonora   \n",
       "1      2007 2007-02-05  02:00:26               4102  Estado De Mexico   \n",
       "2      2009 2009-03-14  08:30:54               3334  Estado De Mexico   \n",
       "3      2006 2006-12-23  08:00:28               4146  Estado De Mexico   \n",
       "4      2008 2008-01-11  12:00:17               3762  Estado De Mexico   \n",
       "...     ...        ...       ...                ...               ...   \n",
       "35896  2018 2018-04-26  08:00:00                  4            Puebla   \n",
       "35897  2018 2018-01-08  11:00:00                112            Colima   \n",
       "35898  2015 2015-02-02  07:00:00               1183            Puebla   \n",
       "35899  2017 2017-08-22  04:00:00                251            Colima   \n",
       "35900  2018 2018-04-11  02:00:00                 19        Nuevo Leon   \n",
       "\n",
       "                      municipio                 localidad  \\\n",
       "0                       Navojoa                   Navojoa   \n",
       "1                Valle De Bravo            Valle De Bravo   \n",
       "2                        Chalco                    Chalco   \n",
       "3           Tlalnepantla De Baz       Tlalnepantla De Baz   \n",
       "4                        Toluca                    Toluca   \n",
       "...                         ...                       ...   \n",
       "35896                    Puebla                    Puebla   \n",
       "35897          Villa De Alvarez          Villa De Alvarez   \n",
       "35898                     Chila      Chilas De Las Flores   \n",
       "35899          Villa De Alvarez          Villa De Alvarez   \n",
       "35900  San Nicolas De Los Garza  San Nicolas De Los Garza   \n",
       "\n",
       "                  coordenadas nacionalidad    sexo  edad  estatura complexion  \\\n",
       "0      27.069053, -109.439423     Mexicana   Mujer     7      1.10    Delgada   \n",
       "1       19.16368, -100.134684     Mexicana   Mujer     4      1.10    Delgada   \n",
       "2         19.266337, -98.8978     Mexicana  Hombre     6      1.10    Delgada   \n",
       "3       19.547512, -99.193851     Mexicana  Hombre    10      1.10    Delgada   \n",
       "4            18.078, -91.6552     Mexicana  Hombre     4      1.10    Delgada   \n",
       "...                       ...          ...     ...   ...       ...        ...   \n",
       "35896   19.051201, -98.212116     Mexicana  Hombre    22      1.60    Delgada   \n",
       "35897       19.25, -103.73333     Mexicana   Mujer    27      1.70    Robusta   \n",
       "35898   17.965896, -97.864616     Mexicana   Mujer    86      1.77    Mediana   \n",
       "35899       19.25, -103.73333     Mexicana  Hombre    41      1.76    Robusta   \n",
       "35900  25.738505, -100.280753     Mexicana   Mujer    14      1.60    Delgada   \n",
       "\n",
       "                                      senas_particulares discapacidad  \\\n",
       "0      Tiene Una Cicatriz En La Rodilla Izquierda Por...      Ninguno   \n",
       "1                                        No Especificado      Ninguno   \n",
       "2      Manchas, Parte Superior De Pierna Derecha, Cic...      Ninguno   \n",
       "3      Lunares, A La Altura De La Cinturaforma De Man...      Ninguno   \n",
       "4                                        No Especificado      Ninguno   \n",
       "...                                                  ...          ...   \n",
       "35896  Lunar En La Mejilla Y Tatuaje En El Cuello En ...      Ninguno   \n",
       "35897  El Ojo Izquierdo Tiene Un Enfermedad Como Tic,...      Ninguno   \n",
       "35898                                    No Especificado      Ninguno   \n",
       "35899  Tatuaje En El Brazo Izquierdo Con La Imagen De...      Ninguno   \n",
       "35900                                    No Especificado      Ninguno   \n",
       "\n",
       "            dependecia_origen  \n",
       "0                FGE - Sonora  \n",
       "1      FGJ - Estado De Mexico  \n",
       "2      FGJ - Estado De Mexico  \n",
       "3      FGJ - Estado De Mexico  \n",
       "4      FGJ - Estado De Mexico  \n",
       "...                       ...  \n",
       "35896            FGE - Puebla  \n",
       "35897            PGJ - Colima  \n",
       "35898            FGE - Puebla  \n",
       "35899            PGJ - Colima  \n",
       "35900        PGJ - Nuevo Leon  \n",
       "\n",
       "[35901 rows x 16 columns]"
      ]
     },
     "execution_count": 122,
     "metadata": {},
     "output_type": "execute_result"
    }
   ],
   "source": [
    "df = df[['anio', 'fecha', 'hora', 'dias_desaparecido', \n",
    "         'entidad', 'municipio', 'localidad', 'coordenadas', 'nacionalidad',\n",
    "         'sexo', 'edad', 'estatura', 'complexion', 'senas_particulares','discapacidad', 'dependecia_origen']]\n",
    "df"
   ]
  },
  {
   "cell_type": "markdown",
   "metadata": {},
   "source": [
    "Finalmente, el DataFrame resultante se puede exportar como archivo `.csv`."
   ]
  },
  {
   "cell_type": "code",
   "execution_count": 123,
   "metadata": {
    "ExecuteTime": {
     "end_time": "2022-09-15T20:30:07.426433Z",
     "start_time": "2022-09-15T20:30:07.005916Z"
    }
   },
   "outputs": [],
   "source": [
    "df.to_csv('RNPEDFC_Final.csv', index=False, encoding='ISO-8859-1')"
   ]
  },
  {
   "cell_type": "markdown",
   "metadata": {},
   "source": [
    "*Hagamos conciencia y cooperemos con nuestra sociedad y gobierno para disminuir en medida de lo posible y de nuestra seguridad este delito, reportando los hechos que nos parezcan sospechosos*. Muchas Gracias.\n",
    "\n",
    "\n",
    "**Equipo 8**\n",
    "*   Nicky García Fierros (nickygarcia@ciencias.unam.mx)\n",
    "*   Kevin Martin Rivera Castro (kevinrc.unam@gmail.com)\n",
    "*   Jesús Manuel Jimenez Cardoza (chucho003@hotmail.com)\n",
    "*   Minerva Estefanía Núñez Manjarrez (estefania.nun.man@gmail.com)\n",
    "*   Luis Mateo Patricio Pineda (mateopa@gmail.com)\n"
   ]
  }
 ],
 "metadata": {
  "colab": {
   "authorship_tag": "ABX9TyPFF9YwPeiZGHJ9Z8OIAqfj",
   "include_colab_link": true,
   "provenance": []
  },
  "kernelspec": {
   "display_name": "Python 3 (ipykernel)",
   "language": "python",
   "name": "python3"
  },
  "language_info": {
   "codemirror_mode": {
    "name": "ipython",
    "version": 3
   },
   "file_extension": ".py",
   "mimetype": "text/x-python",
   "name": "python",
   "nbconvert_exporter": "python",
   "pygments_lexer": "ipython3",
   "version": "3.10.4"
  },
  "toc": {
   "base_numbering": 1,
   "nav_menu": {},
   "number_sections": false,
   "sideBar": true,
   "skip_h1_title": false,
   "title_cell": "Table of Contents",
   "title_sidebar": "Contents",
   "toc_cell": false,
   "toc_position": {
    "height": "calc(100% - 180px)",
    "left": "10px",
    "top": "150px",
    "width": "384px"
   },
   "toc_section_display": true,
   "toc_window_display": true
  },
  "varInspector": {
   "cols": {
    "lenName": 16,
    "lenType": 16,
    "lenVar": 40
   },
   "kernels_config": {
    "python": {
     "delete_cmd_postfix": "",
     "delete_cmd_prefix": "del ",
     "library": "var_list.py",
     "varRefreshCmd": "print(var_dic_list())"
    },
    "r": {
     "delete_cmd_postfix": ") ",
     "delete_cmd_prefix": "rm(",
     "library": "var_list.r",
     "varRefreshCmd": "cat(var_dic_list()) "
    }
   },
   "types_to_exclude": [
    "module",
    "function",
    "builtin_function_or_method",
    "instance",
    "_Feature"
   ],
   "window_display": false
  }
 },
 "nbformat": 4,
 "nbformat_minor": 1
}
