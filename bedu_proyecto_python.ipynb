{
  "nbformat": 4,
  "nbformat_minor": 0,
  "metadata": {
    "colab": {
      "provenance": [],
      "authorship_tag": "ABX9TyPFF9YwPeiZGHJ9Z8OIAqfj",
      "include_colab_link": true
    },
    "kernelspec": {
      "name": "python3",
      "display_name": "Python 3"
    },
    "language_info": {
      "name": "python"
    }
  },
  "cells": [
    {
      "cell_type": "markdown",
      "metadata": {
        "id": "view-in-github",
        "colab_type": "text"
      },
      "source": [
        "<a href=\"https://colab.research.google.com/github/MinervaNunez/Proyecto-de-Python-BEDU/blob/main/bedu_proyecto_python.ipynb\" target=\"_parent\"><img src=\"https://colab.research.google.com/assets/colab-badge.svg\" alt=\"Open In Colab\"/></a>"
      ]
    },
    {
      "cell_type": "markdown",
      "source": [
        "**Proyecto de Python Equipo 8**\n",
        "\n",
        "\n",
        "¿Cuál es el registro de personas extraviadas o desaparecidas en México durante el periodo comprendido de 1968 – 2018?"
      ],
      "metadata": {
        "id": "j4pLbdnVBPPd"
      }
    },
    {
      "cell_type": "code",
      "source": [],
      "metadata": {
        "id": "RnlcqXMyCdpw"
      },
      "execution_count": null,
      "outputs": []
    }
  ]
}